{
 "cells": [
  {
   "cell_type": "code",
   "execution_count": 1,
   "metadata": {},
   "outputs": [],
   "source": [
    "import numpy as np\n",
    "import pandas as pd\n",
    "import matplotlib.pyplot as plt\n",
    "import seaborn as sns\n",
    "import os\n",
    "%matplotlib inline\n",
    "INPUT_DIR = \"/work/signate_practice/football_forecasting/data\"\n",
    "sns.set()\n",
    "import warnings\n",
    "import japanize_matplotlib\n",
    "import re\n",
    "warnings.filterwarnings(\"ignore\")\n",
    "os.chdir(INPUT_DIR)"
   ]
  },
  {
   "cell_type": "code",
   "execution_count": 2,
   "metadata": {},
   "outputs": [],
   "source": [
    "train = pd.read_csv(\"train.csv\")\n",
    "train_add = pd.read_csv(\"train_add.csv\")\n",
    "condition = pd.read_csv(\"condition.csv\")\n",
    "condition_add = pd.read_csv(\"condition_add.csv\")\n",
    "stadium = pd.read_csv(\"stadium.csv\")\n",
    "test = pd.read_csv(\"test.csv\")"
   ]
  },
  {
   "cell_type": "code",
   "execution_count": 3,
   "metadata": {},
   "outputs": [],
   "source": [
    "train = pd.concat([train, train_add])\n",
    "condition = pd.concat([condition, condition_add])"
   ]
  },
  {
   "cell_type": "code",
   "execution_count": 4,
   "metadata": {},
   "outputs": [
    {
     "name": "stdout",
     "output_type": "stream",
     "text": [
      "(1953, 11)\n",
      "(313, 10)\n",
      "(2304, 31)\n"
     ]
    }
   ],
   "source": [
    "print(train.shape)\n",
    "print(test.shape)\n",
    "print(condition.shape)"
   ]
  },
  {
   "cell_type": "code",
   "execution_count": 5,
   "metadata": {},
   "outputs": [],
   "source": [
    "train = pd.merge(train, condition, on=\"id\", how=\"left\")\n",
    "test = pd.merge(test, condition, on=\"id\", how=\"left\")\n",
    "train = pd.merge(train, stadium, left_on=\"stadium\", right_on=\"name\", how=\"left\")\n",
    "test = pd.merge(test, stadium, left_on=\"stadium\", right_on=\"name\", how=\"left\")"
   ]
  },
  {
   "cell_type": "code",
   "execution_count": 6,
   "metadata": {},
   "outputs": [
    {
     "name": "stdout",
     "output_type": "stream",
     "text": [
      "(1953, 43)\n",
      "(1952, 43)\n"
     ]
    }
   ],
   "source": [
    "train = train.drop(\"name\", axis=1)\n",
    "test = test.drop(\"name\", axis=1)\n",
    "print(train.shape)\n",
    "train = train[train[\"y\"] > 0]\n",
    "print(train.shape)"
   ]
  },
  {
   "cell_type": "code",
   "execution_count": 7,
   "metadata": {},
   "outputs": [],
   "source": [
    "combine = pd.concat([train, test])"
   ]
  },
  {
   "cell_type": "code",
   "execution_count": 8,
   "metadata": {},
   "outputs": [],
   "source": [
    "def get_month(x):\n",
    "    return int(x[0:2])\n",
    "def get_week(x):\n",
    "    return x[6:7]\n",
    "def get_match(x):\n",
    "    return int(x[x.find(\"第\")+1:x.find(\"節\")])\n",
    "def get_humidity(x):\n",
    "    return int(x[:-1]) / 100\n",
    "def get_first_weather(x):\n",
    "    return x[0]\n",
    "def get_num(x):\n",
    "    return len(x.split(\"／\"))\n",
    "def get_prefecture(x):\n",
    "    if re.search(\"県\", x):\n",
    "        return x[:x.find(\"県\")+1]\n",
    "    elif re.search(\"都\", x):\n",
    "        return x[:x.find(\"都\")+1]\n",
    "    elif re.search(\"府\", x):\n",
    "        return x[:x.find(\"府\")+1]\n",
    "    elif re.search(\"道\", x):\n",
    "        return x[:x.find(\"道\")+1]"
   ]
  },
  {
   "cell_type": "code",
   "execution_count": 9,
   "metadata": {},
   "outputs": [],
   "source": [
    "combine[\"month\"] = combine[\"gameday\"].apply(get_month)\n",
    "combine[\"week\"] = combine[\"gameday\"].apply(get_week)\n",
    "combine[\"match_num\"] = combine[\"match\"].apply(get_match)\n",
    "combine[\"humidity\"] = combine[\"humidity\"].apply(get_humidity)\n",
    "combine[\"main_weather\"] = combine[\"weather\"].apply(get_first_weather)\n",
    "combine[\"tv_num\"] = combine[\"tv\"].apply(get_num)\n",
    "combine[\"prefecture\"] = combine[\"address\"].apply(get_prefecture)"
   ]
  },
  {
   "cell_type": "code",
   "execution_count": 10,
   "metadata": {},
   "outputs": [],
   "source": [
    "combine[\"di\"] = 0.81*combine[\"temperature\"]+0.01*combine[\"humidity\"]*(0.99*combine[\"temperature\"]-14.3)+46.3"
   ]
  },
  {
   "cell_type": "code",
   "execution_count": 11,
   "metadata": {},
   "outputs": [],
   "source": [
    "combine[\"away\"] = combine[\"away\"].replace(\"ザスパ草津\", \"ザスパクサツ群馬\")\n",
    "combine[\"home\"] = combine[\"home\"].replace(\"ザスパ草津\", \"ザスパクサツ群馬\")"
   ]
  },
  {
   "cell_type": "code",
   "execution_count": 12,
   "metadata": {},
   "outputs": [],
   "source": [
    "def whether_saturday_or_not(x):\n",
    "    if x == \"土\":\n",
    "        return 1\n",
    "    else:\n",
    "        return 0\n",
    "    \n",
    "def sun_or_rain(x):\n",
    "    if x == \"晴\" or x == \"曇\":\n",
    "        return 0\n",
    "    else:\n",
    "        return 1\n",
    "    \n"
   ]
  },
  {
   "cell_type": "code",
   "execution_count": 13,
   "metadata": {},
   "outputs": [],
   "source": [
    "combine[\"Saturday\"] = combine[\"week\"].apply(whether_saturday_or_not)\n",
    "# combine[\"sun_or_rain\"] = combine[\"main_weather\"].apply(sun_or_rain)\n",
    "# combine[\"last_match\"] = 0\n",
    "# combine[\"last_match\"][(combine[\"match_num\"] == 33) | (combine[\"match_num\"] == 34) & (combine[\"stage\"] == \"Ｊ１\")] = 1\n",
    "# combine[\"last_match\"][(combine[\"match_num\"] == 41) | (combine[\"match_num\"] == 42) & (combine[\"stage\"] == \"Ｊ２\")] = 2\n",
    "combine[\"score_diff\"] = combine[\"home_score\"] - combine[\"away_score\"]\n",
    "\n",
    "# combine[\"forlan\"] = 0\n",
    "# combine[\"forlan\"][(combine[\"away\"] == \"セレッソ大阪\") & (combine[\"year\"] == 2014)] = 999"
   ]
  },
  {
   "cell_type": "code",
   "execution_count": 14,
   "metadata": {},
   "outputs": [],
   "source": [
    "# import math\n",
    "# def get_abs(x):\n",
    "#     return np.abs(x)\n",
    "# combine[\"score_diff\"] = combine[\"score_diff\"].apply(get_abs)\n",
    "\n",
    "# def high_diff(x):\n",
    "#     if x >= 4:\n",
    "#         return 0\n",
    "#     else:\n",
    "#         return 1\n",
    "# combine[\"high_diff_score\"] = combine[\"score_diff\"].apply(high_diff)\n",
    "\n"
   ]
  },
  {
   "cell_type": "code",
   "execution_count": 15,
   "metadata": {},
   "outputs": [],
   "source": [
    "drop_column = [\"id\", \"home_team\", \"away_team\", \"home_01\", \n",
    "                \"home_02\", \"home_03\", \"home_04\", \"home_05\", \"home_06\", \"home_07\", \"home_08\", \"home_09\",\n",
    "                \"home_10\", \"home_11\",\"away_01\", \"away_02\", \"away_03\", \"away_04\", \"away_05\", \"away_06\",\n",
    "                \"away_07\", \"away_08\", \"away_09\", \"away_10\", \"away_11\"]\n",
    "combine = combine.drop(columns=drop_column, axis=1)"
   ]
  },
  {
   "cell_type": "code",
   "execution_count": 16,
   "metadata": {},
   "outputs": [
    {
     "data": {
      "text/plain": [
       "(2265, 27)"
      ]
     },
     "execution_count": 16,
     "metadata": {},
     "output_type": "execute_result"
    }
   ],
   "source": [
    "combine.shape"
   ]
  },
  {
   "cell_type": "code",
   "execution_count": 17,
   "metadata": {},
   "outputs": [],
   "source": [
    "remove_column = [\"match\", \"week\", \"main_weather\", \"stage\", \"prefecture\", \"stadium\", \"gameday\", \"time\", \"home\", \"away\", \"weather\", \n",
    "                 \"address\", \"referee\", \"tv\", \"temperature\", \"humidity\", 'di', \"away\"]\n",
    "df = combine.drop(columns=remove_column, axis=1)"
   ]
  },
  {
   "cell_type": "code",
   "execution_count": 18,
   "metadata": {},
   "outputs": [
    {
     "data": {
      "text/plain": [
       "(1952, 43)"
      ]
     },
     "execution_count": 18,
     "metadata": {},
     "output_type": "execute_result"
    }
   ],
   "source": [
    "train.shape"
   ]
  },
  {
   "cell_type": "code",
   "execution_count": 19,
   "metadata": {},
   "outputs": [],
   "source": [
    "train = df.iloc[:1952, :]\n",
    "test = df.iloc[1952:, :]"
   ]
  },
  {
   "cell_type": "code",
   "execution_count": 20,
   "metadata": {},
   "outputs": [
    {
     "name": "stdout",
     "output_type": "stream",
     "text": [
      "(1952, 10)\n",
      "(313, 10)\n"
     ]
    }
   ],
   "source": [
    "print(train.shape)\n",
    "print(test.shape)"
   ]
  },
  {
   "cell_type": "code",
   "execution_count": 21,
   "metadata": {},
   "outputs": [
    {
     "data": {
      "text/plain": [
       "0"
      ]
     },
     "execution_count": 21,
     "metadata": {},
     "output_type": "execute_result"
    }
   ],
   "source": [
    "train[\"y\"].isnull().sum()"
   ]
  },
  {
   "cell_type": "code",
   "execution_count": 22,
   "metadata": {},
   "outputs": [],
   "source": [
    "X = train.drop([\"y\"], axis=1)\n",
    "Y = train[\"y\"]\n",
    "test_x = test.drop([\"y\"], axis=1)"
   ]
  },
  {
   "cell_type": "code",
   "execution_count": 23,
   "metadata": {},
   "outputs": [
    {
     "name": "stdout",
     "output_type": "stream",
     "text": [
      "(1952, 9)\n",
      "(1952,)\n"
     ]
    }
   ],
   "source": [
    "print(X.shape)\n",
    "print(Y.shape)"
   ]
  },
  {
   "cell_type": "code",
   "execution_count": 24,
   "metadata": {},
   "outputs": [],
   "source": [
    "from sklearn.model_selection import train_test_split\n",
    "X_train, X_test, y_train, y_test = train_test_split(X, Y, random_state=0)"
   ]
  },
  {
   "cell_type": "code",
   "execution_count": 25,
   "metadata": {},
   "outputs": [
    {
     "name": "stdout",
     "output_type": "stream",
     "text": [
      "(1464, 9) (488, 9) (1464,) (488,)\n"
     ]
    }
   ],
   "source": [
    "print(X_train.shape, X_test.shape, y_train.shape, y_test.shape)"
   ]
  },
  {
   "cell_type": "code",
   "execution_count": 41,
   "metadata": {},
   "outputs": [],
   "source": [
    "from sklearn.linear_model import LinearRegression\n",
    "from sklearn.ensemble import RandomForestRegressor\n",
    "from lightgbm import LGBMRegressor as lgb\n",
    "import lightgbm as lgb\n",
    "from sklearn.metrics import mean_squared_error"
   ]
  },
  {
   "cell_type": "code",
   "execution_count": 58,
   "metadata": {},
   "outputs": [],
   "source": [
    "train_data = lgb.Dataset(X_train, y_train)\n",
    "eval_data = lgb.Dataset(X_test, y_test, reference=train_data)"
   ]
  },
  {
   "cell_type": "code",
   "execution_count": 59,
   "metadata": {},
   "outputs": [],
   "source": [
    "params = {\n",
    "    \"task\" : \"train\",\n",
    "    \"boosting_type\" : \"gbdt\",\n",
    "    \"objective\" : \"regression\",\n",
    "    \"verbose\" : 2,\n",
    "}"
   ]
  },
  {
   "cell_type": "code",
   "execution_count": 60,
   "metadata": {},
   "outputs": [
    {
     "name": "stdout",
     "output_type": "stream",
     "text": [
      "[LightGBM] [Debug] Dataset::GetMultiBinFromAllFeatures: sparse rate 0.153689\n",
      "[LightGBM] [Debug] init for col-wise cost 0.000021 seconds, init for row-wise cost 0.002525 seconds\n",
      "[LightGBM] [Warning] Auto-choosing row-wise multi-threading, the overhead of testing was 0.000127 seconds.\n",
      "You can set `force_row_wise=true` to remove the overhead.\n",
      "And if memory is not enough, you can set `force_col_wise=true`.\n",
      "[LightGBM] [Debug] Using Dense Multi-Val Bin\n",
      "[LightGBM] [Info] Total Bins 143\n",
      "[LightGBM] [Info] Number of data points in the train set: 1464, number of used features: 9\n",
      "[LightGBM] [Info] Start training from score 10794.643443\n",
      "[LightGBM] [Debug] Trained a tree with leaves = 31 and max_depth = 7\n",
      "[LightGBM] [Debug] Trained a tree with leaves = 31 and max_depth = 8\n",
      "[LightGBM] [Debug] Trained a tree with leaves = 31 and max_depth = 12\n",
      "[LightGBM] [Debug] Trained a tree with leaves = 31 and max_depth = 9\n",
      "[LightGBM] [Debug] Trained a tree with leaves = 31 and max_depth = 9\n",
      "[5]\tvalid_0's l2: 3.10231e+07\n",
      "[LightGBM] [Debug] Trained a tree with leaves = 31 and max_depth = 9\n",
      "[LightGBM] [Debug] Trained a tree with leaves = 31 and max_depth = 9\n",
      "[LightGBM] [Debug] Trained a tree with leaves = 31 and max_depth = 10\n",
      "[LightGBM] [Debug] Trained a tree with leaves = 31 and max_depth = 9\n",
      "[LightGBM] [Debug] Trained a tree with leaves = 31 and max_depth = 9\n",
      "[10]\tvalid_0's l2: 2.11802e+07\n",
      "[LightGBM] [Debug] Trained a tree with leaves = 31 and max_depth = 13\n",
      "[LightGBM] [Debug] Trained a tree with leaves = 31 and max_depth = 13\n",
      "[LightGBM] [Debug] Trained a tree with leaves = 31 and max_depth = 12\n",
      "[LightGBM] [Debug] Trained a tree with leaves = 31 and max_depth = 9\n",
      "[LightGBM] [Debug] Trained a tree with leaves = 31 and max_depth = 8\n",
      "[15]\tvalid_0's l2: 1.68298e+07\n",
      "[LightGBM] [Debug] Trained a tree with leaves = 31 and max_depth = 14\n",
      "[LightGBM] [Debug] Trained a tree with leaves = 31 and max_depth = 10\n",
      "[LightGBM] [Debug] Trained a tree with leaves = 31 and max_depth = 13\n",
      "[LightGBM] [Debug] Trained a tree with leaves = 31 and max_depth = 11\n",
      "[LightGBM] [Debug] Trained a tree with leaves = 31 and max_depth = 15\n",
      "[20]\tvalid_0's l2: 1.49068e+07\n",
      "[LightGBM] [Debug] Trained a tree with leaves = 31 and max_depth = 12\n",
      "[LightGBM] [Debug] Trained a tree with leaves = 31 and max_depth = 14\n",
      "[LightGBM] [Debug] Trained a tree with leaves = 31 and max_depth = 15\n",
      "[LightGBM] [Debug] Trained a tree with leaves = 31 and max_depth = 14\n",
      "[LightGBM] [Debug] Trained a tree with leaves = 31 and max_depth = 15\n",
      "[25]\tvalid_0's l2: 1.42951e+07\n",
      "[LightGBM] [Debug] Trained a tree with leaves = 31 and max_depth = 12\n",
      "[LightGBM] [Debug] Trained a tree with leaves = 31 and max_depth = 12\n",
      "[LightGBM] [Debug] Trained a tree with leaves = 31 and max_depth = 12\n",
      "[LightGBM] [Debug] Trained a tree with leaves = 31 and max_depth = 11\n",
      "[LightGBM] [Debug] Trained a tree with leaves = 31 and max_depth = 10\n",
      "[30]\tvalid_0's l2: 1.3636e+07\n",
      "[LightGBM] [Debug] Trained a tree with leaves = 31 and max_depth = 17\n",
      "[LightGBM] [Debug] Trained a tree with leaves = 31 and max_depth = 10\n",
      "[LightGBM] [Debug] Trained a tree with leaves = 31 and max_depth = 15\n",
      "[LightGBM] [Debug] Trained a tree with leaves = 31 and max_depth = 16\n",
      "[LightGBM] [Debug] Trained a tree with leaves = 31 and max_depth = 11\n",
      "[35]\tvalid_0's l2: 1.32862e+07\n",
      "[LightGBM] [Debug] Trained a tree with leaves = 31 and max_depth = 10\n",
      "[LightGBM] [Debug] Trained a tree with leaves = 31 and max_depth = 12\n",
      "[LightGBM] [Debug] Trained a tree with leaves = 31 and max_depth = 12\n",
      "[LightGBM] [Debug] Trained a tree with leaves = 31 and max_depth = 16\n",
      "[LightGBM] [Debug] Trained a tree with leaves = 31 and max_depth = 13\n",
      "[40]\tvalid_0's l2: 1.33273e+07\n",
      "[LightGBM] [Debug] Trained a tree with leaves = 31 and max_depth = 13\n",
      "[LightGBM] [Debug] Trained a tree with leaves = 31 and max_depth = 11\n",
      "[LightGBM] [Debug] Trained a tree with leaves = 31 and max_depth = 11\n",
      "[LightGBM] [Debug] Trained a tree with leaves = 31 and max_depth = 14\n",
      "[LightGBM] [Debug] Trained a tree with leaves = 31 and max_depth = 13\n",
      "[45]\tvalid_0's l2: 1.33543e+07\n",
      "[LightGBM] [Debug] Trained a tree with leaves = 31 and max_depth = 16\n",
      "[LightGBM] [Debug] Trained a tree with leaves = 31 and max_depth = 17\n",
      "[LightGBM] [Debug] Trained a tree with leaves = 31 and max_depth = 10\n",
      "[LightGBM] [Debug] Trained a tree with leaves = 31 and max_depth = 17\n",
      "[LightGBM] [Debug] Trained a tree with leaves = 31 and max_depth = 14\n",
      "[50]\tvalid_0's l2: 1.34075e+07\n",
      "[LightGBM] [Debug] Trained a tree with leaves = 31 and max_depth = 12\n",
      "[LightGBM] [Debug] Trained a tree with leaves = 31 and max_depth = 12\n",
      "[LightGBM] [Debug] Trained a tree with leaves = 31 and max_depth = 11\n",
      "[LightGBM] [Debug] Trained a tree with leaves = 31 and max_depth = 15\n",
      "[LightGBM] [Debug] Trained a tree with leaves = 31 and max_depth = 16\n",
      "[55]\tvalid_0's l2: 1.35175e+07\n",
      "[LightGBM] [Debug] Trained a tree with leaves = 31 and max_depth = 12\n",
      "[LightGBM] [Debug] Trained a tree with leaves = 31 and max_depth = 9\n",
      "[LightGBM] [Debug] Trained a tree with leaves = 31 and max_depth = 14\n",
      "[LightGBM] [Debug] Trained a tree with leaves = 31 and max_depth = 12\n",
      "[LightGBM] [Debug] Trained a tree with leaves = 31 and max_depth = 14\n",
      "[60]\tvalid_0's l2: 1.34559e+07\n",
      "[LightGBM] [Debug] Trained a tree with leaves = 31 and max_depth = 12\n",
      "[LightGBM] [Debug] Trained a tree with leaves = 31 and max_depth = 11\n",
      "[LightGBM] [Debug] Trained a tree with leaves = 31 and max_depth = 10\n",
      "[LightGBM] [Debug] Trained a tree with leaves = 31 and max_depth = 12\n",
      "[LightGBM] [Debug] Trained a tree with leaves = 31 and max_depth = 15\n",
      "[65]\tvalid_0's l2: 1.34965e+07\n",
      "[LightGBM] [Debug] Trained a tree with leaves = 31 and max_depth = 12\n",
      "[LightGBM] [Debug] Trained a tree with leaves = 31 and max_depth = 13\n",
      "[LightGBM] [Debug] Trained a tree with leaves = 31 and max_depth = 10\n",
      "[LightGBM] [Debug] Trained a tree with leaves = 31 and max_depth = 15\n",
      "[LightGBM] [Debug] Trained a tree with leaves = 31 and max_depth = 12\n",
      "[70]\tvalid_0's l2: 1.35383e+07\n",
      "[LightGBM] [Debug] Trained a tree with leaves = 31 and max_depth = 11\n",
      "[LightGBM] [Debug] Trained a tree with leaves = 31 and max_depth = 14\n",
      "[LightGBM] [Debug] Trained a tree with leaves = 31 and max_depth = 12\n",
      "[LightGBM] [Debug] Trained a tree with leaves = 31 and max_depth = 13\n",
      "[LightGBM] [Debug] Trained a tree with leaves = 31 and max_depth = 12\n",
      "[75]\tvalid_0's l2: 1.35255e+07\n",
      "[LightGBM] [Debug] Trained a tree with leaves = 31 and max_depth = 11\n",
      "[LightGBM] [Debug] Trained a tree with leaves = 31 and max_depth = 17\n",
      "[LightGBM] [Debug] Trained a tree with leaves = 31 and max_depth = 13\n",
      "[LightGBM] [Debug] Trained a tree with leaves = 31 and max_depth = 15\n",
      "[LightGBM] [Debug] Trained a tree with leaves = 31 and max_depth = 12\n",
      "[80]\tvalid_0's l2: 1.34934e+07\n",
      "[LightGBM] [Debug] Trained a tree with leaves = 31 and max_depth = 15\n",
      "[LightGBM] [Debug] Trained a tree with leaves = 31 and max_depth = 11\n",
      "[LightGBM] [Debug] Trained a tree with leaves = 31 and max_depth = 10\n",
      "[LightGBM] [Debug] Trained a tree with leaves = 31 and max_depth = 12\n",
      "[LightGBM] [Debug] Trained a tree with leaves = 31 and max_depth = 12\n",
      "[85]\tvalid_0's l2: 1.35837e+07\n",
      "[LightGBM] [Debug] Trained a tree with leaves = 31 and max_depth = 11\n",
      "[LightGBM] [Debug] Trained a tree with leaves = 31 and max_depth = 14\n",
      "[LightGBM] [Debug] Trained a tree with leaves = 31 and max_depth = 14\n",
      "[LightGBM] [Debug] Trained a tree with leaves = 31 and max_depth = 14\n",
      "[LightGBM] [Debug] Trained a tree with leaves = 31 and max_depth = 16\n",
      "[90]\tvalid_0's l2: 1.37293e+07\n",
      "[LightGBM] [Debug] Trained a tree with leaves = 31 and max_depth = 14\n",
      "[LightGBM] [Debug] Trained a tree with leaves = 31 and max_depth = 13\n",
      "[LightGBM] [Debug] Trained a tree with leaves = 31 and max_depth = 11\n",
      "[LightGBM] [Debug] Trained a tree with leaves = 31 and max_depth = 11\n",
      "[LightGBM] [Debug] Trained a tree with leaves = 31 and max_depth = 11\n",
      "[95]\tvalid_0's l2: 1.3769e+07\n",
      "[LightGBM] [Debug] Trained a tree with leaves = 31 and max_depth = 11\n",
      "[LightGBM] [Debug] Trained a tree with leaves = 31 and max_depth = 13\n",
      "[LightGBM] [Debug] Trained a tree with leaves = 31 and max_depth = 12\n",
      "[LightGBM] [Debug] Trained a tree with leaves = 31 and max_depth = 11\n",
      "[LightGBM] [Debug] Trained a tree with leaves = 31 and max_depth = 15\n",
      "[100]\tvalid_0's l2: 1.38888e+07\n"
     ]
    }
   ],
   "source": [
    "gbm = lgb.train(\n",
    "params,\n",
    "train_data,\n",
    "valid_sets=eval_data,\n",
    "num_boost_round=100,\n",
    "verbose_eval=5)"
   ]
  },
  {
   "cell_type": "code",
   "execution_count": 61,
   "metadata": {},
   "outputs": [],
   "source": [
    "preds = gbm.predict(X_test)\n",
    "y_pred = []\n",
    "for x in preds:\n",
    "    y_pred.append(np.argmax(x))\n",
    "    "
   ]
  },
  {
   "cell_type": "code",
   "execution_count": 62,
   "metadata": {},
   "outputs": [
    {
     "data": {
      "text/plain": [
       "12678.230472908288"
      ]
     },
     "execution_count": 62,
     "metadata": {},
     "output_type": "execute_result"
    }
   ],
   "source": [
    "np.sqrt(mean_squared_error(y_test, y_pred))"
   ]
  },
  {
   "cell_type": "code",
   "execution_count": 27,
   "metadata": {},
   "outputs": [
    {
     "data": {
      "text/plain": [
       "LGBMRegressor(boosting_type='gbdt', class_weight=None, colsample_bytree=1.0,\n",
       "              importance_type='split', learning_rate=0.1, max_depth=-1,\n",
       "              min_child_samples=20, min_child_weight=0.001, min_split_gain=0.0,\n",
       "              n_estimators=100, n_jobs=-1, num_leaves=31, objective=None,\n",
       "              random_state=None, reg_alpha=0.0, reg_lambda=0.0, silent=True,\n",
       "              subsample=1.0, subsample_for_bin=200000, subsample_freq=0)"
      ]
     },
     "execution_count": 27,
     "metadata": {},
     "output_type": "execute_result"
    }
   ],
   "source": [
    "lr = LGBMRegressor()\n",
    "lr.fit(X_train, y_train)"
   ]
  },
  {
   "cell_type": "code",
   "execution_count": 28,
   "metadata": {},
   "outputs": [
    {
     "data": {
      "text/plain": [
       "3726.772995674591"
      ]
     },
     "execution_count": 28,
     "metadata": {},
     "output_type": "execute_result"
    }
   ],
   "source": [
    "y_pred = lr.predict(X_test)\n",
    "np.sqrt(mean_squared_error(y_test, y_pred))"
   ]
  },
  {
   "cell_type": "code",
   "execution_count": 29,
   "metadata": {},
   "outputs": [],
   "source": [
    "pred = lr.predict(test_x)"
   ]
  },
  {
   "cell_type": "code",
   "execution_count": 30,
   "metadata": {},
   "outputs": [],
   "source": [
    "submission = pd.read_csv(\"sample_submit.csv\", header=None)\n",
    "submission[1] = pred"
   ]
  },
  {
   "cell_type": "code",
   "execution_count": 31,
   "metadata": {},
   "outputs": [
    {
     "data": {
      "text/html": [
       "<div>\n",
       "<style scoped>\n",
       "    .dataframe tbody tr th:only-of-type {\n",
       "        vertical-align: middle;\n",
       "    }\n",
       "\n",
       "    .dataframe tbody tr th {\n",
       "        vertical-align: top;\n",
       "    }\n",
       "\n",
       "    .dataframe thead th {\n",
       "        text-align: right;\n",
       "    }\n",
       "</style>\n",
       "<table border=\"1\" class=\"dataframe\">\n",
       "  <thead>\n",
       "    <tr style=\"text-align: right;\">\n",
       "      <th></th>\n",
       "      <th>0</th>\n",
       "      <th>1</th>\n",
       "    </tr>\n",
       "  </thead>\n",
       "  <tbody>\n",
       "    <tr>\n",
       "      <th>0</th>\n",
       "      <td>15822</td>\n",
       "      <td>17354.529199</td>\n",
       "    </tr>\n",
       "    <tr>\n",
       "      <th>1</th>\n",
       "      <td>15823</td>\n",
       "      <td>14704.408850</td>\n",
       "    </tr>\n",
       "    <tr>\n",
       "      <th>2</th>\n",
       "      <td>15824</td>\n",
       "      <td>39725.387573</td>\n",
       "    </tr>\n",
       "    <tr>\n",
       "      <th>3</th>\n",
       "      <td>15825</td>\n",
       "      <td>13712.262128</td>\n",
       "    </tr>\n",
       "    <tr>\n",
       "      <th>4</th>\n",
       "      <td>15827</td>\n",
       "      <td>27489.195663</td>\n",
       "    </tr>\n",
       "  </tbody>\n",
       "</table>\n",
       "</div>"
      ],
      "text/plain": [
       "       0             1\n",
       "0  15822  17354.529199\n",
       "1  15823  14704.408850\n",
       "2  15824  39725.387573\n",
       "3  15825  13712.262128\n",
       "4  15827  27489.195663"
      ]
     },
     "execution_count": 31,
     "metadata": {},
     "output_type": "execute_result"
    }
   ],
   "source": [
    "submission.head()"
   ]
  },
  {
   "cell_type": "code",
   "execution_count": 32,
   "metadata": {},
   "outputs": [],
   "source": [
    "os.chdir(\"/work/signate_practice/football_forecasting/output\")"
   ]
  },
  {
   "cell_type": "code",
   "execution_count": 33,
   "metadata": {},
   "outputs": [],
   "source": [
    "submission.to_csv(\"submission.csv\", index=False)"
   ]
  },
  {
   "cell_type": "code",
   "execution_count": 34,
   "metadata": {},
   "outputs": [
    {
     "data": {
      "text/html": [
       "<div>\n",
       "<style scoped>\n",
       "    .dataframe tbody tr th:only-of-type {\n",
       "        vertical-align: middle;\n",
       "    }\n",
       "\n",
       "    .dataframe tbody tr th {\n",
       "        vertical-align: top;\n",
       "    }\n",
       "\n",
       "    .dataframe thead th {\n",
       "        text-align: right;\n",
       "    }\n",
       "</style>\n",
       "<table border=\"1\" class=\"dataframe\">\n",
       "  <thead>\n",
       "    <tr style=\"text-align: right;\">\n",
       "      <th></th>\n",
       "      <th>importance</th>\n",
       "    </tr>\n",
       "    <tr>\n",
       "      <th>feature</th>\n",
       "      <th></th>\n",
       "    </tr>\n",
       "  </thead>\n",
       "  <tbody>\n",
       "    <tr>\n",
       "      <th>capa</th>\n",
       "      <td>1201</td>\n",
       "    </tr>\n",
       "    <tr>\n",
       "      <th>match_num</th>\n",
       "      <td>621</td>\n",
       "    </tr>\n",
       "    <tr>\n",
       "      <th>month</th>\n",
       "      <td>291</td>\n",
       "    </tr>\n",
       "    <tr>\n",
       "      <th>away_score</th>\n",
       "      <td>194</td>\n",
       "    </tr>\n",
       "    <tr>\n",
       "      <th>score_diff</th>\n",
       "      <td>177</td>\n",
       "    </tr>\n",
       "    <tr>\n",
       "      <th>year</th>\n",
       "      <td>148</td>\n",
       "    </tr>\n",
       "    <tr>\n",
       "      <th>Saturday</th>\n",
       "      <td>126</td>\n",
       "    </tr>\n",
       "    <tr>\n",
       "      <th>home_score</th>\n",
       "      <td>122</td>\n",
       "    </tr>\n",
       "    <tr>\n",
       "      <th>tv_num</th>\n",
       "      <td>120</td>\n",
       "    </tr>\n",
       "  </tbody>\n",
       "</table>\n",
       "</div>"
      ],
      "text/plain": [
       "            importance\n",
       "feature               \n",
       "capa              1201\n",
       "match_num          621\n",
       "month              291\n",
       "away_score         194\n",
       "score_diff         177\n",
       "year               148\n",
       "Saturday           126\n",
       "home_score         122\n",
       "tv_num             120"
      ]
     },
     "execution_count": 34,
     "metadata": {},
     "output_type": "execute_result"
    }
   ],
   "source": [
    "importances = pd.DataFrame({\"feature\":lr.feature_name_,\n",
    "                           \"importance\":lr.feature_importances_})\n",
    "importances.groupby(\"feature\").agg({\"importance\":\"mean\"}).sort_values(\"importance\", ascending=False).head(30)"
   ]
  },
  {
   "cell_type": "code",
   "execution_count": 35,
   "metadata": {},
   "outputs": [
    {
     "data": {
      "text/plain": [
       "Text(0, 0.5, 'prediction')"
      ]
     },
     "execution_count": 35,
     "metadata": {},
     "output_type": "execute_result"
    },
    {
     "data": {
      "image/png": "[encoded data removed]",
      "text/plain": [
       "<Figure size 576x576 with 1 Axes>"
      ]
     },
     "metadata": {},
     "output_type": "display_data"
    }
   ],
   "source": [
    "plt.figure(figsize=(8, 8))\n",
    "plt.scatter(y_test, y_pred)\n",
    "plt.xlabel(\"test\")\n",
    "plt.ylabel(\"prediction\")"
   ]
  },
  {
   "cell_type": "code",
   "execution_count": 36,
   "metadata": {},
   "outputs": [
    {
     "name": "stdout",
     "output_type": "stream",
     "text": [
      "2687.596892169677 3726.772995674591\n",
      "0.8940163577132011 0.7588387090456263\n"
     ]
    }
   ],
   "source": [
    "y_train_pred = lr.predict(X_train)\n",
    "rmse_train = np.sqrt(mean_squared_error(y_train, y_train_pred))\n",
    "y_test_pred = lr.predict(X_test)\n",
    "rmse_test = np.sqrt(mean_squared_error(y_test, y_test_pred))\n",
    "print(rmse_train, rmse_test)\n",
    "print(lr.score(X_train, y_train), lr.score(X_test, y_test))"
   ]
  },
  {
   "cell_type": "code",
   "execution_count": 37,
   "metadata": {},
   "outputs": [
    {
     "data": {
      "text/html": [
       "<div>\n",
       "<style scoped>\n",
       "    .dataframe tbody tr th:only-of-type {\n",
       "        vertical-align: middle;\n",
       "    }\n",
       "\n",
       "    .dataframe tbody tr th {\n",
       "        vertical-align: top;\n",
       "    }\n",
       "\n",
       "    .dataframe thead th {\n",
       "        text-align: right;\n",
       "    }\n",
       "</style>\n",
       "<table border=\"1\" class=\"dataframe\">\n",
       "  <thead>\n",
       "    <tr style=\"text-align: right;\">\n",
       "      <th></th>\n",
       "      <th>y</th>\n",
       "      <th>year</th>\n",
       "      <th>home_score</th>\n",
       "      <th>away_score</th>\n",
       "      <th>capa</th>\n",
       "      <th>month</th>\n",
       "      <th>match_num</th>\n",
       "      <th>tv_num</th>\n",
       "      <th>Saturday</th>\n",
       "      <th>score_diff</th>\n",
       "    </tr>\n",
       "  </thead>\n",
       "  <tbody>\n",
       "    <tr>\n",
       "      <th>0</th>\n",
       "      <td>18250.0</td>\n",
       "      <td>2012</td>\n",
       "      <td>1</td>\n",
       "      <td>0</td>\n",
       "      <td>19694</td>\n",
       "      <td>3</td>\n",
       "      <td>1</td>\n",
       "      <td>4</td>\n",
       "      <td>1</td>\n",
       "      <td>1</td>\n",
       "    </tr>\n",
       "    <tr>\n",
       "      <th>1</th>\n",
       "      <td>24316.0</td>\n",
       "      <td>2012</td>\n",
       "      <td>1</td>\n",
       "      <td>0</td>\n",
       "      <td>40000</td>\n",
       "      <td>3</td>\n",
       "      <td>1</td>\n",
       "      <td>4</td>\n",
       "      <td>1</td>\n",
       "      <td>1</td>\n",
       "    </tr>\n",
       "    <tr>\n",
       "      <th>2</th>\n",
       "      <td>17066.0</td>\n",
       "      <td>2012</td>\n",
       "      <td>2</td>\n",
       "      <td>3</td>\n",
       "      <td>21000</td>\n",
       "      <td>3</td>\n",
       "      <td>1</td>\n",
       "      <td>4</td>\n",
       "      <td>1</td>\n",
       "      <td>-1</td>\n",
       "    </tr>\n",
       "    <tr>\n",
       "      <th>3</th>\n",
       "      <td>29603.0</td>\n",
       "      <td>2012</td>\n",
       "      <td>1</td>\n",
       "      <td>0</td>\n",
       "      <td>50000</td>\n",
       "      <td>3</td>\n",
       "      <td>1</td>\n",
       "      <td>4</td>\n",
       "      <td>1</td>\n",
       "      <td>1</td>\n",
       "    </tr>\n",
       "    <tr>\n",
       "      <th>4</th>\n",
       "      <td>25353.0</td>\n",
       "      <td>2012</td>\n",
       "      <td>0</td>\n",
       "      <td>0</td>\n",
       "      <td>39232</td>\n",
       "      <td>3</td>\n",
       "      <td>1</td>\n",
       "      <td>4</td>\n",
       "      <td>1</td>\n",
       "      <td>0</td>\n",
       "    </tr>\n",
       "  </tbody>\n",
       "</table>\n",
       "</div>"
      ],
      "text/plain": [
       "         y  year  home_score  away_score   capa  month  match_num  tv_num  \\\n",
       "0  18250.0  2012           1           0  19694      3          1       4   \n",
       "1  24316.0  2012           1           0  40000      3          1       4   \n",
       "2  17066.0  2012           2           3  21000      3          1       4   \n",
       "3  29603.0  2012           1           0  50000      3          1       4   \n",
       "4  25353.0  2012           0           0  39232      3          1       4   \n",
       "\n",
       "   Saturday  score_diff  \n",
       "0         1           1  \n",
       "1         1           1  \n",
       "2         1          -1  \n",
       "3         1           1  \n",
       "4         1           0  "
      ]
     },
     "execution_count": 37,
     "metadata": {},
     "output_type": "execute_result"
    }
   ],
   "source": [
    "df.head()"
   ]
  },
  {
   "cell_type": "code",
   "execution_count": null,
   "metadata": {},
   "outputs": [],
   "source": []
  },
  {
   "cell_type": "code",
   "execution_count": 38,
   "metadata": {},
   "outputs": [
    {
     "data": {
      "text/html": [
       "<div>\n",
       "<style scoped>\n",
       "    .dataframe tbody tr th:only-of-type {\n",
       "        vertical-align: middle;\n",
       "    }\n",
       "\n",
       "    .dataframe tbody tr th {\n",
       "        vertical-align: top;\n",
       "    }\n",
       "\n",
       "    .dataframe thead th {\n",
       "        text-align: right;\n",
       "    }\n",
       "</style>\n",
       "<table border=\"1\" class=\"dataframe\">\n",
       "  <thead>\n",
       "    <tr style=\"text-align: right;\">\n",
       "      <th></th>\n",
       "      <th>y</th>\n",
       "      <th>year</th>\n",
       "      <th>home_score</th>\n",
       "      <th>away_score</th>\n",
       "      <th>temperature</th>\n",
       "      <th>humidity</th>\n",
       "      <th>capa</th>\n",
       "      <th>month</th>\n",
       "      <th>match_num</th>\n",
       "      <th>tv_num</th>\n",
       "      <th>di</th>\n",
       "      <th>Saturday</th>\n",
       "      <th>score_diff</th>\n",
       "    </tr>\n",
       "  </thead>\n",
       "  <tbody>\n",
       "    <tr>\n",
       "      <th>y</th>\n",
       "      <td>1.000000</td>\n",
       "      <td>0.003211</td>\n",
       "      <td>0.056229</td>\n",
       "      <td>0.018226</td>\n",
       "      <td>-0.028072</td>\n",
       "      <td>-0.100557</td>\n",
       "      <td>0.688290</td>\n",
       "      <td>0.105861</td>\n",
       "      <td>-0.044138</td>\n",
       "      <td>0.142387</td>\n",
       "      <td>-0.028146</td>\n",
       "      <td>0.407708</td>\n",
       "      <td>0.028491</td>\n",
       "    </tr>\n",
       "    <tr>\n",
       "      <th>year</th>\n",
       "      <td>0.003211</td>\n",
       "      <td>1.000000</td>\n",
       "      <td>-0.006051</td>\n",
       "      <td>-0.000105</td>\n",
       "      <td>0.000113</td>\n",
       "      <td>-0.118495</td>\n",
       "      <td>0.021823</td>\n",
       "      <td>0.005895</td>\n",
       "      <td>-0.019275</td>\n",
       "      <td>-0.470406</td>\n",
       "      <td>-0.000187</td>\n",
       "      <td>0.096342</td>\n",
       "      <td>-0.004339</td>\n",
       "    </tr>\n",
       "    <tr>\n",
       "      <th>home_score</th>\n",
       "      <td>0.056229</td>\n",
       "      <td>-0.006051</td>\n",
       "      <td>1.000000</td>\n",
       "      <td>-0.002569</td>\n",
       "      <td>0.017226</td>\n",
       "      <td>0.058687</td>\n",
       "      <td>0.034705</td>\n",
       "      <td>0.067138</td>\n",
       "      <td>0.054313</td>\n",
       "      <td>0.003447</td>\n",
       "      <td>0.017323</td>\n",
       "      <td>0.060839</td>\n",
       "      <td>0.730582</td>\n",
       "    </tr>\n",
       "    <tr>\n",
       "      <th>away_score</th>\n",
       "      <td>0.018226</td>\n",
       "      <td>-0.000105</td>\n",
       "      <td>-0.002569</td>\n",
       "      <td>1.000000</td>\n",
       "      <td>0.014753</td>\n",
       "      <td>0.041131</td>\n",
       "      <td>-0.011384</td>\n",
       "      <td>0.002784</td>\n",
       "      <td>-0.004253</td>\n",
       "      <td>-0.005325</td>\n",
       "      <td>0.014880</td>\n",
       "      <td>0.017015</td>\n",
       "      <td>-0.684699</td>\n",
       "    </tr>\n",
       "    <tr>\n",
       "      <th>temperature</th>\n",
       "      <td>-0.028072</td>\n",
       "      <td>0.000113</td>\n",
       "      <td>0.017226</td>\n",
       "      <td>0.014753</td>\n",
       "      <td>1.000000</td>\n",
       "      <td>0.183433</td>\n",
       "      <td>-0.033814</td>\n",
       "      <td>0.312475</td>\n",
       "      <td>0.363575</td>\n",
       "      <td>-0.119889</td>\n",
       "      <td>0.999996</td>\n",
       "      <td>0.017501</td>\n",
       "      <td>0.002481</td>\n",
       "    </tr>\n",
       "    <tr>\n",
       "      <th>humidity</th>\n",
       "      <td>-0.100557</td>\n",
       "      <td>-0.118495</td>\n",
       "      <td>0.058687</td>\n",
       "      <td>0.041131</td>\n",
       "      <td>0.183433</td>\n",
       "      <td>1.000000</td>\n",
       "      <td>-0.068474</td>\n",
       "      <td>0.263755</td>\n",
       "      <td>0.265234</td>\n",
       "      <td>-0.024956</td>\n",
       "      <td>0.185371</td>\n",
       "      <td>-0.025631</td>\n",
       "      <td>0.014687</td>\n",
       "    </tr>\n",
       "    <tr>\n",
       "      <th>capa</th>\n",
       "      <td>0.688290</td>\n",
       "      <td>0.021823</td>\n",
       "      <td>0.034705</td>\n",
       "      <td>-0.011384</td>\n",
       "      <td>-0.033814</td>\n",
       "      <td>-0.068474</td>\n",
       "      <td>1.000000</td>\n",
       "      <td>0.016674</td>\n",
       "      <td>-0.082696</td>\n",
       "      <td>0.077168</td>\n",
       "      <td>-0.033922</td>\n",
       "      <td>0.236585</td>\n",
       "      <td>0.033067</td>\n",
       "    </tr>\n",
       "    <tr>\n",
       "      <th>month</th>\n",
       "      <td>0.105861</td>\n",
       "      <td>0.005895</td>\n",
       "      <td>0.067138</td>\n",
       "      <td>0.002784</td>\n",
       "      <td>0.312475</td>\n",
       "      <td>0.263755</td>\n",
       "      <td>0.016674</td>\n",
       "      <td>1.000000</td>\n",
       "      <td>0.955042</td>\n",
       "      <td>-0.098569</td>\n",
       "      <td>0.312903</td>\n",
       "      <td>0.009254</td>\n",
       "      <td>0.047031</td>\n",
       "    </tr>\n",
       "    <tr>\n",
       "      <th>match_num</th>\n",
       "      <td>-0.044138</td>\n",
       "      <td>-0.019275</td>\n",
       "      <td>0.054313</td>\n",
       "      <td>-0.004253</td>\n",
       "      <td>0.363575</td>\n",
       "      <td>0.265234</td>\n",
       "      <td>-0.082696</td>\n",
       "      <td>0.955042</td>\n",
       "      <td>1.000000</td>\n",
       "      <td>-0.117424</td>\n",
       "      <td>0.363919</td>\n",
       "      <td>-0.115151</td>\n",
       "      <td>0.042489</td>\n",
       "    </tr>\n",
       "    <tr>\n",
       "      <th>tv_num</th>\n",
       "      <td>0.142387</td>\n",
       "      <td>-0.470406</td>\n",
       "      <td>0.003447</td>\n",
       "      <td>-0.005325</td>\n",
       "      <td>-0.119889</td>\n",
       "      <td>-0.024956</td>\n",
       "      <td>0.077168</td>\n",
       "      <td>-0.098569</td>\n",
       "      <td>-0.117424</td>\n",
       "      <td>1.000000</td>\n",
       "      <td>-0.119944</td>\n",
       "      <td>0.050150</td>\n",
       "      <td>0.006148</td>\n",
       "    </tr>\n",
       "    <tr>\n",
       "      <th>di</th>\n",
       "      <td>-0.028146</td>\n",
       "      <td>-0.000187</td>\n",
       "      <td>0.017323</td>\n",
       "      <td>0.014880</td>\n",
       "      <td>0.999996</td>\n",
       "      <td>0.185371</td>\n",
       "      <td>-0.033922</td>\n",
       "      <td>0.312903</td>\n",
       "      <td>0.363919</td>\n",
       "      <td>-0.119944</td>\n",
       "      <td>1.000000</td>\n",
       "      <td>0.017485</td>\n",
       "      <td>0.002465</td>\n",
       "    </tr>\n",
       "    <tr>\n",
       "      <th>Saturday</th>\n",
       "      <td>0.407708</td>\n",
       "      <td>0.096342</td>\n",
       "      <td>0.060839</td>\n",
       "      <td>0.017015</td>\n",
       "      <td>0.017501</td>\n",
       "      <td>-0.025631</td>\n",
       "      <td>0.236585</td>\n",
       "      <td>0.009254</td>\n",
       "      <td>-0.115151</td>\n",
       "      <td>0.050150</td>\n",
       "      <td>0.017485</td>\n",
       "      <td>1.000000</td>\n",
       "      <td>0.032723</td>\n",
       "    </tr>\n",
       "    <tr>\n",
       "      <th>score_diff</th>\n",
       "      <td>0.028491</td>\n",
       "      <td>-0.004339</td>\n",
       "      <td>0.730582</td>\n",
       "      <td>-0.684699</td>\n",
       "      <td>0.002481</td>\n",
       "      <td>0.014687</td>\n",
       "      <td>0.033067</td>\n",
       "      <td>0.047031</td>\n",
       "      <td>0.042489</td>\n",
       "      <td>0.006148</td>\n",
       "      <td>0.002465</td>\n",
       "      <td>0.032723</td>\n",
       "      <td>1.000000</td>\n",
       "    </tr>\n",
       "  </tbody>\n",
       "</table>\n",
       "</div>"
      ],
      "text/plain": [
       "                    y      year  home_score  away_score  temperature  \\\n",
       "y            1.000000  0.003211    0.056229    0.018226    -0.028072   \n",
       "year         0.003211  1.000000   -0.006051   -0.000105     0.000113   \n",
       "home_score   0.056229 -0.006051    1.000000   -0.002569     0.017226   \n",
       "away_score   0.018226 -0.000105   -0.002569    1.000000     0.014753   \n",
       "temperature -0.028072  0.000113    0.017226    0.014753     1.000000   \n",
       "humidity    -0.100557 -0.118495    0.058687    0.041131     0.183433   \n",
       "capa         0.688290  0.021823    0.034705   -0.011384    -0.033814   \n",
       "month        0.105861  0.005895    0.067138    0.002784     0.312475   \n",
       "match_num   -0.044138 -0.019275    0.054313   -0.004253     0.363575   \n",
       "tv_num       0.142387 -0.470406    0.003447   -0.005325    -0.119889   \n",
       "di          -0.028146 -0.000187    0.017323    0.014880     0.999996   \n",
       "Saturday     0.407708  0.096342    0.060839    0.017015     0.017501   \n",
       "score_diff   0.028491 -0.004339    0.730582   -0.684699     0.002481   \n",
       "\n",
       "             humidity      capa     month  match_num    tv_num        di  \\\n",
       "y           -0.100557  0.688290  0.105861  -0.044138  0.142387 -0.028146   \n",
       "year        -0.118495  0.021823  0.005895  -0.019275 -0.470406 -0.000187   \n",
       "home_score   0.058687  0.034705  0.067138   0.054313  0.003447  0.017323   \n",
       "away_score   0.041131 -0.011384  0.002784  -0.004253 -0.005325  0.014880   \n",
       "temperature  0.183433 -0.033814  0.312475   0.363575 -0.119889  0.999996   \n",
       "humidity     1.000000 -0.068474  0.263755   0.265234 -0.024956  0.185371   \n",
       "capa        -0.068474  1.000000  0.016674  -0.082696  0.077168 -0.033922   \n",
       "month        0.263755  0.016674  1.000000   0.955042 -0.098569  0.312903   \n",
       "match_num    0.265234 -0.082696  0.955042   1.000000 -0.117424  0.363919   \n",
       "tv_num      -0.024956  0.077168 -0.098569  -0.117424  1.000000 -0.119944   \n",
       "di           0.185371 -0.033922  0.312903   0.363919 -0.119944  1.000000   \n",
       "Saturday    -0.025631  0.236585  0.009254  -0.115151  0.050150  0.017485   \n",
       "score_diff   0.014687  0.033067  0.047031   0.042489  0.006148  0.002465   \n",
       "\n",
       "             Saturday  score_diff  \n",
       "y            0.407708    0.028491  \n",
       "year         0.096342   -0.004339  \n",
       "home_score   0.060839    0.730582  \n",
       "away_score   0.017015   -0.684699  \n",
       "temperature  0.017501    0.002481  \n",
       "humidity    -0.025631    0.014687  \n",
       "capa         0.236585    0.033067  \n",
       "month        0.009254    0.047031  \n",
       "match_num   -0.115151    0.042489  \n",
       "tv_num       0.050150    0.006148  \n",
       "di           0.017485    0.002465  \n",
       "Saturday     1.000000    0.032723  \n",
       "score_diff   0.032723    1.000000  "
      ]
     },
     "execution_count": 38,
     "metadata": {},
     "output_type": "execute_result"
    }
   ],
   "source": [
    "combine.corr()"
   ]
  },
  {
   "cell_type": "code",
   "execution_count": null,
   "metadata": {},
   "outputs": [],
   "source": []
  },
  {
   "cell_type": "code",
   "execution_count": null,
   "metadata": {},
   "outputs": [],
   "source": []
  },
  {
   "cell_type": "code",
   "execution_count": null,
   "metadata": {},
   "outputs": [],
   "source": []
  }
 ],
 "metadata": {
  "kernelspec": {
   "display_name": "Python 3",
   "language": "python",
   "name": "python3"
  },
  "language_info": {
   "codemirror_mode": {
    "name": "ipython",
    "version": 3
   },
   "file_extension": ".py",
   "mimetype": "text/x-python",
   "name": "python",
   "nbconvert_exporter": "python",
   "pygments_lexer": "ipython3",
   "version": "3.7.6"
  }
 },
 "nbformat": 4,
 "nbformat_minor": 4
}
