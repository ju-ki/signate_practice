{
 "cells": [
  {
   "cell_type": "code",
   "execution_count": 1,
   "metadata": {},
   "outputs": [],
   "source": [
    "import numpy as np\n",
    "import pandas as pd\n",
    "import matplotlib.pyplot as plt\n",
    "import seaborn as sns\n",
    "import os\n",
    "%matplotlib inline\n",
    "INPUT_DIR = \"/work/signate_practice/football_forecasting/data\"\n",
    "sns.set()\n",
    "import warnings\n",
    "import japanize_matplotlib\n",
    "warnings.filterwarnings(\"ignore\")\n",
    "os.chdir(INPUT_DIR)"
   ]
  },
  {
   "cell_type": "code",
   "execution_count": 2,
   "metadata": {},
   "outputs": [],
   "source": [
    "train = pd.read_csv(\"train.csv\")"
   ]
  },
  {
   "cell_type": "code",
   "execution_count": 3,
   "metadata": {},
   "outputs": [
    {
     "name": "stdout",
     "output_type": "stream",
     "text": [
      "(1721, 11)\n",
      "<class 'pandas.core.frame.DataFrame'>\n",
      "RangeIndex: 1721 entries, 0 to 1720\n",
      "Data columns (total 11 columns):\n",
      " #   Column   Non-Null Count  Dtype \n",
      "---  ------   --------------  ----- \n",
      " 0   id       1721 non-null   int64 \n",
      " 1   y        1721 non-null   int64 \n",
      " 2   year     1721 non-null   int64 \n",
      " 3   stage    1721 non-null   object\n",
      " 4   match    1721 non-null   object\n",
      " 5   gameday  1721 non-null   object\n",
      " 6   time     1721 non-null   object\n",
      " 7   home     1721 non-null   object\n",
      " 8   away     1721 non-null   object\n",
      " 9   stadium  1721 non-null   object\n",
      " 10  tv       1721 non-null   object\n",
      "dtypes: int64(3), object(8)\n",
      "memory usage: 148.0+ KB\n",
      "None\n"
     ]
    },
    {
     "data": {
      "text/html": [
       "<div>\n",
       "<style scoped>\n",
       "    .dataframe tbody tr th:only-of-type {\n",
       "        vertical-align: middle;\n",
       "    }\n",
       "\n",
       "    .dataframe tbody tr th {\n",
       "        vertical-align: top;\n",
       "    }\n",
       "\n",
       "    .dataframe thead th {\n",
       "        text-align: right;\n",
       "    }\n",
       "</style>\n",
       "<table border=\"1\" class=\"dataframe\">\n",
       "  <thead>\n",
       "    <tr style=\"text-align: right;\">\n",
       "      <th></th>\n",
       "      <th>id</th>\n",
       "      <th>y</th>\n",
       "      <th>year</th>\n",
       "      <th>stage</th>\n",
       "      <th>match</th>\n",
       "      <th>gameday</th>\n",
       "      <th>time</th>\n",
       "      <th>home</th>\n",
       "      <th>away</th>\n",
       "      <th>stadium</th>\n",
       "      <th>tv</th>\n",
       "    </tr>\n",
       "  </thead>\n",
       "  <tbody>\n",
       "    <tr>\n",
       "      <th>0</th>\n",
       "      <td>13994</td>\n",
       "      <td>18250</td>\n",
       "      <td>2012</td>\n",
       "      <td>Ｊ１</td>\n",
       "      <td>第１節第１日</td>\n",
       "      <td>03/10(土)</td>\n",
       "      <td>14:04</td>\n",
       "      <td>ベガルタ仙台</td>\n",
       "      <td>鹿島アントラーズ</td>\n",
       "      <td>ユアテックスタジアム仙台</td>\n",
       "      <td>スカパー／ｅ２／スカパー光／ＮＨＫ総合</td>\n",
       "    </tr>\n",
       "    <tr>\n",
       "      <th>1</th>\n",
       "      <td>13995</td>\n",
       "      <td>24316</td>\n",
       "      <td>2012</td>\n",
       "      <td>Ｊ１</td>\n",
       "      <td>第１節第１日</td>\n",
       "      <td>03/10(土)</td>\n",
       "      <td>14:04</td>\n",
       "      <td>名古屋グランパス</td>\n",
       "      <td>清水エスパルス</td>\n",
       "      <td>豊田スタジアム</td>\n",
       "      <td>スカパー／ｅ２／スカパー光（Ｊ　ＳＰＯＲＴＳ　４）／ＮＨＫ名古屋</td>\n",
       "    </tr>\n",
       "    <tr>\n",
       "      <th>2</th>\n",
       "      <td>13996</td>\n",
       "      <td>17066</td>\n",
       "      <td>2012</td>\n",
       "      <td>Ｊ１</td>\n",
       "      <td>第１節第１日</td>\n",
       "      <td>03/10(土)</td>\n",
       "      <td>14:04</td>\n",
       "      <td>ガンバ大阪</td>\n",
       "      <td>ヴィッセル神戸</td>\n",
       "      <td>万博記念競技場</td>\n",
       "      <td>スカパー／ｅ２／スカパー光（Ｊ　ＳＰＯＲＴＳ　１）／ＮＨＫ大阪</td>\n",
       "    </tr>\n",
       "    <tr>\n",
       "      <th>3</th>\n",
       "      <td>13997</td>\n",
       "      <td>29603</td>\n",
       "      <td>2012</td>\n",
       "      <td>Ｊ１</td>\n",
       "      <td>第１節第１日</td>\n",
       "      <td>03/10(土)</td>\n",
       "      <td>14:06</td>\n",
       "      <td>サンフレッチェ広島</td>\n",
       "      <td>浦和レッズ</td>\n",
       "      <td>エディオンスタジアム広島</td>\n",
       "      <td>スカパー／ｅ２／スカパー光／ＮＨＫ広島</td>\n",
       "    </tr>\n",
       "    <tr>\n",
       "      <th>4</th>\n",
       "      <td>13998</td>\n",
       "      <td>25353</td>\n",
       "      <td>2012</td>\n",
       "      <td>Ｊ１</td>\n",
       "      <td>第１節第１日</td>\n",
       "      <td>03/10(土)</td>\n",
       "      <td>14:04</td>\n",
       "      <td>コンサドーレ札幌</td>\n",
       "      <td>ジュビロ磐田</td>\n",
       "      <td>札幌ドーム</td>\n",
       "      <td>スカパー／ｅ２／スカパー光（スカイ・Ａ　ｓｐｏｒｔｓ＋）／ＮＨＫ札幌</td>\n",
       "    </tr>\n",
       "  </tbody>\n",
       "</table>\n",
       "</div>"
      ],
      "text/plain": [
       "      id      y  year stage   match   gameday   time       home      away  \\\n",
       "0  13994  18250  2012    Ｊ１  第１節第１日  03/10(土)  14:04     ベガルタ仙台  鹿島アントラーズ   \n",
       "1  13995  24316  2012    Ｊ１  第１節第１日  03/10(土)  14:04   名古屋グランパス   清水エスパルス   \n",
       "2  13996  17066  2012    Ｊ１  第１節第１日  03/10(土)  14:04      ガンバ大阪   ヴィッセル神戸   \n",
       "3  13997  29603  2012    Ｊ１  第１節第１日  03/10(土)  14:06  サンフレッチェ広島     浦和レッズ   \n",
       "4  13998  25353  2012    Ｊ１  第１節第１日  03/10(土)  14:04   コンサドーレ札幌    ジュビロ磐田   \n",
       "\n",
       "        stadium                                  tv  \n",
       "0  ユアテックスタジアム仙台                 スカパー／ｅ２／スカパー光／ＮＨＫ総合  \n",
       "1       豊田スタジアム    スカパー／ｅ２／スカパー光（Ｊ　ＳＰＯＲＴＳ　４）／ＮＨＫ名古屋  \n",
       "2       万博記念競技場     スカパー／ｅ２／スカパー光（Ｊ　ＳＰＯＲＴＳ　１）／ＮＨＫ大阪  \n",
       "3  エディオンスタジアム広島                 スカパー／ｅ２／スカパー光／ＮＨＫ広島  \n",
       "4         札幌ドーム  スカパー／ｅ２／スカパー光（スカイ・Ａ　ｓｐｏｒｔｓ＋）／ＮＨＫ札幌  "
      ]
     },
     "execution_count": 3,
     "metadata": {},
     "output_type": "execute_result"
    }
   ],
   "source": [
    "print(train.shape)\n",
    "print(train.info())\n",
    "train.head()"
   ]
  },
  {
   "cell_type": "code",
   "execution_count": 4,
   "metadata": {},
   "outputs": [
    {
     "name": "stdout",
     "output_type": "stream",
     "text": [
      "(232, 11)\n",
      "<class 'pandas.core.frame.DataFrame'>\n",
      "RangeIndex: 232 entries, 0 to 231\n",
      "Data columns (total 11 columns):\n",
      " #   Column   Non-Null Count  Dtype \n",
      "---  ------   --------------  ----- \n",
      " 0   id       232 non-null    int64 \n",
      " 1   y        232 non-null    int64 \n",
      " 2   year     232 non-null    int64 \n",
      " 3   stage    232 non-null    object\n",
      " 4   match    232 non-null    object\n",
      " 5   gameday  232 non-null    object\n",
      " 6   time     232 non-null    object\n",
      " 7   home     232 non-null    object\n",
      " 8   away     232 non-null    object\n",
      " 9   stadium  232 non-null    object\n",
      " 10  tv       232 non-null    object\n",
      "dtypes: int64(3), object(8)\n",
      "memory usage: 20.1+ KB\n",
      "None\n"
     ]
    },
    {
     "data": {
      "text/html": [
       "<div>\n",
       "<style scoped>\n",
       "    .dataframe tbody tr th:only-of-type {\n",
       "        vertical-align: middle;\n",
       "    }\n",
       "\n",
       "    .dataframe tbody tr th {\n",
       "        vertical-align: top;\n",
       "    }\n",
       "\n",
       "    .dataframe thead th {\n",
       "        text-align: right;\n",
       "    }\n",
       "</style>\n",
       "<table border=\"1\" class=\"dataframe\">\n",
       "  <thead>\n",
       "    <tr style=\"text-align: right;\">\n",
       "      <th></th>\n",
       "      <th>id</th>\n",
       "      <th>y</th>\n",
       "      <th>year</th>\n",
       "      <th>stage</th>\n",
       "      <th>match</th>\n",
       "      <th>gameday</th>\n",
       "      <th>time</th>\n",
       "      <th>home</th>\n",
       "      <th>away</th>\n",
       "      <th>stadium</th>\n",
       "      <th>tv</th>\n",
       "    </tr>\n",
       "  </thead>\n",
       "  <tbody>\n",
       "    <tr>\n",
       "      <th>0</th>\n",
       "      <td>14003</td>\n",
       "      <td>19010</td>\n",
       "      <td>2012</td>\n",
       "      <td>Ｊ１</td>\n",
       "      <td>第２節第１日</td>\n",
       "      <td>03/17(土)</td>\n",
       "      <td>14:04</td>\n",
       "      <td>鹿島アントラーズ</td>\n",
       "      <td>川崎フロンターレ</td>\n",
       "      <td>県立カシマサッカースタジアム</td>\n",
       "      <td>スカパー／ｅ２／スカパー光／ＮＨＫ水戸</td>\n",
       "    </tr>\n",
       "    <tr>\n",
       "      <th>1</th>\n",
       "      <td>14020</td>\n",
       "      <td>15072</td>\n",
       "      <td>2012</td>\n",
       "      <td>Ｊ１</td>\n",
       "      <td>第３節第２日</td>\n",
       "      <td>03/25(日)</td>\n",
       "      <td>19:03</td>\n",
       "      <td>ガンバ大阪</td>\n",
       "      <td>ジュビロ磐田</td>\n",
       "      <td>万博記念競技場</td>\n",
       "      <td>スカパー／ｅ２／スカパー光</td>\n",
       "    </tr>\n",
       "    <tr>\n",
       "      <th>2</th>\n",
       "      <td>14023</td>\n",
       "      <td>25743</td>\n",
       "      <td>2012</td>\n",
       "      <td>Ｊ１</td>\n",
       "      <td>第４節第１日</td>\n",
       "      <td>03/31(土)</td>\n",
       "      <td>15:03</td>\n",
       "      <td>浦和レッズ</td>\n",
       "      <td>川崎フロンターレ</td>\n",
       "      <td>埼玉スタジアム２００２</td>\n",
       "      <td>スカパー／ｅ２／スカパー光／テレ玉</td>\n",
       "    </tr>\n",
       "    <tr>\n",
       "      <th>3</th>\n",
       "      <td>14076</td>\n",
       "      <td>24183</td>\n",
       "      <td>2012</td>\n",
       "      <td>Ｊ１</td>\n",
       "      <td>第１０節第１日</td>\n",
       "      <td>05/06(日)</td>\n",
       "      <td>13:03</td>\n",
       "      <td>横浜Ｆ・マリノス</td>\n",
       "      <td>コンサドーレ札幌</td>\n",
       "      <td>日産スタジアム</td>\n",
       "      <td>スカパー／ｅ２／スカパー光</td>\n",
       "    </tr>\n",
       "    <tr>\n",
       "      <th>4</th>\n",
       "      <td>14081</td>\n",
       "      <td>20512</td>\n",
       "      <td>2012</td>\n",
       "      <td>Ｊ１</td>\n",
       "      <td>第１０節第１日</td>\n",
       "      <td>05/06(日)</td>\n",
       "      <td>17:03</td>\n",
       "      <td>名古屋グランパス</td>\n",
       "      <td>川崎フロンターレ</td>\n",
       "      <td>豊田スタジアム</td>\n",
       "      <td>スカパー／ｅ２／スカパー光（Ｊ　ＳＰＯＲＴＳ　４）／名古屋テレビ（録）</td>\n",
       "    </tr>\n",
       "  </tbody>\n",
       "</table>\n",
       "</div>"
      ],
      "text/plain": [
       "      id      y  year stage    match   gameday   time      home      away  \\\n",
       "0  14003  19010  2012    Ｊ１   第２節第１日  03/17(土)  14:04  鹿島アントラーズ  川崎フロンターレ   \n",
       "1  14020  15072  2012    Ｊ１   第３節第２日  03/25(日)  19:03     ガンバ大阪    ジュビロ磐田   \n",
       "2  14023  25743  2012    Ｊ１   第４節第１日  03/31(土)  15:03     浦和レッズ  川崎フロンターレ   \n",
       "3  14076  24183  2012    Ｊ１  第１０節第１日  05/06(日)  13:03  横浜Ｆ・マリノス  コンサドーレ札幌   \n",
       "4  14081  20512  2012    Ｊ１  第１０節第１日  05/06(日)  17:03  名古屋グランパス  川崎フロンターレ   \n",
       "\n",
       "          stadium                                   tv  \n",
       "0  県立カシマサッカースタジアム                  スカパー／ｅ２／スカパー光／ＮＨＫ水戸  \n",
       "1         万博記念競技場                        スカパー／ｅ２／スカパー光  \n",
       "2     埼玉スタジアム２００２                    スカパー／ｅ２／スカパー光／テレ玉  \n",
       "3         日産スタジアム                        スカパー／ｅ２／スカパー光  \n",
       "4         豊田スタジアム  スカパー／ｅ２／スカパー光（Ｊ　ＳＰＯＲＴＳ　４）／名古屋テレビ（録）  "
      ]
     },
     "execution_count": 4,
     "metadata": {},
     "output_type": "execute_result"
    }
   ],
   "source": [
    "train_add = pd.read_csv(\"train_add.csv\")\n",
    "print(train_add.shape)\n",
    "print(train_add.info())\n",
    "train_add.head()"
   ]
  },
  {
   "cell_type": "code",
   "execution_count": 5,
   "metadata": {},
   "outputs": [
    {
     "data": {
      "text/plain": [
       "(1953, 11)"
      ]
     },
     "execution_count": 5,
     "metadata": {},
     "output_type": "execute_result"
    }
   ],
   "source": [
    "train = pd.concat([train, train_add])\n",
    "train.shape"
   ]
  },
  {
   "cell_type": "code",
   "execution_count": 6,
   "metadata": {},
   "outputs": [],
   "source": [
    "condition = pd.read_csv(\"condition.csv\")\n",
    "condition_add = pd.read_csv(\"condition_add.csv\")"
   ]
  },
  {
   "cell_type": "code",
   "execution_count": 7,
   "metadata": {},
   "outputs": [
    {
     "name": "stdout",
     "output_type": "stream",
     "text": [
      "(2304, 31)\n",
      "<class 'pandas.core.frame.DataFrame'>\n",
      "Int64Index: 2304 entries, 0 to 269\n",
      "Data columns (total 31 columns):\n",
      " #   Column       Non-Null Count  Dtype  \n",
      "---  ------       --------------  -----  \n",
      " 0   id           2304 non-null   int64  \n",
      " 1   home_score   2304 non-null   int64  \n",
      " 2   away_score   2304 non-null   int64  \n",
      " 3   weather      2304 non-null   object \n",
      " 4   temperature  2304 non-null   float64\n",
      " 5   humidity     2304 non-null   object \n",
      " 6   referee      2304 non-null   object \n",
      " 7   home_team    2304 non-null   object \n",
      " 8   home_01      2304 non-null   object \n",
      " 9   home_02      2304 non-null   object \n",
      " 10  home_03      2304 non-null   object \n",
      " 11  home_04      2304 non-null   object \n",
      " 12  home_05      2304 non-null   object \n",
      " 13  home_06      2304 non-null   object \n",
      " 14  home_07      2304 non-null   object \n",
      " 15  home_08      2304 non-null   object \n",
      " 16  home_09      2304 non-null   object \n",
      " 17  home_10      2304 non-null   object \n",
      " 18  home_11      2304 non-null   object \n",
      " 19  away_team    2304 non-null   object \n",
      " 20  away_01      2304 non-null   object \n",
      " 21  away_02      2304 non-null   object \n",
      " 22  away_03      2304 non-null   object \n",
      " 23  away_04      2304 non-null   object \n",
      " 24  away_05      2304 non-null   object \n",
      " 25  away_06      2304 non-null   object \n",
      " 26  away_07      2304 non-null   object \n",
      " 27  away_08      2304 non-null   object \n",
      " 28  away_09      2304 non-null   object \n",
      " 29  away_10      2304 non-null   object \n",
      " 30  away_11      2304 non-null   object \n",
      "dtypes: float64(1), int64(3), object(27)\n",
      "memory usage: 576.0+ KB\n",
      "None\n"
     ]
    },
    {
     "data": {
      "text/html": [
       "<div>\n",
       "<style scoped>\n",
       "    .dataframe tbody tr th:only-of-type {\n",
       "        vertical-align: middle;\n",
       "    }\n",
       "\n",
       "    .dataframe tbody tr th {\n",
       "        vertical-align: top;\n",
       "    }\n",
       "\n",
       "    .dataframe thead th {\n",
       "        text-align: right;\n",
       "    }\n",
       "</style>\n",
       "<table border=\"1\" class=\"dataframe\">\n",
       "  <thead>\n",
       "    <tr style=\"text-align: right;\">\n",
       "      <th></th>\n",
       "      <th>id</th>\n",
       "      <th>home_score</th>\n",
       "      <th>away_score</th>\n",
       "      <th>weather</th>\n",
       "      <th>temperature</th>\n",
       "      <th>humidity</th>\n",
       "      <th>referee</th>\n",
       "      <th>home_team</th>\n",
       "      <th>home_01</th>\n",
       "      <th>home_02</th>\n",
       "      <th>...</th>\n",
       "      <th>away_02</th>\n",
       "      <th>away_03</th>\n",
       "      <th>away_04</th>\n",
       "      <th>away_05</th>\n",
       "      <th>away_06</th>\n",
       "      <th>away_07</th>\n",
       "      <th>away_08</th>\n",
       "      <th>away_09</th>\n",
       "      <th>away_10</th>\n",
       "      <th>away_11</th>\n",
       "    </tr>\n",
       "  </thead>\n",
       "  <tbody>\n",
       "    <tr>\n",
       "      <th>0</th>\n",
       "      <td>13994</td>\n",
       "      <td>1</td>\n",
       "      <td>0</td>\n",
       "      <td>雨</td>\n",
       "      <td>3.8</td>\n",
       "      <td>66%</td>\n",
       "      <td>木村　博之</td>\n",
       "      <td>ベガルタ仙台</td>\n",
       "      <td>林　卓人</td>\n",
       "      <td>菅井　直樹</td>\n",
       "      <td>...</td>\n",
       "      <td>新井場　徹</td>\n",
       "      <td>岩政　大樹</td>\n",
       "      <td>中田　浩二</td>\n",
       "      <td>アレックス</td>\n",
       "      <td>青木　剛</td>\n",
       "      <td>増田　誓志</td>\n",
       "      <td>小笠原　満男</td>\n",
       "      <td>本山　雅志</td>\n",
       "      <td>大迫　勇也</td>\n",
       "      <td>ジュニーニョ</td>\n",
       "    </tr>\n",
       "    <tr>\n",
       "      <th>1</th>\n",
       "      <td>13995</td>\n",
       "      <td>1</td>\n",
       "      <td>0</td>\n",
       "      <td>屋内</td>\n",
       "      <td>12.4</td>\n",
       "      <td>43%</td>\n",
       "      <td>西村　雄一</td>\n",
       "      <td>名古屋グランパス</td>\n",
       "      <td>楢﨑　正剛</td>\n",
       "      <td>田中　隼磨</td>\n",
       "      <td>...</td>\n",
       "      <td>吉田　豊</td>\n",
       "      <td>岩下　敬輔</td>\n",
       "      <td>カルフィン　ヨン　ア　ピン</td>\n",
       "      <td>李　記帝</td>\n",
       "      <td>村松　大輔</td>\n",
       "      <td>河井　陽介</td>\n",
       "      <td>枝村　匠馬</td>\n",
       "      <td>高木　俊幸</td>\n",
       "      <td>アレックス</td>\n",
       "      <td>大前　元紀</td>\n",
       "    </tr>\n",
       "    <tr>\n",
       "      <th>2</th>\n",
       "      <td>13996</td>\n",
       "      <td>2</td>\n",
       "      <td>3</td>\n",
       "      <td>晴一時雨</td>\n",
       "      <td>11.3</td>\n",
       "      <td>41%</td>\n",
       "      <td>高山　啓義</td>\n",
       "      <td>ガンバ大阪</td>\n",
       "      <td>藤ヶ谷　陽介</td>\n",
       "      <td>加地　亮</td>\n",
       "      <td>...</td>\n",
       "      <td>近藤　岳登</td>\n",
       "      <td>北本　久仁衛</td>\n",
       "      <td>伊野波　雅彦</td>\n",
       "      <td>相馬　崇人</td>\n",
       "      <td>三原　雅俊</td>\n",
       "      <td>田中　英雄</td>\n",
       "      <td>野沢　拓也</td>\n",
       "      <td>橋本　英郎</td>\n",
       "      <td>森岡　亮太</td>\n",
       "      <td>大久保　嘉人</td>\n",
       "    </tr>\n",
       "    <tr>\n",
       "      <th>3</th>\n",
       "      <td>13997</td>\n",
       "      <td>1</td>\n",
       "      <td>0</td>\n",
       "      <td>曇一時雨のち晴</td>\n",
       "      <td>11.4</td>\n",
       "      <td>52%</td>\n",
       "      <td>松尾　一</td>\n",
       "      <td>サンフレッチェ広島</td>\n",
       "      <td>西川　周作</td>\n",
       "      <td>森脇　良太</td>\n",
       "      <td>...</td>\n",
       "      <td>濱田　水輝</td>\n",
       "      <td>阿部　勇樹</td>\n",
       "      <td>槙野　智章</td>\n",
       "      <td>平川　忠亮</td>\n",
       "      <td>鈴木　啓太</td>\n",
       "      <td>山田　直輝</td>\n",
       "      <td>梅崎　司</td>\n",
       "      <td>柏木　陽介</td>\n",
       "      <td>原口　元気</td>\n",
       "      <td>田中　達也</td>\n",
       "    </tr>\n",
       "    <tr>\n",
       "      <th>4</th>\n",
       "      <td>13998</td>\n",
       "      <td>0</td>\n",
       "      <td>0</td>\n",
       "      <td>屋内</td>\n",
       "      <td>22.5</td>\n",
       "      <td>32%</td>\n",
       "      <td>廣瀬　格</td>\n",
       "      <td>コンサドーレ札幌</td>\n",
       "      <td>李　昊乗</td>\n",
       "      <td>高木　純平</td>\n",
       "      <td>...</td>\n",
       "      <td>駒野　友一</td>\n",
       "      <td>チョ　ビョングク</td>\n",
       "      <td>藤田　義明</td>\n",
       "      <td>山本　脩斗</td>\n",
       "      <td>小林　裕紀</td>\n",
       "      <td>山本　康裕</td>\n",
       "      <td>山田　大記</td>\n",
       "      <td>松浦　拓弥</td>\n",
       "      <td>菅沼　実</td>\n",
       "      <td>前田　遼一</td>\n",
       "    </tr>\n",
       "  </tbody>\n",
       "</table>\n",
       "<p>5 rows × 31 columns</p>\n",
       "</div>"
      ],
      "text/plain": [
       "      id  home_score  away_score  weather  temperature humidity referee  \\\n",
       "0  13994           1           0        雨          3.8      66%   木村　博之   \n",
       "1  13995           1           0       屋内         12.4      43%   西村　雄一   \n",
       "2  13996           2           3     晴一時雨         11.3      41%   高山　啓義   \n",
       "3  13997           1           0  曇一時雨のち晴         11.4      52%    松尾　一   \n",
       "4  13998           0           0       屋内         22.5      32%    廣瀬　格   \n",
       "\n",
       "   home_team home_01 home_02  ... away_02   away_03        away_04 away_05  \\\n",
       "0     ベガルタ仙台    林　卓人   菅井　直樹  ...   新井場　徹     岩政　大樹          中田　浩二   アレックス   \n",
       "1   名古屋グランパス   楢﨑　正剛   田中　隼磨  ...    吉田　豊     岩下　敬輔  カルフィン　ヨン　ア　ピン    李　記帝   \n",
       "2      ガンバ大阪  藤ヶ谷　陽介    加地　亮  ...   近藤　岳登    北本　久仁衛         伊野波　雅彦   相馬　崇人   \n",
       "3  サンフレッチェ広島   西川　周作   森脇　良太  ...   濱田　水輝     阿部　勇樹          槙野　智章   平川　忠亮   \n",
       "4   コンサドーレ札幌    李　昊乗   高木　純平  ...   駒野　友一  チョ　ビョングク          藤田　義明   山本　脩斗   \n",
       "\n",
       "  away_06 away_07 away_08 away_09 away_10 away_11  \n",
       "0    青木　剛   増田　誓志  小笠原　満男   本山　雅志   大迫　勇也  ジュニーニョ  \n",
       "1   村松　大輔   河井　陽介   枝村　匠馬   高木　俊幸   アレックス   大前　元紀  \n",
       "2   三原　雅俊   田中　英雄   野沢　拓也   橋本　英郎   森岡　亮太  大久保　嘉人  \n",
       "3   鈴木　啓太   山田　直輝    梅崎　司   柏木　陽介   原口　元気   田中　達也  \n",
       "4   小林　裕紀   山本　康裕   山田　大記   松浦　拓弥    菅沼　実   前田　遼一  \n",
       "\n",
       "[5 rows x 31 columns]"
      ]
     },
     "execution_count": 7,
     "metadata": {},
     "output_type": "execute_result"
    }
   ],
   "source": [
    "condition = pd.concat([condition, condition_add])\n",
    "print(condition.shape)\n",
    "print(condition.info())\n",
    "condition.head()"
   ]
  },
  {
   "cell_type": "code",
   "execution_count": 8,
   "metadata": {},
   "outputs": [
    {
     "data": {
      "text/plain": [
       "(1953, 41)"
      ]
     },
     "execution_count": 8,
     "metadata": {},
     "output_type": "execute_result"
    }
   ],
   "source": [
    "train = pd.merge(train, condition, on=\"id\", how=\"left\")\n",
    "train.shape"
   ]
  },
  {
   "cell_type": "code",
   "execution_count": 9,
   "metadata": {},
   "outputs": [
    {
     "name": "stdout",
     "output_type": "stream",
     "text": [
      "(59, 3)\n",
      "<class 'pandas.core.frame.DataFrame'>\n",
      "RangeIndex: 59 entries, 0 to 58\n",
      "Data columns (total 3 columns):\n",
      " #   Column   Non-Null Count  Dtype \n",
      "---  ------   --------------  ----- \n",
      " 0   name     59 non-null     object\n",
      " 1   address  59 non-null     object\n",
      " 2   capa     59 non-null     int64 \n",
      "dtypes: int64(1), object(2)\n",
      "memory usage: 1.5+ KB\n",
      "None\n"
     ]
    },
    {
     "data": {
      "text/html": [
       "<div>\n",
       "<style scoped>\n",
       "    .dataframe tbody tr th:only-of-type {\n",
       "        vertical-align: middle;\n",
       "    }\n",
       "\n",
       "    .dataframe tbody tr th {\n",
       "        vertical-align: top;\n",
       "    }\n",
       "\n",
       "    .dataframe thead th {\n",
       "        text-align: right;\n",
       "    }\n",
       "</style>\n",
       "<table border=\"1\" class=\"dataframe\">\n",
       "  <thead>\n",
       "    <tr style=\"text-align: right;\">\n",
       "      <th></th>\n",
       "      <th>name</th>\n",
       "      <th>address</th>\n",
       "      <th>capa</th>\n",
       "    </tr>\n",
       "  </thead>\n",
       "  <tbody>\n",
       "    <tr>\n",
       "      <th>0</th>\n",
       "      <td>名古屋市瑞穂陸上競技場</td>\n",
       "      <td>愛知県名古屋市瑞穂区山下通5-1</td>\n",
       "      <td>20000</td>\n",
       "    </tr>\n",
       "    <tr>\n",
       "      <th>1</th>\n",
       "      <td>豊田スタジアム</td>\n",
       "      <td>愛知県豊田市千石町7-2</td>\n",
       "      <td>40000</td>\n",
       "    </tr>\n",
       "    <tr>\n",
       "      <th>2</th>\n",
       "      <td>フクダ電子アリーナ</td>\n",
       "      <td>千葉県千葉市中央区川崎町1-20</td>\n",
       "      <td>18500</td>\n",
       "    </tr>\n",
       "    <tr>\n",
       "      <th>3</th>\n",
       "      <td>日立柏サッカー場</td>\n",
       "      <td>千葉県柏市日立台1-2-50</td>\n",
       "      <td>15349</td>\n",
       "    </tr>\n",
       "    <tr>\n",
       "      <th>4</th>\n",
       "      <td>ニンジニアスタジアム</td>\n",
       "      <td>愛媛県松山市上野町乙46</td>\n",
       "      <td>15576</td>\n",
       "    </tr>\n",
       "  </tbody>\n",
       "</table>\n",
       "</div>"
      ],
      "text/plain": [
       "          name           address   capa\n",
       "0  名古屋市瑞穂陸上競技場  愛知県名古屋市瑞穂区山下通5-1  20000\n",
       "1      豊田スタジアム      愛知県豊田市千石町7-2  40000\n",
       "2    フクダ電子アリーナ  千葉県千葉市中央区川崎町1-20  18500\n",
       "3     日立柏サッカー場    千葉県柏市日立台1-2-50  15349\n",
       "4   ニンジニアスタジアム      愛媛県松山市上野町乙46  15576"
      ]
     },
     "execution_count": 9,
     "metadata": {},
     "output_type": "execute_result"
    }
   ],
   "source": [
    "stadium = pd.read_csv(\"stadium.csv\")\n",
    "print(stadium.shape)\n",
    "print(stadium.info())\n",
    "stadium.head()"
   ]
  },
  {
   "cell_type": "code",
   "execution_count": 10,
   "metadata": {},
   "outputs": [
    {
     "data": {
      "text/plain": [
       "(1953, 44)"
      ]
     },
     "execution_count": 10,
     "metadata": {},
     "output_type": "execute_result"
    }
   ],
   "source": [
    "train = pd.merge(train, stadium, how=\"left\", left_on=\"stadium\", right_on=\"name\")\n",
    "train.shape"
   ]
  },
  {
   "cell_type": "code",
   "execution_count": 11,
   "metadata": {},
   "outputs": [
    {
     "data": {
      "text/plain": [
       "Index(['id', 'y', 'year', 'stage', 'match', 'gameday', 'time', 'home', 'away',\n",
       "       'stadium', 'tv', 'home_score', 'away_score', 'weather', 'temperature',\n",
       "       'humidity', 'referee', 'home_team', 'home_01', 'home_02', 'home_03',\n",
       "       'home_04', 'home_05', 'home_06', 'home_07', 'home_08', 'home_09',\n",
       "       'home_10', 'home_11', 'away_team', 'away_01', 'away_02', 'away_03',\n",
       "       'away_04', 'away_05', 'away_06', 'away_07', 'away_08', 'away_09',\n",
       "       'away_10', 'away_11', 'name', 'address', 'capa'],\n",
       "      dtype='object')"
      ]
     },
     "execution_count": 11,
     "metadata": {},
     "output_type": "execute_result"
    }
   ],
   "source": [
    "train.columns"
   ]
  },
  {
   "cell_type": "code",
   "execution_count": 12,
   "metadata": {},
   "outputs": [],
   "source": [
    "train = train.drop(\"name\", axis=1)"
   ]
  },
  {
   "cell_type": "code",
   "execution_count": 13,
   "metadata": {},
   "outputs": [],
   "source": [
    "train.to_csv(\"data_all.csv\", index=None)"
   ]
  },
  {
   "cell_type": "code",
   "execution_count": 14,
   "metadata": {},
   "outputs": [],
   "source": [
    "train = pd.read_csv(\"data_all.csv\")"
   ]
  },
  {
   "cell_type": "code",
   "execution_count": 15,
   "metadata": {},
   "outputs": [
    {
     "name": "stdout",
     "output_type": "stream",
     "text": [
      "<class 'pandas.core.frame.DataFrame'>\n",
      "RangeIndex: 1953 entries, 0 to 1952\n",
      "Data columns (total 43 columns):\n",
      " #   Column       Non-Null Count  Dtype  \n",
      "---  ------       --------------  -----  \n",
      " 0   id           1953 non-null   int64  \n",
      " 1   y            1953 non-null   int64  \n",
      " 2   year         1953 non-null   int64  \n",
      " 3   stage        1953 non-null   object \n",
      " 4   match        1953 non-null   object \n",
      " 5   gameday      1953 non-null   object \n",
      " 6   time         1953 non-null   object \n",
      " 7   home         1953 non-null   object \n",
      " 8   away         1953 non-null   object \n",
      " 9   stadium      1953 non-null   object \n",
      " 10  tv           1953 non-null   object \n",
      " 11  home_score   1953 non-null   int64  \n",
      " 12  away_score   1953 non-null   int64  \n",
      " 13  weather      1953 non-null   object \n",
      " 14  temperature  1953 non-null   float64\n",
      " 15  humidity     1953 non-null   object \n",
      " 16  referee      1953 non-null   object \n",
      " 17  home_team    1953 non-null   object \n",
      " 18  home_01      1953 non-null   object \n",
      " 19  home_02      1953 non-null   object \n",
      " 20  home_03      1953 non-null   object \n",
      " 21  home_04      1953 non-null   object \n",
      " 22  home_05      1953 non-null   object \n",
      " 23  home_06      1953 non-null   object \n",
      " 24  home_07      1953 non-null   object \n",
      " 25  home_08      1953 non-null   object \n",
      " 26  home_09      1953 non-null   object \n",
      " 27  home_10      1953 non-null   object \n",
      " 28  home_11      1953 non-null   object \n",
      " 29  away_team    1953 non-null   object \n",
      " 30  away_01      1953 non-null   object \n",
      " 31  away_02      1953 non-null   object \n",
      " 32  away_03      1953 non-null   object \n",
      " 33  away_04      1953 non-null   object \n",
      " 34  away_05      1953 non-null   object \n",
      " 35  away_06      1953 non-null   object \n",
      " 36  away_07      1953 non-null   object \n",
      " 37  away_08      1953 non-null   object \n",
      " 38  away_09      1953 non-null   object \n",
      " 39  away_10      1953 non-null   object \n",
      " 40  away_11      1953 non-null   object \n",
      " 41  address      1953 non-null   object \n",
      " 42  capa         1953 non-null   int64  \n",
      "dtypes: float64(1), int64(6), object(36)\n",
      "memory usage: 656.2+ KB\n",
      "None\n"
     ]
    },
    {
     "data": {
      "text/html": [
       "<div>\n",
       "<style scoped>\n",
       "    .dataframe tbody tr th:only-of-type {\n",
       "        vertical-align: middle;\n",
       "    }\n",
       "\n",
       "    .dataframe tbody tr th {\n",
       "        vertical-align: top;\n",
       "    }\n",
       "\n",
       "    .dataframe thead th {\n",
       "        text-align: right;\n",
       "    }\n",
       "</style>\n",
       "<table border=\"1\" class=\"dataframe\">\n",
       "  <thead>\n",
       "    <tr style=\"text-align: right;\">\n",
       "      <th></th>\n",
       "      <th>id</th>\n",
       "      <th>y</th>\n",
       "      <th>year</th>\n",
       "      <th>stage</th>\n",
       "      <th>match</th>\n",
       "      <th>gameday</th>\n",
       "      <th>time</th>\n",
       "      <th>home</th>\n",
       "      <th>away</th>\n",
       "      <th>stadium</th>\n",
       "      <th>...</th>\n",
       "      <th>away_04</th>\n",
       "      <th>away_05</th>\n",
       "      <th>away_06</th>\n",
       "      <th>away_07</th>\n",
       "      <th>away_08</th>\n",
       "      <th>away_09</th>\n",
       "      <th>away_10</th>\n",
       "      <th>away_11</th>\n",
       "      <th>address</th>\n",
       "      <th>capa</th>\n",
       "    </tr>\n",
       "  </thead>\n",
       "  <tbody>\n",
       "    <tr>\n",
       "      <th>0</th>\n",
       "      <td>13994</td>\n",
       "      <td>18250</td>\n",
       "      <td>2012</td>\n",
       "      <td>Ｊ１</td>\n",
       "      <td>第１節第１日</td>\n",
       "      <td>03/10(土)</td>\n",
       "      <td>14:04</td>\n",
       "      <td>ベガルタ仙台</td>\n",
       "      <td>鹿島アントラーズ</td>\n",
       "      <td>ユアテックスタジアム仙台</td>\n",
       "      <td>...</td>\n",
       "      <td>中田　浩二</td>\n",
       "      <td>アレックス</td>\n",
       "      <td>青木　剛</td>\n",
       "      <td>増田　誓志</td>\n",
       "      <td>小笠原　満男</td>\n",
       "      <td>本山　雅志</td>\n",
       "      <td>大迫　勇也</td>\n",
       "      <td>ジュニーニョ</td>\n",
       "      <td>宮城県仙台市泉区七北田字柳78</td>\n",
       "      <td>19694</td>\n",
       "    </tr>\n",
       "    <tr>\n",
       "      <th>1</th>\n",
       "      <td>13995</td>\n",
       "      <td>24316</td>\n",
       "      <td>2012</td>\n",
       "      <td>Ｊ１</td>\n",
       "      <td>第１節第１日</td>\n",
       "      <td>03/10(土)</td>\n",
       "      <td>14:04</td>\n",
       "      <td>名古屋グランパス</td>\n",
       "      <td>清水エスパルス</td>\n",
       "      <td>豊田スタジアム</td>\n",
       "      <td>...</td>\n",
       "      <td>カルフィン　ヨン　ア　ピン</td>\n",
       "      <td>李　記帝</td>\n",
       "      <td>村松　大輔</td>\n",
       "      <td>河井　陽介</td>\n",
       "      <td>枝村　匠馬</td>\n",
       "      <td>高木　俊幸</td>\n",
       "      <td>アレックス</td>\n",
       "      <td>大前　元紀</td>\n",
       "      <td>愛知県豊田市千石町7-2</td>\n",
       "      <td>40000</td>\n",
       "    </tr>\n",
       "    <tr>\n",
       "      <th>2</th>\n",
       "      <td>13996</td>\n",
       "      <td>17066</td>\n",
       "      <td>2012</td>\n",
       "      <td>Ｊ１</td>\n",
       "      <td>第１節第１日</td>\n",
       "      <td>03/10(土)</td>\n",
       "      <td>14:04</td>\n",
       "      <td>ガンバ大阪</td>\n",
       "      <td>ヴィッセル神戸</td>\n",
       "      <td>万博記念競技場</td>\n",
       "      <td>...</td>\n",
       "      <td>伊野波　雅彦</td>\n",
       "      <td>相馬　崇人</td>\n",
       "      <td>三原　雅俊</td>\n",
       "      <td>田中　英雄</td>\n",
       "      <td>野沢　拓也</td>\n",
       "      <td>橋本　英郎</td>\n",
       "      <td>森岡　亮太</td>\n",
       "      <td>大久保　嘉人</td>\n",
       "      <td>大阪府吹田市千里万博公園5-2</td>\n",
       "      <td>21000</td>\n",
       "    </tr>\n",
       "    <tr>\n",
       "      <th>3</th>\n",
       "      <td>13997</td>\n",
       "      <td>29603</td>\n",
       "      <td>2012</td>\n",
       "      <td>Ｊ１</td>\n",
       "      <td>第１節第１日</td>\n",
       "      <td>03/10(土)</td>\n",
       "      <td>14:06</td>\n",
       "      <td>サンフレッチェ広島</td>\n",
       "      <td>浦和レッズ</td>\n",
       "      <td>エディオンスタジアム広島</td>\n",
       "      <td>...</td>\n",
       "      <td>槙野　智章</td>\n",
       "      <td>平川　忠亮</td>\n",
       "      <td>鈴木　啓太</td>\n",
       "      <td>山田　直輝</td>\n",
       "      <td>梅崎　司</td>\n",
       "      <td>柏木　陽介</td>\n",
       "      <td>原口　元気</td>\n",
       "      <td>田中　達也</td>\n",
       "      <td>広島県広島市安佐南区大塚西5-1-1</td>\n",
       "      <td>50000</td>\n",
       "    </tr>\n",
       "    <tr>\n",
       "      <th>4</th>\n",
       "      <td>13998</td>\n",
       "      <td>25353</td>\n",
       "      <td>2012</td>\n",
       "      <td>Ｊ１</td>\n",
       "      <td>第１節第１日</td>\n",
       "      <td>03/10(土)</td>\n",
       "      <td>14:04</td>\n",
       "      <td>コンサドーレ札幌</td>\n",
       "      <td>ジュビロ磐田</td>\n",
       "      <td>札幌ドーム</td>\n",
       "      <td>...</td>\n",
       "      <td>藤田　義明</td>\n",
       "      <td>山本　脩斗</td>\n",
       "      <td>小林　裕紀</td>\n",
       "      <td>山本　康裕</td>\n",
       "      <td>山田　大記</td>\n",
       "      <td>松浦　拓弥</td>\n",
       "      <td>菅沼　実</td>\n",
       "      <td>前田　遼一</td>\n",
       "      <td>北海道札幌市豊平区羊ヶ丘1</td>\n",
       "      <td>39232</td>\n",
       "    </tr>\n",
       "  </tbody>\n",
       "</table>\n",
       "<p>5 rows × 43 columns</p>\n",
       "</div>"
      ],
      "text/plain": [
       "      id      y  year stage   match   gameday   time       home      away  \\\n",
       "0  13994  18250  2012    Ｊ１  第１節第１日  03/10(土)  14:04     ベガルタ仙台  鹿島アントラーズ   \n",
       "1  13995  24316  2012    Ｊ１  第１節第１日  03/10(土)  14:04   名古屋グランパス   清水エスパルス   \n",
       "2  13996  17066  2012    Ｊ１  第１節第１日  03/10(土)  14:04      ガンバ大阪   ヴィッセル神戸   \n",
       "3  13997  29603  2012    Ｊ１  第１節第１日  03/10(土)  14:06  サンフレッチェ広島     浦和レッズ   \n",
       "4  13998  25353  2012    Ｊ１  第１節第１日  03/10(土)  14:04   コンサドーレ札幌    ジュビロ磐田   \n",
       "\n",
       "        stadium  ...        away_04  away_05  away_06 away_07  away_08  \\\n",
       "0  ユアテックスタジアム仙台  ...          中田　浩二    アレックス     青木　剛   増田　誓志   小笠原　満男   \n",
       "1       豊田スタジアム  ...  カルフィン　ヨン　ア　ピン     李　記帝    村松　大輔   河井　陽介    枝村　匠馬   \n",
       "2       万博記念競技場  ...         伊野波　雅彦    相馬　崇人    三原　雅俊   田中　英雄    野沢　拓也   \n",
       "3  エディオンスタジアム広島  ...          槙野　智章    平川　忠亮    鈴木　啓太   山田　直輝     梅崎　司   \n",
       "4         札幌ドーム  ...          藤田　義明    山本　脩斗    小林　裕紀   山本　康裕    山田　大記   \n",
       "\n",
       "  away_09 away_10 away_11             address   capa  \n",
       "0   本山　雅志   大迫　勇也  ジュニーニョ     宮城県仙台市泉区七北田字柳78  19694  \n",
       "1   高木　俊幸   アレックス   大前　元紀        愛知県豊田市千石町7-2  40000  \n",
       "2   橋本　英郎   森岡　亮太  大久保　嘉人     大阪府吹田市千里万博公園5-2  21000  \n",
       "3   柏木　陽介   原口　元気   田中　達也  広島県広島市安佐南区大塚西5-1-1  50000  \n",
       "4   松浦　拓弥    菅沼　実   前田　遼一       北海道札幌市豊平区羊ヶ丘1  39232  \n",
       "\n",
       "[5 rows x 43 columns]"
      ]
     },
     "execution_count": 15,
     "metadata": {},
     "output_type": "execute_result"
    }
   ],
   "source": [
    "print(train.info())\n",
    "train.head()"
   ]
  },
  {
   "cell_type": "code",
   "execution_count": 16,
   "metadata": {},
   "outputs": [],
   "source": [
    "def get_month(x):\n",
    "    return int(x[0:2])\n",
    "def get_week(x):\n",
    "    return x[6:7]\n",
    "def get_match(x):\n",
    "    return int(x[x.find(\"第\")+1:x.find(\"節\")])\n",
    "def get_humidity(x):\n",
    "    return int(x[:-1]) / 100"
   ]
  },
  {
   "cell_type": "code",
   "execution_count": 17,
   "metadata": {},
   "outputs": [
    {
     "name": "stdout",
     "output_type": "stream",
     "text": [
      "[ 3  4  5  6  7  8  9 10 11 12]\n"
     ]
    }
   ],
   "source": [
    "train[\"month\"] = train[\"gameday\"].apply(get_month) \n",
    "print(train[\"month\"].unique())"
   ]
  },
  {
   "cell_type": "code",
   "execution_count": 18,
   "metadata": {},
   "outputs": [
    {
     "name": "stdout",
     "output_type": "stream",
     "text": [
      "['土' '日' '木' '水' '金' '火' '月']\n"
     ]
    }
   ],
   "source": [
    "train[\"week\"] = train[\"gameday\"].apply(get_week)\n",
    "print(train[\"week\"].unique())"
   ]
  },
  {
   "cell_type": "code",
   "execution_count": 19,
   "metadata": {},
   "outputs": [
    {
     "name": "stdout",
     "output_type": "stream",
     "text": [
      "[ 1  2  3  4  5  6  7  8  9 10 11 12 13 14 15 16 17 18 19 20 21 22 23 24\n",
      " 25 26 27 28 29 30 31 32 33 34 35 36 37 38 39 40 41 42]\n"
     ]
    }
   ],
   "source": [
    "train[\"match_num\"] = train[\"match\"].apply(get_match)\n",
    "print(train[\"match_num\"].unique())"
   ]
  },
  {
   "cell_type": "code",
   "execution_count": 20,
   "metadata": {},
   "outputs": [
    {
     "name": "stdout",
     "output_type": "stream",
     "text": [
      "[0.66 0.43 0.41 0.52 0.32 0.33 0.65 0.57 0.46 0.79 0.8  0.68 0.7  0.95\n",
      " 0.83 0.6  0.77 0.51 0.3  0.35 0.58 0.73 0.82 0.62 0.49 0.64 0.47 0.5\n",
      " 0.25 0.53 0.26 0.28 0.63 0.2  0.31 0.76 0.93 0.87 0.78 0.54 0.36 0.55\n",
      " 0.34 0.75 0.71 0.39 0.74 0.59 0.88 0.9  0.85 0.27 0.48 0.45 0.4  0.69\n",
      " 0.61 0.56 0.92 0.96 0.84 0.94 0.72 0.91 0.89 0.86 0.81 0.67 0.38 0.37\n",
      " 0.44 0.16 0.18 0.24 0.42 0.29 0.23 0.22 0.12 0.21 0.99 0.97 0.14 0.13\n",
      " 0.19 0.98]\n"
     ]
    }
   ],
   "source": [
    "train[\"humidity\"] = train[\"humidity\"].apply(get_humidity) \n",
    "print(train[\"humidity\"].unique())"
   ]
  },
  {
   "cell_type": "code",
   "execution_count": 21,
   "metadata": {},
   "outputs": [
    {
     "name": "stdout",
     "output_type": "stream",
     "text": [
      "['ベガルタ仙台' '名古屋グランパス' 'ガンバ大阪' 'サンフレッチェ広島' 'コンサドーレ札幌' 'サガン鳥栖' '川崎フロンターレ'\n",
      " '大宮アルディージャ' '柏レイソル' '浦和レッズ' '横浜Ｆ・マリノス' 'アルビレックス新潟' 'セレッソ大阪' '清水エスパルス'\n",
      " 'ジュビロ磐田' 'ヴィッセル神戸' 'ＦＣ東京' '鹿島アントラーズ' '水戸ホーリーホック' '東京ヴェルディ' 'ヴァンフォーレ甲府'\n",
      " 'ＦＣ岐阜' 'ファジアーノ岡山' 'アビスパ福岡' '大分トリニータ' '愛媛ＦＣ' '湘南ベルマーレ' 'ギラヴァンツ北九州' '栃木ＳＣ'\n",
      " 'ＦＣ町田ゼルビア' '松本山雅ＦＣ' '徳島ヴォルティス' 'ザスパ草津' 'ロアッソ熊本' '京都サンガF.C.' 'ガイナーレ鳥取'\n",
      " 'モンテディオ山形' '横浜ＦＣ' 'カターレ富山' 'ジェフユナイテッド千葉' 'ザスパクサツ群馬' 'Ｖ・ファーレン長崎'\n",
      " 'カマタマーレ讃岐']\n",
      "43\n"
     ]
    }
   ],
   "source": [
    "print(train[\"home\"].unique())\n",
    "print(train[\"home\"].nunique())"
   ]
  },
  {
   "cell_type": "code",
   "execution_count": 22,
   "metadata": {},
   "outputs": [
    {
     "name": "stdout",
     "output_type": "stream",
     "text": [
      "42\n"
     ]
    }
   ],
   "source": [
    "train[\"home\"] = train[\"home\"].replace(\"ザスパ草津\", \"ザスパクサツ群馬\")\n",
    "print(train[\"home\"].nunique())"
   ]
  },
  {
   "cell_type": "code",
   "execution_count": 23,
   "metadata": {},
   "outputs": [
    {
     "data": {
      "text/html": [
       "<div>\n",
       "<style scoped>\n",
       "    .dataframe tbody tr th:only-of-type {\n",
       "        vertical-align: middle;\n",
       "    }\n",
       "\n",
       "    .dataframe tbody tr th {\n",
       "        vertical-align: top;\n",
       "    }\n",
       "\n",
       "    .dataframe thead th {\n",
       "        text-align: right;\n",
       "    }\n",
       "</style>\n",
       "<table border=\"1\" class=\"dataframe\">\n",
       "  <thead>\n",
       "    <tr style=\"text-align: right;\">\n",
       "      <th></th>\n",
       "      <th>id</th>\n",
       "      <th>y</th>\n",
       "      <th>year</th>\n",
       "      <th>home_score</th>\n",
       "      <th>away_score</th>\n",
       "      <th>temperature</th>\n",
       "      <th>humidity</th>\n",
       "      <th>capa</th>\n",
       "      <th>month</th>\n",
       "      <th>match_num</th>\n",
       "    </tr>\n",
       "  </thead>\n",
       "  <tbody>\n",
       "    <tr>\n",
       "      <th>count</th>\n",
       "      <td>1953.000000</td>\n",
       "      <td>1953.000000</td>\n",
       "      <td>1953.000000</td>\n",
       "      <td>1953.000000</td>\n",
       "      <td>1953.000000</td>\n",
       "      <td>1953.000000</td>\n",
       "      <td>1953.000000</td>\n",
       "      <td>1953.000000</td>\n",
       "      <td>1953.000000</td>\n",
       "      <td>1953.000000</td>\n",
       "    </tr>\n",
       "    <tr>\n",
       "      <th>mean</th>\n",
       "      <td>15049.442396</td>\n",
       "      <td>10629.558116</td>\n",
       "      <td>2012.820276</td>\n",
       "      <td>1.366103</td>\n",
       "      <td>1.204301</td>\n",
       "      <td>20.438914</td>\n",
       "      <td>0.602202</td>\n",
       "      <td>25688.549411</td>\n",
       "      <td>6.316948</td>\n",
       "      <td>18.050691</td>\n",
       "    </tr>\n",
       "    <tr>\n",
       "      <th>std</th>\n",
       "      <td>646.260483</td>\n",
       "      <td>8102.315189</td>\n",
       "      <td>0.758124</td>\n",
       "      <td>1.203060</td>\n",
       "      <td>1.125224</td>\n",
       "      <td>6.438737</td>\n",
       "      <td>0.199531</td>\n",
       "      <td>14016.934408</td>\n",
       "      <td>2.500493</td>\n",
       "      <td>11.153364</td>\n",
       "    </tr>\n",
       "    <tr>\n",
       "      <th>min</th>\n",
       "      <td>13994.000000</td>\n",
       "      <td>0.000000</td>\n",
       "      <td>2012.000000</td>\n",
       "      <td>0.000000</td>\n",
       "      <td>0.000000</td>\n",
       "      <td>1.400000</td>\n",
       "      <td>0.120000</td>\n",
       "      <td>3560.000000</td>\n",
       "      <td>3.000000</td>\n",
       "      <td>1.000000</td>\n",
       "    </tr>\n",
       "    <tr>\n",
       "      <th>25%</th>\n",
       "      <td>14482.000000</td>\n",
       "      <td>4687.000000</td>\n",
       "      <td>2012.000000</td>\n",
       "      <td>0.000000</td>\n",
       "      <td>0.000000</td>\n",
       "      <td>15.800000</td>\n",
       "      <td>0.440000</td>\n",
       "      <td>15589.000000</td>\n",
       "      <td>4.000000</td>\n",
       "      <td>9.000000</td>\n",
       "    </tr>\n",
       "    <tr>\n",
       "      <th>50%</th>\n",
       "      <td>15044.000000</td>\n",
       "      <td>8594.000000</td>\n",
       "      <td>2013.000000</td>\n",
       "      <td>1.000000</td>\n",
       "      <td>1.000000</td>\n",
       "      <td>21.400000</td>\n",
       "      <td>0.630000</td>\n",
       "      <td>20246.000000</td>\n",
       "      <td>6.000000</td>\n",
       "      <td>17.000000</td>\n",
       "    </tr>\n",
       "    <tr>\n",
       "      <th>75%</th>\n",
       "      <td>15532.000000</td>\n",
       "      <td>13471.000000</td>\n",
       "      <td>2013.000000</td>\n",
       "      <td>2.000000</td>\n",
       "      <td>2.000000</td>\n",
       "      <td>25.600000</td>\n",
       "      <td>0.770000</td>\n",
       "      <td>30132.000000</td>\n",
       "      <td>8.000000</td>\n",
       "      <td>27.000000</td>\n",
       "    </tr>\n",
       "    <tr>\n",
       "      <th>max</th>\n",
       "      <td>16238.000000</td>\n",
       "      <td>62632.000000</td>\n",
       "      <td>2014.000000</td>\n",
       "      <td>7.000000</td>\n",
       "      <td>8.000000</td>\n",
       "      <td>34.200000</td>\n",
       "      <td>0.990000</td>\n",
       "      <td>72327.000000</td>\n",
       "      <td>12.000000</td>\n",
       "      <td>42.000000</td>\n",
       "    </tr>\n",
       "  </tbody>\n",
       "</table>\n",
       "</div>"
      ],
      "text/plain": [
       "                 id             y         year   home_score   away_score  \\\n",
       "count   1953.000000   1953.000000  1953.000000  1953.000000  1953.000000   \n",
       "mean   15049.442396  10629.558116  2012.820276     1.366103     1.204301   \n",
       "std      646.260483   8102.315189     0.758124     1.203060     1.125224   \n",
       "min    13994.000000      0.000000  2012.000000     0.000000     0.000000   \n",
       "25%    14482.000000   4687.000000  2012.000000     0.000000     0.000000   \n",
       "50%    15044.000000   8594.000000  2013.000000     1.000000     1.000000   \n",
       "75%    15532.000000  13471.000000  2013.000000     2.000000     2.000000   \n",
       "max    16238.000000  62632.000000  2014.000000     7.000000     8.000000   \n",
       "\n",
       "       temperature     humidity          capa        month    match_num  \n",
       "count  1953.000000  1953.000000   1953.000000  1953.000000  1953.000000  \n",
       "mean     20.438914     0.602202  25688.549411     6.316948    18.050691  \n",
       "std       6.438737     0.199531  14016.934408     2.500493    11.153364  \n",
       "min       1.400000     0.120000   3560.000000     3.000000     1.000000  \n",
       "25%      15.800000     0.440000  15589.000000     4.000000     9.000000  \n",
       "50%      21.400000     0.630000  20246.000000     6.000000    17.000000  \n",
       "75%      25.600000     0.770000  30132.000000     8.000000    27.000000  \n",
       "max      34.200000     0.990000  72327.000000    12.000000    42.000000  "
      ]
     },
     "execution_count": 23,
     "metadata": {},
     "output_type": "execute_result"
    }
   ],
   "source": [
    "train.describe()"
   ]
  },
  {
   "cell_type": "code",
   "execution_count": 24,
   "metadata": {},
   "outputs": [
    {
     "data": {
      "image/png": "[encoded data removed]",
      "text/plain": [
       "<Figure size 432x288 with 1 Axes>"
      ]
     },
     "metadata": {},
     "output_type": "display_data"
    }
   ],
   "source": [
    "train = train[train[\"y\"] > 0]\n",
    "train[\"y\"].plot.hist(title=\"観客数\")\n",
    "plt.show()"
   ]
  },
  {
   "cell_type": "code",
   "execution_count": 25,
   "metadata": {},
   "outputs": [
    {
     "data": {
      "text/plain": [
       "<matplotlib.axes._subplots.AxesSubplot at 0x7f7928e9c5d0>"
      ]
     },
     "execution_count": 25,
     "metadata": {},
     "output_type": "execute_result"
    },
    {
     "data": {
      "image/png": "[encoded data removed]",
      "text/plain": [
       "<Figure size 432x288 with 1 Axes>"
      ]
     },
     "metadata": {},
     "output_type": "display_data"
    }
   ],
   "source": [
    "sns.boxplot(x=\"month\", y=\"y\", data=train)"
   ]
  },
  {
   "cell_type": "code",
   "execution_count": 26,
   "metadata": {},
   "outputs": [
    {
     "data": {
      "text/plain": [
       "<matplotlib.axes._subplots.AxesSubplot at 0x7f7928d24110>"
      ]
     },
     "execution_count": 26,
     "metadata": {},
     "output_type": "execute_result"
    },
    {
     "data": {
      "image/png": "[encoded data removed]",
      "text/plain": [
       "<Figure size 432x288 with 1 Axes>"
      ]
     },
     "metadata": {},
     "output_type": "display_data"
    }
   ],
   "source": [
    "sns.boxplot(x=\"week\", y=\"y\", data=train)"
   ]
  },
  {
   "cell_type": "code",
   "execution_count": 27,
   "metadata": {},
   "outputs": [
    {
     "data": {
      "image/png": "[encoded data removed]",
      "text/plain": [
       "<Figure size 432x288 with 1 Axes>"
      ]
     },
     "metadata": {},
     "output_type": "display_data"
    }
   ],
   "source": [
    "tmp_1 = train[train[\"stage\"] == \"Ｊ１\"]\n",
    "tmp_2 = train[train[\"stage\"] == \"Ｊ２\"]\n",
    "sns.boxplot(data=tmp_1, x=\"home\", y=\"y\")\n",
    "plt.xticks(rotation=85)\n",
    "plt.show()"
   ]
  },
  {
   "cell_type": "code",
   "execution_count": 28,
   "metadata": {},
   "outputs": [
    {
     "data": {
      "image/png": "[encoded data removed]",
      "text/plain": [
       "<Figure size 432x288 with 1 Axes>"
      ]
     },
     "metadata": {},
     "output_type": "display_data"
    }
   ],
   "source": [
    "sns.boxplot(data=tmp_2, x=\"home\", y=\"y\")\n",
    "plt.xticks(rotation=85)\n",
    "plt.show()"
   ]
  },
  {
   "cell_type": "code",
   "execution_count": 29,
   "metadata": {},
   "outputs": [],
   "source": [
    "def get_num(x):\n",
    "    return len(x.split(\"／\"))"
   ]
  },
  {
   "cell_type": "code",
   "execution_count": 30,
   "metadata": {},
   "outputs": [],
   "source": [
    "train[\"tv_num\"] = train[\"tv\"].apply(get_num)"
   ]
  },
  {
   "cell_type": "code",
   "execution_count": 31,
   "metadata": {},
   "outputs": [
    {
     "name": "stdout",
     "output_type": "stream",
     "text": [
      "[4 3 5 2 1]\n"
     ]
    }
   ],
   "source": [
    "print(train[\"tv_num\"].unique())"
   ]
  },
  {
   "cell_type": "code",
   "execution_count": 32,
   "metadata": {},
   "outputs": [
    {
     "data": {
      "image/png": "[encoded data removed]",
      "text/plain": [
       "<Figure size 432x288 with 1 Axes>"
      ]
     },
     "metadata": {},
     "output_type": "display_data"
    }
   ],
   "source": [
    "sns.boxplot(data=train, x=\"tv_num\", y=\"y\")\n",
    "plt.show()"
   ]
  },
  {
   "cell_type": "code",
   "execution_count": 33,
   "metadata": {},
   "outputs": [],
   "source": [
    "train[\"di\"] = 0.81*train[\"temperature\"]+0.01*train[\"humidity\"]*(0.99*train[\"temperature\"]-14.3)+46.3"
   ]
  },
  {
   "cell_type": "code",
   "execution_count": 34,
   "metadata": {},
   "outputs": [
    {
     "data": {
      "text/html": [
       "<div>\n",
       "<style scoped>\n",
       "    .dataframe tbody tr th:only-of-type {\n",
       "        vertical-align: middle;\n",
       "    }\n",
       "\n",
       "    .dataframe tbody tr th {\n",
       "        vertical-align: top;\n",
       "    }\n",
       "\n",
       "    .dataframe thead th {\n",
       "        text-align: right;\n",
       "    }\n",
       "</style>\n",
       "<table border=\"1\" class=\"dataframe\">\n",
       "  <thead>\n",
       "    <tr style=\"text-align: right;\">\n",
       "      <th></th>\n",
       "      <th>id</th>\n",
       "      <th>y</th>\n",
       "      <th>year</th>\n",
       "      <th>stage</th>\n",
       "      <th>match</th>\n",
       "      <th>gameday</th>\n",
       "      <th>time</th>\n",
       "      <th>home</th>\n",
       "      <th>away</th>\n",
       "      <th>stadium</th>\n",
       "      <th>...</th>\n",
       "      <th>away_09</th>\n",
       "      <th>away_10</th>\n",
       "      <th>away_11</th>\n",
       "      <th>address</th>\n",
       "      <th>capa</th>\n",
       "      <th>month</th>\n",
       "      <th>week</th>\n",
       "      <th>match_num</th>\n",
       "      <th>tv_num</th>\n",
       "      <th>di</th>\n",
       "    </tr>\n",
       "  </thead>\n",
       "  <tbody>\n",
       "    <tr>\n",
       "      <th>0</th>\n",
       "      <td>13994</td>\n",
       "      <td>18250</td>\n",
       "      <td>2012</td>\n",
       "      <td>Ｊ１</td>\n",
       "      <td>第１節第１日</td>\n",
       "      <td>03/10(土)</td>\n",
       "      <td>14:04</td>\n",
       "      <td>ベガルタ仙台</td>\n",
       "      <td>鹿島アントラーズ</td>\n",
       "      <td>ユアテックスタジアム仙台</td>\n",
       "      <td>...</td>\n",
       "      <td>本山　雅志</td>\n",
       "      <td>大迫　勇也</td>\n",
       "      <td>ジュニーニョ</td>\n",
       "      <td>宮城県仙台市泉区七北田字柳78</td>\n",
       "      <td>19694</td>\n",
       "      <td>3</td>\n",
       "      <td>土</td>\n",
       "      <td>1</td>\n",
       "      <td>4</td>\n",
       "      <td>49.308449</td>\n",
       "    </tr>\n",
       "    <tr>\n",
       "      <th>1</th>\n",
       "      <td>13995</td>\n",
       "      <td>24316</td>\n",
       "      <td>2012</td>\n",
       "      <td>Ｊ１</td>\n",
       "      <td>第１節第１日</td>\n",
       "      <td>03/10(土)</td>\n",
       "      <td>14:04</td>\n",
       "      <td>名古屋グランパス</td>\n",
       "      <td>清水エスパルス</td>\n",
       "      <td>豊田スタジアム</td>\n",
       "      <td>...</td>\n",
       "      <td>高木　俊幸</td>\n",
       "      <td>アレックス</td>\n",
       "      <td>大前　元紀</td>\n",
       "      <td>愛知県豊田市千石町7-2</td>\n",
       "      <td>40000</td>\n",
       "      <td>3</td>\n",
       "      <td>土</td>\n",
       "      <td>1</td>\n",
       "      <td>4</td>\n",
       "      <td>56.335297</td>\n",
       "    </tr>\n",
       "    <tr>\n",
       "      <th>2</th>\n",
       "      <td>13996</td>\n",
       "      <td>17066</td>\n",
       "      <td>2012</td>\n",
       "      <td>Ｊ１</td>\n",
       "      <td>第１節第１日</td>\n",
       "      <td>03/10(土)</td>\n",
       "      <td>14:04</td>\n",
       "      <td>ガンバ大阪</td>\n",
       "      <td>ヴィッセル神戸</td>\n",
       "      <td>万博記念競技場</td>\n",
       "      <td>...</td>\n",
       "      <td>橋本　英郎</td>\n",
       "      <td>森岡　亮太</td>\n",
       "      <td>大久保　嘉人</td>\n",
       "      <td>大阪府吹田市千里万博公園5-2</td>\n",
       "      <td>21000</td>\n",
       "      <td>3</td>\n",
       "      <td>土</td>\n",
       "      <td>1</td>\n",
       "      <td>4</td>\n",
       "      <td>55.440237</td>\n",
       "    </tr>\n",
       "    <tr>\n",
       "      <th>3</th>\n",
       "      <td>13997</td>\n",
       "      <td>29603</td>\n",
       "      <td>2012</td>\n",
       "      <td>Ｊ１</td>\n",
       "      <td>第１節第１日</td>\n",
       "      <td>03/10(土)</td>\n",
       "      <td>14:06</td>\n",
       "      <td>サンフレッチェ広島</td>\n",
       "      <td>浦和レッズ</td>\n",
       "      <td>エディオンスタジアム広島</td>\n",
       "      <td>...</td>\n",
       "      <td>柏木　陽介</td>\n",
       "      <td>原口　元気</td>\n",
       "      <td>田中　達也</td>\n",
       "      <td>広島県広島市安佐南区大塚西5-1-1</td>\n",
       "      <td>50000</td>\n",
       "      <td>3</td>\n",
       "      <td>土</td>\n",
       "      <td>1</td>\n",
       "      <td>4</td>\n",
       "      <td>55.518327</td>\n",
       "    </tr>\n",
       "    <tr>\n",
       "      <th>4</th>\n",
       "      <td>13998</td>\n",
       "      <td>25353</td>\n",
       "      <td>2012</td>\n",
       "      <td>Ｊ１</td>\n",
       "      <td>第１節第１日</td>\n",
       "      <td>03/10(土)</td>\n",
       "      <td>14:04</td>\n",
       "      <td>コンサドーレ札幌</td>\n",
       "      <td>ジュビロ磐田</td>\n",
       "      <td>札幌ドーム</td>\n",
       "      <td>...</td>\n",
       "      <td>松浦　拓弥</td>\n",
       "      <td>菅沼　実</td>\n",
       "      <td>前田　遼一</td>\n",
       "      <td>北海道札幌市豊平区羊ヶ丘1</td>\n",
       "      <td>39232</td>\n",
       "      <td>3</td>\n",
       "      <td>土</td>\n",
       "      <td>1</td>\n",
       "      <td>4</td>\n",
       "      <td>64.550520</td>\n",
       "    </tr>\n",
       "  </tbody>\n",
       "</table>\n",
       "<p>5 rows × 48 columns</p>\n",
       "</div>"
      ],
      "text/plain": [
       "      id      y  year stage   match   gameday   time       home      away  \\\n",
       "0  13994  18250  2012    Ｊ１  第１節第１日  03/10(土)  14:04     ベガルタ仙台  鹿島アントラーズ   \n",
       "1  13995  24316  2012    Ｊ１  第１節第１日  03/10(土)  14:04   名古屋グランパス   清水エスパルス   \n",
       "2  13996  17066  2012    Ｊ１  第１節第１日  03/10(土)  14:04      ガンバ大阪   ヴィッセル神戸   \n",
       "3  13997  29603  2012    Ｊ１  第１節第１日  03/10(土)  14:06  サンフレッチェ広島     浦和レッズ   \n",
       "4  13998  25353  2012    Ｊ１  第１節第１日  03/10(土)  14:04   コンサドーレ札幌    ジュビロ磐田   \n",
       "\n",
       "        stadium  ... away_09  away_10  away_11             address   capa  \\\n",
       "0  ユアテックスタジアム仙台  ...   本山　雅志    大迫　勇也   ジュニーニョ     宮城県仙台市泉区七北田字柳78  19694   \n",
       "1       豊田スタジアム  ...   高木　俊幸    アレックス    大前　元紀        愛知県豊田市千石町7-2  40000   \n",
       "2       万博記念競技場  ...   橋本　英郎    森岡　亮太   大久保　嘉人     大阪府吹田市千里万博公園5-2  21000   \n",
       "3  エディオンスタジアム広島  ...   柏木　陽介    原口　元気    田中　達也  広島県広島市安佐南区大塚西5-1-1  50000   \n",
       "4         札幌ドーム  ...   松浦　拓弥     菅沼　実    前田　遼一       北海道札幌市豊平区羊ヶ丘1  39232   \n",
       "\n",
       "   month week match_num tv_num         di  \n",
       "0      3    土         1      4  49.308449  \n",
       "1      3    土         1      4  56.335297  \n",
       "2      3    土         1      4  55.440237  \n",
       "3      3    土         1      4  55.518327  \n",
       "4      3    土         1      4  64.550520  \n",
       "\n",
       "[5 rows x 48 columns]"
      ]
     },
     "execution_count": 34,
     "metadata": {},
     "output_type": "execute_result"
    }
   ],
   "source": [
    "train.head()"
   ]
  },
  {
   "cell_type": "code",
   "execution_count": 35,
   "metadata": {},
   "outputs": [
    {
     "name": "stderr",
     "output_type": "stream",
     "text": [
      "'c' argument looks like a single numeric RGB or RGBA sequence, which should be avoided as value-mapping will have precedence in case its length matches with 'x' & 'y'.  Please use a 2-D array with a single row if you really want to specify the same RGB or RGBA value for all points.\n"
     ]
    },
    {
     "data": {
      "text/plain": [
       "<matplotlib.axes._subplots.AxesSubplot at 0x7f7928b78990>"
      ]
     },
     "execution_count": 35,
     "metadata": {},
     "output_type": "execute_result"
    },
    {
     "data": {
      "image/png": "[encoded data removed]",
      "text/plain": [
       "<Figure size 432x288 with 1 Axes>"
      ]
     },
     "metadata": {},
     "output_type": "display_data"
    }
   ],
   "source": [
    "train.plot.scatter(x=\"di\", y=\"y\")"
   ]
  },
  {
   "cell_type": "code",
   "execution_count": 36,
   "metadata": {},
   "outputs": [
    {
     "data": {
      "text/plain": [
       "晴           969\n",
       "曇           476\n",
       "雨           186\n",
       "屋内           55\n",
       "曇のち雨         45\n",
       "晴のち曇         33\n",
       "雨のち曇         31\n",
       "曇のち晴         30\n",
       "曇時々雨         25\n",
       "晴時々曇         23\n",
       "曇一時雨         18\n",
       "曇時々晴         18\n",
       "晴のち雨          9\n",
       "晴一時雨          7\n",
       "雨時々曇          4\n",
       "雨のち晴          4\n",
       "晴時々雨          2\n",
       "晴一時曇          2\n",
       "曇時々晴一時雨       1\n",
       "雨のち曇時々晴       1\n",
       "晴のち曇時々雨       1\n",
       "雪のち雨          1\n",
       "曇一時雷雨のち曇      1\n",
       "晴のち曇一時雨       1\n",
       "曇のち雪          1\n",
       "曇一時晴          1\n",
       "雨時々晴          1\n",
       "曇時々雨のち晴       1\n",
       "曇一時晴一時雨       1\n",
       "曇のち雷雨         1\n",
       "晴時々雪          1\n",
       "曇一時雨のち晴       1\n",
       "雪             1\n",
       "Name: weather, dtype: int64"
      ]
     },
     "execution_count": 36,
     "metadata": {},
     "output_type": "execute_result"
    }
   ],
   "source": [
    "train[\"weather\"].value_counts()"
   ]
  },
  {
   "cell_type": "code",
   "execution_count": 37,
   "metadata": {},
   "outputs": [
    {
     "data": {
      "image/png": "[encoded data removed]",
      "text/plain": [
       "<Figure size 432x288 with 1 Axes>"
      ]
     },
     "metadata": {},
     "output_type": "display_data"
    }
   ],
   "source": [
    "sns.boxplot(data=train, x=\"weather\", y=\"y\")\n",
    "plt.xticks(rotation=85)\n",
    "plt.show()"
   ]
  }
 ],
 "metadata": {
  "kernelspec": {
   "display_name": "Python 3",
   "language": "python",
   "name": "python3"
  },
  "language_info": {
   "codemirror_mode": {
    "name": "ipython",
    "version": 3
   },
   "file_extension": ".py",
   "mimetype": "text/x-python",
   "name": "python",
   "nbconvert_exporter": "python",
   "pygments_lexer": "ipython3",
   "version": "3.7.6"
  }
 },
 "nbformat": 4,
 "nbformat_minor": 4
}
