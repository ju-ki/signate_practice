{
 "cells": [
  {
   "cell_type": "code",
   "execution_count": 1,
   "metadata": {},
   "outputs": [],
   "source": [
    "import numpy as np\n",
    "import pandas as pd\n",
    "import matplotlib.pyplot as plt\n",
    "import seaborn as sns\n",
    "import japanize_matplotlib\n",
    "sns.set()\n",
    "import os\n",
    "%matplotlib inline\n",
    "os.chdir(\"/work/signate_practice/Debt_default_risk/data\")"
   ]
  },
  {
   "cell_type": "code",
   "execution_count": 2,
   "metadata": {},
   "outputs": [],
   "source": [
    "train = pd.read_csv(\"train.csv\")\n",
    "test = pd.read_csv(\"test.csv\")"
   ]
  },
  {
   "cell_type": "code",
   "execution_count": 3,
   "metadata": {},
   "outputs": [
    {
     "name": "stdout",
     "output_type": "stream",
     "text": [
      "(242156, 10) (26906, 9)\n",
      "<class 'pandas.core.frame.DataFrame'>\n",
      "RangeIndex: 242156 entries, 0 to 242155\n",
      "Data columns (total 10 columns):\n",
      " #   Column             Non-Null Count   Dtype  \n",
      "---  ------             --------------   -----  \n",
      " 0   id                 242156 non-null  int64  \n",
      " 1   loan_amnt          242156 non-null  float64\n",
      " 2   term               242156 non-null  object \n",
      " 3   interest_rate      242156 non-null  float64\n",
      " 4   grade              242156 non-null  object \n",
      " 5   employment_length  228971 non-null  object \n",
      " 6   purpose            242156 non-null  object \n",
      " 7   credit_score       242156 non-null  float64\n",
      " 8   application_type   242156 non-null  object \n",
      " 9   loan_status        242156 non-null  object \n",
      "dtypes: float64(3), int64(1), object(6)\n",
      "memory usage: 18.5+ MB\n",
      "None\n",
      "<class 'pandas.core.frame.DataFrame'>\n",
      "RangeIndex: 26906 entries, 0 to 26905\n",
      "Data columns (total 9 columns):\n",
      " #   Column             Non-Null Count  Dtype  \n",
      "---  ------             --------------  -----  \n",
      " 0   id                 26906 non-null  int64  \n",
      " 1   loan_amnt          26906 non-null  float64\n",
      " 2   term               26906 non-null  object \n",
      " 3   interest_rate      26906 non-null  float64\n",
      " 4   grade              26906 non-null  object \n",
      " 5   employment_length  25466 non-null  object \n",
      " 6   purpose            26906 non-null  object \n",
      " 7   credit_score       26906 non-null  float64\n",
      " 8   application_type   26906 non-null  object \n",
      "dtypes: float64(3), int64(1), object(5)\n",
      "memory usage: 1.8+ MB\n",
      "None\n"
     ]
    }
   ],
   "source": [
    "print(train.shape, test.shape)\n",
    "print(train.info())\n",
    "print(test.info())"
   ]
  },
  {
   "cell_type": "code",
   "execution_count": 4,
   "metadata": {},
   "outputs": [
    {
     "name": "stdout",
     "output_type": "stream",
     "text": [
      "id                       0\n",
      "loan_amnt                0\n",
      "term                     0\n",
      "interest_rate            0\n",
      "grade                    0\n",
      "employment_length    13185\n",
      "purpose                  0\n",
      "credit_score             0\n",
      "application_type         0\n",
      "loan_status              0\n",
      "dtype: int64\n",
      "________________________________________\n",
      "id                      0\n",
      "loan_amnt               0\n",
      "term                    0\n",
      "interest_rate           0\n",
      "grade                   0\n",
      "employment_length    1440\n",
      "purpose                 0\n",
      "credit_score            0\n",
      "application_type        0\n",
      "dtype: int64\n"
     ]
    }
   ],
   "source": [
    "print(train.isnull().sum())\n",
    "print(\"_\"*40)\n",
    "print(test.isnull().sum())"
   ]
  },
  {
   "cell_type": "code",
   "execution_count": 5,
   "metadata": {},
   "outputs": [
    {
     "data": {
      "text/html": [
       "<div>\n",
       "<style scoped>\n",
       "    .dataframe tbody tr th:only-of-type {\n",
       "        vertical-align: middle;\n",
       "    }\n",
       "\n",
       "    .dataframe tbody tr th {\n",
       "        vertical-align: top;\n",
       "    }\n",
       "\n",
       "    .dataframe thead th {\n",
       "        text-align: right;\n",
       "    }\n",
       "</style>\n",
       "<table border=\"1\" class=\"dataframe\">\n",
       "  <thead>\n",
       "    <tr style=\"text-align: right;\">\n",
       "      <th></th>\n",
       "      <th>id</th>\n",
       "      <th>loan_amnt</th>\n",
       "      <th>term</th>\n",
       "      <th>interest_rate</th>\n",
       "      <th>grade</th>\n",
       "      <th>employment_length</th>\n",
       "      <th>purpose</th>\n",
       "      <th>credit_score</th>\n",
       "      <th>application_type</th>\n",
       "      <th>loan_status</th>\n",
       "    </tr>\n",
       "  </thead>\n",
       "  <tbody>\n",
       "    <tr>\n",
       "      <th>0</th>\n",
       "      <td>88194295</td>\n",
       "      <td>1800.0</td>\n",
       "      <td>3 years</td>\n",
       "      <td>14.49</td>\n",
       "      <td>C4</td>\n",
       "      <td>NaN</td>\n",
       "      <td>debt_consolidation</td>\n",
       "      <td>665.0</td>\n",
       "      <td>Individual</td>\n",
       "      <td>FullyPaid</td>\n",
       "    </tr>\n",
       "    <tr>\n",
       "      <th>1</th>\n",
       "      <td>5146039</td>\n",
       "      <td>1200.0</td>\n",
       "      <td>5 years</td>\n",
       "      <td>16.29</td>\n",
       "      <td>C4</td>\n",
       "      <td>2 years</td>\n",
       "      <td>debt_consolidation</td>\n",
       "      <td>700.0</td>\n",
       "      <td>Individual</td>\n",
       "      <td>ChargedOff</td>\n",
       "    </tr>\n",
       "    <tr>\n",
       "      <th>2</th>\n",
       "      <td>3095896</td>\n",
       "      <td>2000.0</td>\n",
       "      <td>5 years</td>\n",
       "      <td>21.98</td>\n",
       "      <td>E4</td>\n",
       "      <td>10 years</td>\n",
       "      <td>home_improvement</td>\n",
       "      <td>670.0</td>\n",
       "      <td>Individual</td>\n",
       "      <td>FullyPaid</td>\n",
       "    </tr>\n",
       "    <tr>\n",
       "      <th>3</th>\n",
       "      <td>88625044</td>\n",
       "      <td>1000.0</td>\n",
       "      <td>3 years</td>\n",
       "      <td>8.59</td>\n",
       "      <td>A5</td>\n",
       "      <td>4 years</td>\n",
       "      <td>debt_consolidation</td>\n",
       "      <td>710.0</td>\n",
       "      <td>Individual</td>\n",
       "      <td>FullyPaid</td>\n",
       "    </tr>\n",
       "    <tr>\n",
       "      <th>4</th>\n",
       "      <td>1178189</td>\n",
       "      <td>1500.0</td>\n",
       "      <td>3 years</td>\n",
       "      <td>13.99</td>\n",
       "      <td>C1</td>\n",
       "      <td>4 years</td>\n",
       "      <td>debt_consolidation</td>\n",
       "      <td>680.0</td>\n",
       "      <td>Individual</td>\n",
       "      <td>FullyPaid</td>\n",
       "    </tr>\n",
       "  </tbody>\n",
       "</table>\n",
       "</div>"
      ],
      "text/plain": [
       "         id  loan_amnt     term  interest_rate grade employment_length  \\\n",
       "0  88194295     1800.0  3 years          14.49    C4               NaN   \n",
       "1   5146039     1200.0  5 years          16.29    C4           2 years   \n",
       "2   3095896     2000.0  5 years          21.98    E4          10 years   \n",
       "3  88625044     1000.0  3 years           8.59    A5           4 years   \n",
       "4   1178189     1500.0  3 years          13.99    C1           4 years   \n",
       "\n",
       "              purpose  credit_score application_type loan_status  \n",
       "0  debt_consolidation         665.0       Individual   FullyPaid  \n",
       "1  debt_consolidation         700.0       Individual  ChargedOff  \n",
       "2    home_improvement         670.0       Individual   FullyPaid  \n",
       "3  debt_consolidation         710.0       Individual   FullyPaid  \n",
       "4  debt_consolidation         680.0       Individual   FullyPaid  "
      ]
     },
     "execution_count": 5,
     "metadata": {},
     "output_type": "execute_result"
    }
   ],
   "source": [
    "train.head()"
   ]
  },
  {
   "cell_type": "code",
   "execution_count": 6,
   "metadata": {},
   "outputs": [
    {
     "data": {
      "text/html": [
       "<div>\n",
       "<style scoped>\n",
       "    .dataframe tbody tr th:only-of-type {\n",
       "        vertical-align: middle;\n",
       "    }\n",
       "\n",
       "    .dataframe tbody tr th {\n",
       "        vertical-align: top;\n",
       "    }\n",
       "\n",
       "    .dataframe thead th {\n",
       "        text-align: right;\n",
       "    }\n",
       "</style>\n",
       "<table border=\"1\" class=\"dataframe\">\n",
       "  <thead>\n",
       "    <tr style=\"text-align: right;\">\n",
       "      <th></th>\n",
       "      <th>id</th>\n",
       "      <th>loan_amnt</th>\n",
       "      <th>term</th>\n",
       "      <th>interest_rate</th>\n",
       "      <th>grade</th>\n",
       "      <th>employment_length</th>\n",
       "      <th>purpose</th>\n",
       "      <th>credit_score</th>\n",
       "      <th>application_type</th>\n",
       "    </tr>\n",
       "  </thead>\n",
       "  <tbody>\n",
       "    <tr>\n",
       "      <th>0</th>\n",
       "      <td>1496754</td>\n",
       "      <td>1912.5</td>\n",
       "      <td>3 years</td>\n",
       "      <td>10.16</td>\n",
       "      <td>B1</td>\n",
       "      <td>5 years</td>\n",
       "      <td>debt_consolidation</td>\n",
       "      <td>725.0</td>\n",
       "      <td>Individual</td>\n",
       "    </tr>\n",
       "    <tr>\n",
       "      <th>1</th>\n",
       "      <td>84909594</td>\n",
       "      <td>1800.0</td>\n",
       "      <td>3 years</td>\n",
       "      <td>8.99</td>\n",
       "      <td>B1</td>\n",
       "      <td>9 years</td>\n",
       "      <td>credit_card</td>\n",
       "      <td>695.0</td>\n",
       "      <td>Individual</td>\n",
       "    </tr>\n",
       "    <tr>\n",
       "      <th>2</th>\n",
       "      <td>1165403</td>\n",
       "      <td>550.0</td>\n",
       "      <td>3 years</td>\n",
       "      <td>14.65</td>\n",
       "      <td>C2</td>\n",
       "      <td>10 years</td>\n",
       "      <td>credit_card</td>\n",
       "      <td>660.0</td>\n",
       "      <td>Individual</td>\n",
       "    </tr>\n",
       "    <tr>\n",
       "      <th>3</th>\n",
       "      <td>91354446</td>\n",
       "      <td>2000.0</td>\n",
       "      <td>5 years</td>\n",
       "      <td>15.59</td>\n",
       "      <td>C5</td>\n",
       "      <td>10 years</td>\n",
       "      <td>credit_card</td>\n",
       "      <td>695.0</td>\n",
       "      <td>Individual</td>\n",
       "    </tr>\n",
       "    <tr>\n",
       "      <th>4</th>\n",
       "      <td>85636932</td>\n",
       "      <td>1500.0</td>\n",
       "      <td>5 years</td>\n",
       "      <td>12.79</td>\n",
       "      <td>C1</td>\n",
       "      <td>0 years</td>\n",
       "      <td>medical</td>\n",
       "      <td>720.0</td>\n",
       "      <td>Individual</td>\n",
       "    </tr>\n",
       "  </tbody>\n",
       "</table>\n",
       "</div>"
      ],
      "text/plain": [
       "         id  loan_amnt     term  interest_rate grade employment_length  \\\n",
       "0   1496754     1912.5  3 years          10.16    B1           5 years   \n",
       "1  84909594     1800.0  3 years           8.99    B1           9 years   \n",
       "2   1165403      550.0  3 years          14.65    C2          10 years   \n",
       "3  91354446     2000.0  5 years          15.59    C5          10 years   \n",
       "4  85636932     1500.0  5 years          12.79    C1           0 years   \n",
       "\n",
       "              purpose  credit_score application_type  \n",
       "0  debt_consolidation         725.0       Individual  \n",
       "1         credit_card         695.0       Individual  \n",
       "2         credit_card         660.0       Individual  \n",
       "3         credit_card         695.0       Individual  \n",
       "4             medical         720.0       Individual  "
      ]
     },
     "execution_count": 6,
     "metadata": {},
     "output_type": "execute_result"
    }
   ],
   "source": [
    "test.head()"
   ]
  },
  {
   "cell_type": "code",
   "execution_count": 7,
   "metadata": {},
   "outputs": [
    {
     "data": {
      "text/plain": [
       "FullyPaid     193815\n",
       "ChargedOff     48341\n",
       "Name: loan_status, dtype: int64"
      ]
     },
     "execution_count": 7,
     "metadata": {},
     "output_type": "execute_result"
    }
   ],
   "source": [
    "train[\"loan_status\"].value_counts()"
   ]
  },
  {
   "cell_type": "code",
   "execution_count": 8,
   "metadata": {},
   "outputs": [],
   "source": [
    "train = train.drop(\"id\", axis=1)\n",
    "test = test.drop(\"id\", axis=1)"
   ]
  },
  {
   "cell_type": "code",
   "execution_count": 9,
   "metadata": {},
   "outputs": [],
   "source": [
    "train = train.dropna()"
   ]
  },
  {
   "cell_type": "code",
   "execution_count": 10,
   "metadata": {},
   "outputs": [
    {
     "data": {
      "text/html": [
       "<div>\n",
       "<style scoped>\n",
       "    .dataframe tbody tr th:only-of-type {\n",
       "        vertical-align: middle;\n",
       "    }\n",
       "\n",
       "    .dataframe tbody tr th {\n",
       "        vertical-align: top;\n",
       "    }\n",
       "\n",
       "    .dataframe thead th {\n",
       "        text-align: right;\n",
       "    }\n",
       "</style>\n",
       "<table border=\"1\" class=\"dataframe\">\n",
       "  <thead>\n",
       "    <tr style=\"text-align: right;\">\n",
       "      <th></th>\n",
       "      <th>loan_amnt</th>\n",
       "      <th>interest_rate</th>\n",
       "      <th>credit_score</th>\n",
       "    </tr>\n",
       "  </thead>\n",
       "  <tbody>\n",
       "    <tr>\n",
       "      <th>count</th>\n",
       "      <td>228971.000000</td>\n",
       "      <td>228971.000000</td>\n",
       "      <td>228971.000000</td>\n",
       "    </tr>\n",
       "    <tr>\n",
       "      <th>mean</th>\n",
       "      <td>1433.415476</td>\n",
       "      <td>13.992611</td>\n",
       "      <td>697.338484</td>\n",
       "    </tr>\n",
       "    <tr>\n",
       "      <th>std</th>\n",
       "      <td>875.149218</td>\n",
       "      <td>4.846862</td>\n",
       "      <td>31.715229</td>\n",
       "    </tr>\n",
       "    <tr>\n",
       "      <th>min</th>\n",
       "      <td>100.000000</td>\n",
       "      <td>5.320000</td>\n",
       "      <td>660.000000</td>\n",
       "    </tr>\n",
       "    <tr>\n",
       "      <th>25%</th>\n",
       "      <td>780.000000</td>\n",
       "      <td>10.640000</td>\n",
       "      <td>675.000000</td>\n",
       "    </tr>\n",
       "    <tr>\n",
       "      <th>50%</th>\n",
       "      <td>1200.000000</td>\n",
       "      <td>13.490000</td>\n",
       "      <td>690.000000</td>\n",
       "    </tr>\n",
       "    <tr>\n",
       "      <th>75%</th>\n",
       "      <td>2000.000000</td>\n",
       "      <td>16.990000</td>\n",
       "      <td>715.000000</td>\n",
       "    </tr>\n",
       "    <tr>\n",
       "      <th>max</th>\n",
       "      <td>4000.000000</td>\n",
       "      <td>30.990000</td>\n",
       "      <td>845.000000</td>\n",
       "    </tr>\n",
       "  </tbody>\n",
       "</table>\n",
       "</div>"
      ],
      "text/plain": [
       "           loan_amnt  interest_rate   credit_score\n",
       "count  228971.000000  228971.000000  228971.000000\n",
       "mean     1433.415476      13.992611     697.338484\n",
       "std       875.149218       4.846862      31.715229\n",
       "min       100.000000       5.320000     660.000000\n",
       "25%       780.000000      10.640000     675.000000\n",
       "50%      1200.000000      13.490000     690.000000\n",
       "75%      2000.000000      16.990000     715.000000\n",
       "max      4000.000000      30.990000     845.000000"
      ]
     },
     "execution_count": 10,
     "metadata": {},
     "output_type": "execute_result"
    }
   ],
   "source": [
    "train.describe()"
   ]
  },
  {
   "cell_type": "code",
   "execution_count": 11,
   "metadata": {},
   "outputs": [
    {
     "data": {
      "text/html": [
       "<div>\n",
       "<style scoped>\n",
       "    .dataframe tbody tr th:only-of-type {\n",
       "        vertical-align: middle;\n",
       "    }\n",
       "\n",
       "    .dataframe tbody tr th {\n",
       "        vertical-align: top;\n",
       "    }\n",
       "\n",
       "    .dataframe thead th {\n",
       "        text-align: right;\n",
       "    }\n",
       "</style>\n",
       "<table border=\"1\" class=\"dataframe\">\n",
       "  <thead>\n",
       "    <tr style=\"text-align: right;\">\n",
       "      <th></th>\n",
       "      <th>term</th>\n",
       "      <th>grade</th>\n",
       "      <th>employment_length</th>\n",
       "      <th>purpose</th>\n",
       "      <th>application_type</th>\n",
       "      <th>loan_status</th>\n",
       "    </tr>\n",
       "  </thead>\n",
       "  <tbody>\n",
       "    <tr>\n",
       "      <th>count</th>\n",
       "      <td>228971</td>\n",
       "      <td>228971</td>\n",
       "      <td>228971</td>\n",
       "      <td>228971</td>\n",
       "      <td>228971</td>\n",
       "      <td>228971</td>\n",
       "    </tr>\n",
       "    <tr>\n",
       "      <th>unique</th>\n",
       "      <td>2</td>\n",
       "      <td>35</td>\n",
       "      <td>11</td>\n",
       "      <td>13</td>\n",
       "      <td>2</td>\n",
       "      <td>2</td>\n",
       "    </tr>\n",
       "    <tr>\n",
       "      <th>top</th>\n",
       "      <td>3 years</td>\n",
       "      <td>B3</td>\n",
       "      <td>10 years</td>\n",
       "      <td>debt_consolidation</td>\n",
       "      <td>Individual</td>\n",
       "      <td>FullyPaid</td>\n",
       "    </tr>\n",
       "    <tr>\n",
       "      <th>freq</th>\n",
       "      <td>177580</td>\n",
       "      <td>16060</td>\n",
       "      <td>79095</td>\n",
       "      <td>133880</td>\n",
       "      <td>223790</td>\n",
       "      <td>184426</td>\n",
       "    </tr>\n",
       "  </tbody>\n",
       "</table>\n",
       "</div>"
      ],
      "text/plain": [
       "           term   grade employment_length             purpose  \\\n",
       "count    228971  228971            228971              228971   \n",
       "unique        2      35                11                  13   \n",
       "top     3 years      B3          10 years  debt_consolidation   \n",
       "freq     177580   16060             79095              133880   \n",
       "\n",
       "       application_type loan_status  \n",
       "count            228971      228971  \n",
       "unique                2           2  \n",
       "top          Individual   FullyPaid  \n",
       "freq             223790      184426  "
      ]
     },
     "execution_count": 11,
     "metadata": {},
     "output_type": "execute_result"
    }
   ],
   "source": [
    "train.describe(include=[\"O\"])"
   ]
  },
  {
   "cell_type": "code",
   "execution_count": 12,
   "metadata": {},
   "outputs": [
    {
     "data": {
      "text/plain": [
       "<matplotlib.axes._subplots.AxesSubplot at 0x7f7ef5351b50>"
      ]
     },
     "execution_count": 12,
     "metadata": {},
     "output_type": "execute_result"
    },
    {
     "data": {
      "image/png": "[encoded data removed]",
      "text/plain": [
       "<Figure size 432x288 with 1 Axes>"
      ]
     },
     "metadata": {
      "needs_background": "light"
     },
     "output_type": "display_data"
    }
   ],
   "source": [
    "sns.distplot(train[\"interest_rate\"], bins=5)"
   ]
  },
  {
   "cell_type": "code",
   "execution_count": 13,
   "metadata": {},
   "outputs": [
    {
     "data": {
      "image/png": "[encoded data removed]",
      "text/plain": [
       "<Figure size 432x288 with 1 Axes>"
      ]
     },
     "metadata": {
      "needs_background": "light"
     },
     "output_type": "display_data"
    }
   ],
   "source": [
    "counts = train[\"employment_length\"].value_counts()\n",
    "counts.plot.bar(title=\"employment_length\")\n",
    "plt.xlabel(\"employment_length\")\n",
    "plt.ylabel(\"counts\")\n",
    "plt.show()"
   ]
  },
  {
   "cell_type": "code",
   "execution_count": 14,
   "metadata": {},
   "outputs": [
    {
     "data": {
      "image/png": "[encoded data removed]",
      "text/plain": [
       "<Figure size 432x288 with 1 Axes>"
      ]
     },
     "metadata": {
      "needs_background": "light"
     },
     "output_type": "display_data"
    }
   ],
   "source": [
    "counts = train[\"purpose\"].value_counts().head(5)\n",
    "counts.plot.bar(title=\"purpose\")\n",
    "plt.xlabel(\"purpose\")\n",
    "plt.ylabel(\"counts\")\n",
    "plt.show()"
   ]
  },
  {
   "cell_type": "code",
   "execution_count": 15,
   "metadata": {},
   "outputs": [
    {
     "data": {
      "image/png": "[encoded data removed]",
      "text/plain": [
       "<Figure size 432x288 with 1 Axes>"
      ]
     },
     "metadata": {
      "needs_background": "light"
     },
     "output_type": "display_data"
    }
   ],
   "source": [
    "counts = train[\"grade\"].value_counts()\n",
    "counts.plot.bar(title=\"grade\")\n",
    "plt.xlabel(\"grade\")\n",
    "plt.ylabel(\"counts\")\n",
    "plt.xticks(rotation=70)\n",
    "plt.show()"
   ]
  },
  {
   "cell_type": "code",
   "execution_count": 16,
   "metadata": {},
   "outputs": [
    {
     "data": {
      "image/png": "[encoded data removed]",
      "text/plain": [
       "<Figure size 432x288 with 1 Axes>"
      ]
     },
     "metadata": {
      "needs_background": "light"
     },
     "output_type": "display_data"
    }
   ],
   "source": [
    "counts = train[\"loan_status\"].value_counts()\n",
    "counts.plot.bar(title=\"loan_status\")\n",
    "plt.xlabel(\"loan_status\")\n",
    "plt.ylabel(\"counts\")\n",
    "plt.show()"
   ]
  },
  {
   "cell_type": "code",
   "execution_count": 17,
   "metadata": {},
   "outputs": [
    {
     "data": {
      "image/png": "[encoded data removed]",
      "text/plain": [
       "<Figure size 432x288 with 1 Axes>"
      ]
     },
     "metadata": {
      "needs_background": "light"
     },
     "output_type": "display_data"
    }
   ],
   "source": [
    "sns.boxplot(data=train, x='loan_status', y='loan_amnt')\n",
    "plt.title(\"Loan Status vs Loan Amount\")\n",
    "plt.xlabel(\"Loan Status\")\n",
    "plt.ylabel(\"Loan Amount\")\n",
    "plt.show()"
   ]
  },
  {
   "cell_type": "code",
   "execution_count": 18,
   "metadata": {},
   "outputs": [
    {
     "data": {
      "image/png": "[encoded data removed]",
      "text/plain": [
       "<Figure size 432x288 with 1 Axes>"
      ]
     },
     "metadata": {
      "needs_background": "light"
     },
     "output_type": "display_data"
    }
   ],
   "source": [
    "sns.boxplot(data=train, x=\"loan_status\", y=\"interest_rate\")\n",
    "plt.title(\"Loan Status vs Interest Rate\")\n",
    "plt.xlabel(\"Loan Status\")\n",
    "plt.ylabel(\"Interest Rate\")\n",
    "plt.show()"
   ]
  },
  {
   "cell_type": "code",
   "execution_count": 19,
   "metadata": {},
   "outputs": [
    {
     "data": {
      "image/png": "[encoded data removed]",
      "text/plain": [
       "<Figure size 432x288 with 1 Axes>"
      ]
     },
     "metadata": {
      "needs_background": "light"
     },
     "output_type": "display_data"
    }
   ],
   "source": [
    "sns.boxplot(data=train, x=\"loan_status\", y=\"credit_score\")\n",
    "plt.title(\"Loan Status vs Credit Score\")\n",
    "plt.xlabel(\"Loan Status\")\n",
    "plt.ylabel(\"Credit Score\")\n",
    "plt.show()"
   ]
  },
  {
   "cell_type": "code",
   "execution_count": 20,
   "metadata": {},
   "outputs": [
    {
     "data": {
      "text/html": [
       "<div>\n",
       "<style scoped>\n",
       "    .dataframe tbody tr th:only-of-type {\n",
       "        vertical-align: middle;\n",
       "    }\n",
       "\n",
       "    .dataframe tbody tr th {\n",
       "        vertical-align: top;\n",
       "    }\n",
       "\n",
       "    .dataframe thead th {\n",
       "        text-align: right;\n",
       "    }\n",
       "</style>\n",
       "<table border=\"1\" class=\"dataframe\">\n",
       "  <thead>\n",
       "    <tr style=\"text-align: right;\">\n",
       "      <th>loan_status</th>\n",
       "      <th>ChargedOff</th>\n",
       "      <th>FullyPaid</th>\n",
       "      <th>All</th>\n",
       "    </tr>\n",
       "    <tr>\n",
       "      <th>term</th>\n",
       "      <th></th>\n",
       "      <th></th>\n",
       "      <th></th>\n",
       "    </tr>\n",
       "  </thead>\n",
       "  <tbody>\n",
       "    <tr>\n",
       "      <th>3 years</th>\n",
       "      <td>29339</td>\n",
       "      <td>148241</td>\n",
       "      <td>177580</td>\n",
       "    </tr>\n",
       "    <tr>\n",
       "      <th>5 years</th>\n",
       "      <td>15206</td>\n",
       "      <td>36185</td>\n",
       "      <td>51391</td>\n",
       "    </tr>\n",
       "    <tr>\n",
       "      <th>All</th>\n",
       "      <td>44545</td>\n",
       "      <td>184426</td>\n",
       "      <td>228971</td>\n",
       "    </tr>\n",
       "  </tbody>\n",
       "</table>\n",
       "</div>"
      ],
      "text/plain": [
       "loan_status  ChargedOff  FullyPaid     All\n",
       "term                                      \n",
       "3 years           29339     148241  177580\n",
       "5 years           15206      36185   51391\n",
       "All               44545     184426  228971"
      ]
     },
     "metadata": {},
     "output_type": "display_data"
    }
   ],
   "source": [
    "cross_tab = pd.crosstab(train[\"term\"], train[\"loan_status\"], margins=True)\n",
    "display(cross_tab)"
   ]
  },
  {
   "cell_type": "code",
   "execution_count": 21,
   "metadata": {},
   "outputs": [
    {
     "data": {
      "text/html": [
       "<div>\n",
       "<style scoped>\n",
       "    .dataframe tbody tr th:only-of-type {\n",
       "        vertical-align: middle;\n",
       "    }\n",
       "\n",
       "    .dataframe tbody tr th {\n",
       "        vertical-align: top;\n",
       "    }\n",
       "\n",
       "    .dataframe thead th {\n",
       "        text-align: right;\n",
       "    }\n",
       "</style>\n",
       "<table border=\"1\" class=\"dataframe\">\n",
       "  <thead>\n",
       "    <tr style=\"text-align: right;\">\n",
       "      <th>loan_status</th>\n",
       "      <th>ChargedOff</th>\n",
       "      <th>FullyPaid</th>\n",
       "      <th>All</th>\n",
       "      <th>c_rate</th>\n",
       "      <th>f_rate</th>\n",
       "    </tr>\n",
       "    <tr>\n",
       "      <th>term</th>\n",
       "      <th></th>\n",
       "      <th></th>\n",
       "      <th></th>\n",
       "      <th></th>\n",
       "      <th></th>\n",
       "    </tr>\n",
       "  </thead>\n",
       "  <tbody>\n",
       "    <tr>\n",
       "      <th>3 years</th>\n",
       "      <td>29339</td>\n",
       "      <td>148241</td>\n",
       "      <td>177580</td>\n",
       "      <td>0.165216</td>\n",
       "      <td>0.834784</td>\n",
       "    </tr>\n",
       "    <tr>\n",
       "      <th>5 years</th>\n",
       "      <td>15206</td>\n",
       "      <td>36185</td>\n",
       "      <td>51391</td>\n",
       "      <td>0.295888</td>\n",
       "      <td>0.704112</td>\n",
       "    </tr>\n",
       "    <tr>\n",
       "      <th>All</th>\n",
       "      <td>44545</td>\n",
       "      <td>184426</td>\n",
       "      <td>228971</td>\n",
       "      <td>0.194544</td>\n",
       "      <td>0.805456</td>\n",
       "    </tr>\n",
       "  </tbody>\n",
       "</table>\n",
       "</div>"
      ],
      "text/plain": [
       "loan_status  ChargedOff  FullyPaid     All    c_rate    f_rate\n",
       "term                                                          \n",
       "3 years           29339     148241  177580  0.165216  0.834784\n",
       "5 years           15206      36185   51391  0.295888  0.704112\n",
       "All               44545     184426  228971  0.194544  0.805456"
      ]
     },
     "metadata": {},
     "output_type": "display_data"
    }
   ],
   "source": [
    "c_rate = cross_tab[\"ChargedOff\"] / cross_tab[\"All\"]\n",
    "f_rate = cross_tab[\"FullyPaid\"] / cross_tab[\"All\"]\n",
    "\n",
    "cross_tab[\"c_rate\"] = c_rate\n",
    "cross_tab[\"f_rate\"] = f_rate\n",
    "\n",
    "display(cross_tab)"
   ]
  },
  {
   "cell_type": "code",
   "execution_count": 22,
   "metadata": {},
   "outputs": [
    {
     "data": {
      "text/html": [
       "<div>\n",
       "<style scoped>\n",
       "    .dataframe tbody tr th:only-of-type {\n",
       "        vertical-align: middle;\n",
       "    }\n",
       "\n",
       "    .dataframe tbody tr th {\n",
       "        vertical-align: top;\n",
       "    }\n",
       "\n",
       "    .dataframe thead th {\n",
       "        text-align: right;\n",
       "    }\n",
       "</style>\n",
       "<table border=\"1\" class=\"dataframe\">\n",
       "  <thead>\n",
       "    <tr style=\"text-align: right;\">\n",
       "      <th>loan_status</th>\n",
       "      <th>ChargedOff</th>\n",
       "      <th>FullyPaid</th>\n",
       "      <th>All</th>\n",
       "      <th>c_rate</th>\n",
       "      <th>f_rate</th>\n",
       "    </tr>\n",
       "    <tr>\n",
       "      <th>term</th>\n",
       "      <th></th>\n",
       "      <th></th>\n",
       "      <th></th>\n",
       "      <th></th>\n",
       "      <th></th>\n",
       "    </tr>\n",
       "  </thead>\n",
       "  <tbody>\n",
       "    <tr>\n",
       "      <th>3 years</th>\n",
       "      <td>29339</td>\n",
       "      <td>148241</td>\n",
       "      <td>177580</td>\n",
       "      <td>0.165216</td>\n",
       "      <td>0.834784</td>\n",
       "    </tr>\n",
       "    <tr>\n",
       "      <th>5 years</th>\n",
       "      <td>15206</td>\n",
       "      <td>36185</td>\n",
       "      <td>51391</td>\n",
       "      <td>0.295888</td>\n",
       "      <td>0.704112</td>\n",
       "    </tr>\n",
       "  </tbody>\n",
       "</table>\n",
       "</div>"
      ],
      "text/plain": [
       "loan_status  ChargedOff  FullyPaid     All    c_rate    f_rate\n",
       "term                                                          \n",
       "3 years           29339     148241  177580  0.165216  0.834784\n",
       "5 years           15206      36185   51391  0.295888  0.704112"
      ]
     },
     "execution_count": 22,
     "metadata": {},
     "output_type": "execute_result"
    }
   ],
   "source": [
    "cross_tab = cross_tab.drop(index=[\"All\"])\n",
    "cross_tab"
   ]
  },
  {
   "cell_type": "code",
   "execution_count": 23,
   "metadata": {},
   "outputs": [
    {
     "data": {
      "image/png": "[encoded data removed]",
      "text/plain": [
       "<Figure size 432x288 with 1 Axes>"
      ]
     },
     "metadata": {
      "needs_background": "light"
     },
     "output_type": "display_data"
    }
   ],
   "source": [
    "tmp = cross_tab[[\"c_rate\", \"f_rate\"]]\n",
    "tmp.plot.bar(stacked=True)\n",
    "plt.title(\"Loan default rate and full repayment rate by repayment period\")\n",
    "plt.xlabel(\"period\")\n",
    "plt.ylabel(\"percentage\")\n",
    "plt.show()"
   ]
  },
  {
   "cell_type": "code",
   "execution_count": 24,
   "metadata": {},
   "outputs": [
    {
     "data": {
      "text/html": [
       "<div>\n",
       "<style scoped>\n",
       "    .dataframe tbody tr th:only-of-type {\n",
       "        vertical-align: middle;\n",
       "    }\n",
       "\n",
       "    .dataframe tbody tr th {\n",
       "        vertical-align: top;\n",
       "    }\n",
       "\n",
       "    .dataframe thead th {\n",
       "        text-align: right;\n",
       "    }\n",
       "</style>\n",
       "<table border=\"1\" class=\"dataframe\">\n",
       "  <thead>\n",
       "    <tr style=\"text-align: right;\">\n",
       "      <th>loan_status</th>\n",
       "      <th>ChargedOff</th>\n",
       "      <th>FullyPaid</th>\n",
       "      <th>All</th>\n",
       "      <th>c_rate</th>\n",
       "      <th>f_rate</th>\n",
       "    </tr>\n",
       "    <tr>\n",
       "      <th>employment_length</th>\n",
       "      <th></th>\n",
       "      <th></th>\n",
       "      <th></th>\n",
       "      <th></th>\n",
       "      <th></th>\n",
       "    </tr>\n",
       "  </thead>\n",
       "  <tbody>\n",
       "    <tr>\n",
       "      <th>0 years</th>\n",
       "      <td>3899</td>\n",
       "      <td>14612</td>\n",
       "      <td>18511</td>\n",
       "      <td>0.210632</td>\n",
       "      <td>0.789368</td>\n",
       "    </tr>\n",
       "    <tr>\n",
       "      <th>1 year</th>\n",
       "      <td>3219</td>\n",
       "      <td>12664</td>\n",
       "      <td>15883</td>\n",
       "      <td>0.202670</td>\n",
       "      <td>0.797330</td>\n",
       "    </tr>\n",
       "    <tr>\n",
       "      <th>10 years</th>\n",
       "      <td>15013</td>\n",
       "      <td>64082</td>\n",
       "      <td>79095</td>\n",
       "      <td>0.189810</td>\n",
       "      <td>0.810190</td>\n",
       "    </tr>\n",
       "    <tr>\n",
       "      <th>2 years</th>\n",
       "      <td>4318</td>\n",
       "      <td>17780</td>\n",
       "      <td>22098</td>\n",
       "      <td>0.195402</td>\n",
       "      <td>0.804598</td>\n",
       "    </tr>\n",
       "    <tr>\n",
       "      <th>3 years</th>\n",
       "      <td>3805</td>\n",
       "      <td>14967</td>\n",
       "      <td>18772</td>\n",
       "      <td>0.202696</td>\n",
       "      <td>0.797304</td>\n",
       "    </tr>\n",
       "    <tr>\n",
       "      <th>4 years</th>\n",
       "      <td>2933</td>\n",
       "      <td>11962</td>\n",
       "      <td>14895</td>\n",
       "      <td>0.196912</td>\n",
       "      <td>0.803088</td>\n",
       "    </tr>\n",
       "    <tr>\n",
       "      <th>5 years</th>\n",
       "      <td>3271</td>\n",
       "      <td>13724</td>\n",
       "      <td>16995</td>\n",
       "      <td>0.192468</td>\n",
       "      <td>0.807532</td>\n",
       "    </tr>\n",
       "    <tr>\n",
       "      <th>6 years</th>\n",
       "      <td>2461</td>\n",
       "      <td>10666</td>\n",
       "      <td>13127</td>\n",
       "      <td>0.187476</td>\n",
       "      <td>0.812524</td>\n",
       "    </tr>\n",
       "    <tr>\n",
       "      <th>7 years</th>\n",
       "      <td>1998</td>\n",
       "      <td>8680</td>\n",
       "      <td>10678</td>\n",
       "      <td>0.187114</td>\n",
       "      <td>0.812886</td>\n",
       "    </tr>\n",
       "    <tr>\n",
       "      <th>8 years</th>\n",
       "      <td>1900</td>\n",
       "      <td>8038</td>\n",
       "      <td>9938</td>\n",
       "      <td>0.191185</td>\n",
       "      <td>0.808815</td>\n",
       "    </tr>\n",
       "    <tr>\n",
       "      <th>9 years</th>\n",
       "      <td>1728</td>\n",
       "      <td>7251</td>\n",
       "      <td>8979</td>\n",
       "      <td>0.192449</td>\n",
       "      <td>0.807551</td>\n",
       "    </tr>\n",
       "  </tbody>\n",
       "</table>\n",
       "</div>"
      ],
      "text/plain": [
       "loan_status        ChargedOff  FullyPaid    All    c_rate    f_rate\n",
       "employment_length                                                  \n",
       "0 years                  3899      14612  18511  0.210632  0.789368\n",
       "1 year                   3219      12664  15883  0.202670  0.797330\n",
       "10 years                15013      64082  79095  0.189810  0.810190\n",
       "2 years                  4318      17780  22098  0.195402  0.804598\n",
       "3 years                  3805      14967  18772  0.202696  0.797304\n",
       "4 years                  2933      11962  14895  0.196912  0.803088\n",
       "5 years                  3271      13724  16995  0.192468  0.807532\n",
       "6 years                  2461      10666  13127  0.187476  0.812524\n",
       "7 years                  1998       8680  10678  0.187114  0.812886\n",
       "8 years                  1900       8038   9938  0.191185  0.808815\n",
       "9 years                  1728       7251   8979  0.192449  0.807551"
      ]
     },
     "execution_count": 24,
     "metadata": {},
     "output_type": "execute_result"
    }
   ],
   "source": [
    "cross_en = pd.crosstab(train['employment_length'], train['loan_status'], margins = True)\n",
    "\n",
    "c_rate = cross_en[\"ChargedOff\"] / cross_en[\"All\"]\n",
    "\n",
    "f_rate = cross_en[\"FullyPaid\"] / cross_en[\"All\"]\n",
    "\n",
    "cross_en['c_rate'] = c_rate\n",
    "cross_en[\"f_rate\"] = f_rate\n",
    "\n",
    "cross_en = cross_en.drop(index=[\"All\"])\n",
    "cross_en"
   ]
  },
  {
   "cell_type": "code",
   "execution_count": 25,
   "metadata": {},
   "outputs": [
    {
     "data": {
      "image/png": "[encoded data removed]",
      "text/plain": [
       "<Figure size 432x288 with 1 Axes>"
      ]
     },
     "metadata": {
      "needs_background": "light"
     },
     "output_type": "display_data"
    }
   ],
   "source": [
    "tmp = cross_en[[\"c_rate\", \"f_rate\"]]\n",
    "tmp.plot.bar(stacked=True)\n",
    "plt.xlabel(\"employment_length\")\n",
    "plt.ylabel(\"percentage\")\n",
    "plt.show()"
   ]
  },
  {
   "cell_type": "code",
   "execution_count": 26,
   "metadata": {},
   "outputs": [
    {
     "data": {
      "text/html": [
       "<div>\n",
       "<style scoped>\n",
       "    .dataframe tbody tr th:only-of-type {\n",
       "        vertical-align: middle;\n",
       "    }\n",
       "\n",
       "    .dataframe tbody tr th {\n",
       "        vertical-align: top;\n",
       "    }\n",
       "\n",
       "    .dataframe thead th {\n",
       "        text-align: right;\n",
       "    }\n",
       "</style>\n",
       "<table border=\"1\" class=\"dataframe\">\n",
       "  <thead>\n",
       "    <tr style=\"text-align: right;\">\n",
       "      <th>loan_status</th>\n",
       "      <th>ChargedOff</th>\n",
       "      <th>FullyPaid</th>\n",
       "      <th>All</th>\n",
       "      <th>c_rate</th>\n",
       "      <th>f_rate</th>\n",
       "    </tr>\n",
       "    <tr>\n",
       "      <th>grade</th>\n",
       "      <th></th>\n",
       "      <th></th>\n",
       "      <th></th>\n",
       "      <th></th>\n",
       "      <th></th>\n",
       "    </tr>\n",
       "  </thead>\n",
       "  <tbody>\n",
       "    <tr>\n",
       "      <th>A1</th>\n",
       "      <td>194</td>\n",
       "      <td>5316</td>\n",
       "      <td>5510</td>\n",
       "      <td>0.035209</td>\n",
       "      <td>0.964791</td>\n",
       "    </tr>\n",
       "    <tr>\n",
       "      <th>A2</th>\n",
       "      <td>244</td>\n",
       "      <td>5128</td>\n",
       "      <td>5372</td>\n",
       "      <td>0.045421</td>\n",
       "      <td>0.954579</td>\n",
       "    </tr>\n",
       "    <tr>\n",
       "      <th>A3</th>\n",
       "      <td>337</td>\n",
       "      <td>5486</td>\n",
       "      <td>5823</td>\n",
       "      <td>0.057874</td>\n",
       "      <td>0.942126</td>\n",
       "    </tr>\n",
       "    <tr>\n",
       "      <th>A4</th>\n",
       "      <td>539</td>\n",
       "      <td>6916</td>\n",
       "      <td>7455</td>\n",
       "      <td>0.072300</td>\n",
       "      <td>0.927700</td>\n",
       "    </tr>\n",
       "    <tr>\n",
       "      <th>A5</th>\n",
       "      <td>744</td>\n",
       "      <td>8054</td>\n",
       "      <td>8798</td>\n",
       "      <td>0.084565</td>\n",
       "      <td>0.915435</td>\n",
       "    </tr>\n",
       "    <tr>\n",
       "      <th>B1</th>\n",
       "      <td>1320</td>\n",
       "      <td>11180</td>\n",
       "      <td>12500</td>\n",
       "      <td>0.105600</td>\n",
       "      <td>0.894400</td>\n",
       "    </tr>\n",
       "    <tr>\n",
       "      <th>B2</th>\n",
       "      <td>1483</td>\n",
       "      <td>12244</td>\n",
       "      <td>13727</td>\n",
       "      <td>0.108035</td>\n",
       "      <td>0.891965</td>\n",
       "    </tr>\n",
       "    <tr>\n",
       "      <th>B3</th>\n",
       "      <td>1966</td>\n",
       "      <td>14094</td>\n",
       "      <td>16060</td>\n",
       "      <td>0.122416</td>\n",
       "      <td>0.877584</td>\n",
       "    </tr>\n",
       "    <tr>\n",
       "      <th>B4</th>\n",
       "      <td>2319</td>\n",
       "      <td>13709</td>\n",
       "      <td>16028</td>\n",
       "      <td>0.144684</td>\n",
       "      <td>0.855316</td>\n",
       "    </tr>\n",
       "    <tr>\n",
       "      <th>B5</th>\n",
       "      <td>2677</td>\n",
       "      <td>12327</td>\n",
       "      <td>15004</td>\n",
       "      <td>0.178419</td>\n",
       "      <td>0.821581</td>\n",
       "    </tr>\n",
       "    <tr>\n",
       "      <th>C1</th>\n",
       "      <td>3009</td>\n",
       "      <td>12655</td>\n",
       "      <td>15664</td>\n",
       "      <td>0.192097</td>\n",
       "      <td>0.807903</td>\n",
       "    </tr>\n",
       "    <tr>\n",
       "      <th>C2</th>\n",
       "      <td>2725</td>\n",
       "      <td>10887</td>\n",
       "      <td>13612</td>\n",
       "      <td>0.200191</td>\n",
       "      <td>0.799809</td>\n",
       "    </tr>\n",
       "    <tr>\n",
       "      <th>C3</th>\n",
       "      <td>2710</td>\n",
       "      <td>9679</td>\n",
       "      <td>12389</td>\n",
       "      <td>0.218742</td>\n",
       "      <td>0.781258</td>\n",
       "    </tr>\n",
       "    <tr>\n",
       "      <th>C4</th>\n",
       "      <td>3088</td>\n",
       "      <td>9893</td>\n",
       "      <td>12981</td>\n",
       "      <td>0.237886</td>\n",
       "      <td>0.762114</td>\n",
       "    </tr>\n",
       "    <tr>\n",
       "      <th>C5</th>\n",
       "      <td>2984</td>\n",
       "      <td>8957</td>\n",
       "      <td>11941</td>\n",
       "      <td>0.249895</td>\n",
       "      <td>0.750105</td>\n",
       "    </tr>\n",
       "    <tr>\n",
       "      <th>D1</th>\n",
       "      <td>2261</td>\n",
       "      <td>6284</td>\n",
       "      <td>8545</td>\n",
       "      <td>0.264599</td>\n",
       "      <td>0.735401</td>\n",
       "    </tr>\n",
       "    <tr>\n",
       "      <th>D2</th>\n",
       "      <td>2384</td>\n",
       "      <td>6019</td>\n",
       "      <td>8403</td>\n",
       "      <td>0.283708</td>\n",
       "      <td>0.716292</td>\n",
       "    </tr>\n",
       "    <tr>\n",
       "      <th>D3</th>\n",
       "      <td>1961</td>\n",
       "      <td>4741</td>\n",
       "      <td>6702</td>\n",
       "      <td>0.292599</td>\n",
       "      <td>0.707401</td>\n",
       "    </tr>\n",
       "    <tr>\n",
       "      <th>D4</th>\n",
       "      <td>1904</td>\n",
       "      <td>4356</td>\n",
       "      <td>6260</td>\n",
       "      <td>0.304153</td>\n",
       "      <td>0.695847</td>\n",
       "    </tr>\n",
       "    <tr>\n",
       "      <th>D5</th>\n",
       "      <td>1650</td>\n",
       "      <td>3668</td>\n",
       "      <td>5318</td>\n",
       "      <td>0.310267</td>\n",
       "      <td>0.689733</td>\n",
       "    </tr>\n",
       "    <tr>\n",
       "      <th>E1</th>\n",
       "      <td>1157</td>\n",
       "      <td>2177</td>\n",
       "      <td>3334</td>\n",
       "      <td>0.347031</td>\n",
       "      <td>0.652969</td>\n",
       "    </tr>\n",
       "    <tr>\n",
       "      <th>E2</th>\n",
       "      <td>964</td>\n",
       "      <td>1920</td>\n",
       "      <td>2884</td>\n",
       "      <td>0.334258</td>\n",
       "      <td>0.665742</td>\n",
       "    </tr>\n",
       "    <tr>\n",
       "      <th>E3</th>\n",
       "      <td>1029</td>\n",
       "      <td>1836</td>\n",
       "      <td>2865</td>\n",
       "      <td>0.359162</td>\n",
       "      <td>0.640838</td>\n",
       "    </tr>\n",
       "    <tr>\n",
       "      <th>E4</th>\n",
       "      <td>935</td>\n",
       "      <td>1634</td>\n",
       "      <td>2569</td>\n",
       "      <td>0.363955</td>\n",
       "      <td>0.636045</td>\n",
       "    </tr>\n",
       "    <tr>\n",
       "      <th>E5</th>\n",
       "      <td>871</td>\n",
       "      <td>1315</td>\n",
       "      <td>2186</td>\n",
       "      <td>0.398445</td>\n",
       "      <td>0.601555</td>\n",
       "    </tr>\n",
       "    <tr>\n",
       "      <th>F1</th>\n",
       "      <td>669</td>\n",
       "      <td>1007</td>\n",
       "      <td>1676</td>\n",
       "      <td>0.399165</td>\n",
       "      <td>0.600835</td>\n",
       "    </tr>\n",
       "    <tr>\n",
       "      <th>F2</th>\n",
       "      <td>558</td>\n",
       "      <td>759</td>\n",
       "      <td>1317</td>\n",
       "      <td>0.423690</td>\n",
       "      <td>0.576310</td>\n",
       "    </tr>\n",
       "    <tr>\n",
       "      <th>F3</th>\n",
       "      <td>472</td>\n",
       "      <td>628</td>\n",
       "      <td>1100</td>\n",
       "      <td>0.429091</td>\n",
       "      <td>0.570909</td>\n",
       "    </tr>\n",
       "    <tr>\n",
       "      <th>F4</th>\n",
       "      <td>371</td>\n",
       "      <td>433</td>\n",
       "      <td>804</td>\n",
       "      <td>0.461443</td>\n",
       "      <td>0.538557</td>\n",
       "    </tr>\n",
       "    <tr>\n",
       "      <th>F5</th>\n",
       "      <td>327</td>\n",
       "      <td>434</td>\n",
       "      <td>761</td>\n",
       "      <td>0.429698</td>\n",
       "      <td>0.570302</td>\n",
       "    </tr>\n",
       "    <tr>\n",
       "      <th>G1</th>\n",
       "      <td>280</td>\n",
       "      <td>286</td>\n",
       "      <td>566</td>\n",
       "      <td>0.494700</td>\n",
       "      <td>0.505300</td>\n",
       "    </tr>\n",
       "    <tr>\n",
       "      <th>G2</th>\n",
       "      <td>155</td>\n",
       "      <td>153</td>\n",
       "      <td>308</td>\n",
       "      <td>0.503247</td>\n",
       "      <td>0.496753</td>\n",
       "    </tr>\n",
       "    <tr>\n",
       "      <th>G3</th>\n",
       "      <td>105</td>\n",
       "      <td>112</td>\n",
       "      <td>217</td>\n",
       "      <td>0.483871</td>\n",
       "      <td>0.516129</td>\n",
       "    </tr>\n",
       "    <tr>\n",
       "      <th>G4</th>\n",
       "      <td>96</td>\n",
       "      <td>86</td>\n",
       "      <td>182</td>\n",
       "      <td>0.527473</td>\n",
       "      <td>0.472527</td>\n",
       "    </tr>\n",
       "    <tr>\n",
       "      <th>G5</th>\n",
       "      <td>57</td>\n",
       "      <td>53</td>\n",
       "      <td>110</td>\n",
       "      <td>0.518182</td>\n",
       "      <td>0.481818</td>\n",
       "    </tr>\n",
       "  </tbody>\n",
       "</table>\n",
       "</div>"
      ],
      "text/plain": [
       "loan_status  ChargedOff  FullyPaid    All    c_rate    f_rate\n",
       "grade                                                        \n",
       "A1                  194       5316   5510  0.035209  0.964791\n",
       "A2                  244       5128   5372  0.045421  0.954579\n",
       "A3                  337       5486   5823  0.057874  0.942126\n",
       "A4                  539       6916   7455  0.072300  0.927700\n",
       "A5                  744       8054   8798  0.084565  0.915435\n",
       "B1                 1320      11180  12500  0.105600  0.894400\n",
       "B2                 1483      12244  13727  0.108035  0.891965\n",
       "B3                 1966      14094  16060  0.122416  0.877584\n",
       "B4                 2319      13709  16028  0.144684  0.855316\n",
       "B5                 2677      12327  15004  0.178419  0.821581\n",
       "C1                 3009      12655  15664  0.192097  0.807903\n",
       "C2                 2725      10887  13612  0.200191  0.799809\n",
       "C3                 2710       9679  12389  0.218742  0.781258\n",
       "C4                 3088       9893  12981  0.237886  0.762114\n",
       "C5                 2984       8957  11941  0.249895  0.750105\n",
       "D1                 2261       6284   8545  0.264599  0.735401\n",
       "D2                 2384       6019   8403  0.283708  0.716292\n",
       "D3                 1961       4741   6702  0.292599  0.707401\n",
       "D4                 1904       4356   6260  0.304153  0.695847\n",
       "D5                 1650       3668   5318  0.310267  0.689733\n",
       "E1                 1157       2177   3334  0.347031  0.652969\n",
       "E2                  964       1920   2884  0.334258  0.665742\n",
       "E3                 1029       1836   2865  0.359162  0.640838\n",
       "E4                  935       1634   2569  0.363955  0.636045\n",
       "E5                  871       1315   2186  0.398445  0.601555\n",
       "F1                  669       1007   1676  0.399165  0.600835\n",
       "F2                  558        759   1317  0.423690  0.576310\n",
       "F3                  472        628   1100  0.429091  0.570909\n",
       "F4                  371        433    804  0.461443  0.538557\n",
       "F5                  327        434    761  0.429698  0.570302\n",
       "G1                  280        286    566  0.494700  0.505300\n",
       "G2                  155        153    308  0.503247  0.496753\n",
       "G3                  105        112    217  0.483871  0.516129\n",
       "G4                   96         86    182  0.527473  0.472527\n",
       "G5                   57         53    110  0.518182  0.481818"
      ]
     },
     "metadata": {},
     "output_type": "display_data"
    }
   ],
   "source": [
    "cross_grade = pd.crosstab(train[\"grade\"], train[\"loan_status\"], margins=True)\n",
    "c_rate = cross_grade[\"ChargedOff\"] / cross_grade[\"All\"]\n",
    "f_rate = cross_grade[\"FullyPaid\"] / cross_grade[\"All\"]\n",
    "\n",
    "cross_grade[\"c_rate\"] = c_rate\n",
    "cross_grade[\"f_rate\"] = f_rate\n",
    "\n",
    "cross_grade = cross_grade.drop(index=[\"All\"])\n",
    "display(cross_grade)"
   ]
  },
  {
   "cell_type": "code",
   "execution_count": 27,
   "metadata": {},
   "outputs": [
    {
     "data": {
      "image/png": "[encoded data removed]",
      "text/plain": [
       "<Figure size 432x288 with 1 Axes>"
      ]
     },
     "metadata": {
      "needs_background": "light"
     },
     "output_type": "display_data"
    }
   ],
   "source": [
    "tmp = cross_grade[[\"c_rate\", \"f_rate\"]]\n",
    "tmp.plot.bar(stacked=True)\n",
    "plt.xlabel(\"grade\")\n",
    "plt.ylabel(\"percentage\")\n",
    "plt.show()"
   ]
  },
  {
   "cell_type": "code",
   "execution_count": 28,
   "metadata": {},
   "outputs": [
    {
     "data": {
      "text/html": [
       "<div>\n",
       "<style scoped>\n",
       "    .dataframe tbody tr th:only-of-type {\n",
       "        vertical-align: middle;\n",
       "    }\n",
       "\n",
       "    .dataframe tbody tr th {\n",
       "        vertical-align: top;\n",
       "    }\n",
       "\n",
       "    .dataframe thead th {\n",
       "        text-align: right;\n",
       "    }\n",
       "</style>\n",
       "<table border=\"1\" class=\"dataframe\">\n",
       "  <thead>\n",
       "    <tr style=\"text-align: right;\">\n",
       "      <th>loan_status</th>\n",
       "      <th>ChargedOff</th>\n",
       "      <th>FullyPaid</th>\n",
       "      <th>All</th>\n",
       "      <th>c_rate</th>\n",
       "      <th>f_rate</th>\n",
       "    </tr>\n",
       "    <tr>\n",
       "      <th>purpose</th>\n",
       "      <th></th>\n",
       "      <th></th>\n",
       "      <th></th>\n",
       "      <th></th>\n",
       "      <th></th>\n",
       "    </tr>\n",
       "  </thead>\n",
       "  <tbody>\n",
       "    <tr>\n",
       "      <th>car</th>\n",
       "      <td>387</td>\n",
       "      <td>2338</td>\n",
       "      <td>2725</td>\n",
       "      <td>0.142018</td>\n",
       "      <td>0.857982</td>\n",
       "    </tr>\n",
       "    <tr>\n",
       "      <th>credit_card</th>\n",
       "      <td>7469</td>\n",
       "      <td>38214</td>\n",
       "      <td>45683</td>\n",
       "      <td>0.163496</td>\n",
       "      <td>0.836504</td>\n",
       "    </tr>\n",
       "    <tr>\n",
       "      <th>debt_consolidation</th>\n",
       "      <td>27339</td>\n",
       "      <td>106541</td>\n",
       "      <td>133880</td>\n",
       "      <td>0.204205</td>\n",
       "      <td>0.795795</td>\n",
       "    </tr>\n",
       "    <tr>\n",
       "      <th>home_improvement</th>\n",
       "      <td>2604</td>\n",
       "      <td>12439</td>\n",
       "      <td>15043</td>\n",
       "      <td>0.173104</td>\n",
       "      <td>0.826896</td>\n",
       "    </tr>\n",
       "    <tr>\n",
       "      <th>house</th>\n",
       "      <td>333</td>\n",
       "      <td>1290</td>\n",
       "      <td>1623</td>\n",
       "      <td>0.205176</td>\n",
       "      <td>0.794824</td>\n",
       "    </tr>\n",
       "    <tr>\n",
       "      <th>major_purchase</th>\n",
       "      <td>1003</td>\n",
       "      <td>4423</td>\n",
       "      <td>5426</td>\n",
       "      <td>0.184851</td>\n",
       "      <td>0.815149</td>\n",
       "    </tr>\n",
       "    <tr>\n",
       "      <th>medical</th>\n",
       "      <td>531</td>\n",
       "      <td>2046</td>\n",
       "      <td>2577</td>\n",
       "      <td>0.206054</td>\n",
       "      <td>0.793946</td>\n",
       "    </tr>\n",
       "    <tr>\n",
       "      <th>moving</th>\n",
       "      <td>358</td>\n",
       "      <td>1325</td>\n",
       "      <td>1683</td>\n",
       "      <td>0.212715</td>\n",
       "      <td>0.787285</td>\n",
       "    </tr>\n",
       "    <tr>\n",
       "      <th>other</th>\n",
       "      <td>3077</td>\n",
       "      <td>11250</td>\n",
       "      <td>14327</td>\n",
       "      <td>0.214769</td>\n",
       "      <td>0.785231</td>\n",
       "    </tr>\n",
       "    <tr>\n",
       "      <th>renewable_energy</th>\n",
       "      <td>48</td>\n",
       "      <td>149</td>\n",
       "      <td>197</td>\n",
       "      <td>0.243655</td>\n",
       "      <td>0.756345</td>\n",
       "    </tr>\n",
       "    <tr>\n",
       "      <th>small_business</th>\n",
       "      <td>974</td>\n",
       "      <td>2244</td>\n",
       "      <td>3218</td>\n",
       "      <td>0.302672</td>\n",
       "      <td>0.697328</td>\n",
       "    </tr>\n",
       "    <tr>\n",
       "      <th>vacation</th>\n",
       "      <td>296</td>\n",
       "      <td>1282</td>\n",
       "      <td>1578</td>\n",
       "      <td>0.187579</td>\n",
       "      <td>0.812421</td>\n",
       "    </tr>\n",
       "    <tr>\n",
       "      <th>wedding</th>\n",
       "      <td>126</td>\n",
       "      <td>885</td>\n",
       "      <td>1011</td>\n",
       "      <td>0.124629</td>\n",
       "      <td>0.875371</td>\n",
       "    </tr>\n",
       "  </tbody>\n",
       "</table>\n",
       "</div>"
      ],
      "text/plain": [
       "loan_status         ChargedOff  FullyPaid     All    c_rate    f_rate\n",
       "purpose                                                              \n",
       "car                        387       2338    2725  0.142018  0.857982\n",
       "credit_card               7469      38214   45683  0.163496  0.836504\n",
       "debt_consolidation       27339     106541  133880  0.204205  0.795795\n",
       "home_improvement          2604      12439   15043  0.173104  0.826896\n",
       "house                      333       1290    1623  0.205176  0.794824\n",
       "major_purchase            1003       4423    5426  0.184851  0.815149\n",
       "medical                    531       2046    2577  0.206054  0.793946\n",
       "moving                     358       1325    1683  0.212715  0.787285\n",
       "other                     3077      11250   14327  0.214769  0.785231\n",
       "renewable_energy            48        149     197  0.243655  0.756345\n",
       "small_business             974       2244    3218  0.302672  0.697328\n",
       "vacation                   296       1282    1578  0.187579  0.812421\n",
       "wedding                    126        885    1011  0.124629  0.875371"
      ]
     },
     "metadata": {},
     "output_type": "display_data"
    }
   ],
   "source": [
    "cross_purpose = pd.crosstab(train[\"purpose\"], train[\"loan_status\"], margins=True)\n",
    "c_rate = cross_purpose[\"ChargedOff\"] / cross_purpose[\"All\"]\n",
    "f_rate = cross_purpose[\"FullyPaid\"] / cross_purpose[\"All\"]\n",
    "\n",
    "cross_purpose[\"c_rate\"] = c_rate\n",
    "cross_purpose[\"f_rate\"] = f_rate\n",
    "c_rate = cross_purpose[\"ChargedOff\"] / cross_purpose[\"All\"]\n",
    "f_rate = cross_purpose[\"FullyPaid\"] / cross_purpose[\"All\"]\n",
    "\n",
    "cross_purpose[\"c_rate\"] = c_rate\n",
    "cross_purpose[\"f_rate\"] = f_rate\n",
    "cross_purpose = cross_purpose.drop(index=[\"All\"])\n",
    "display(cross_purpose)"
   ]
  },
  {
   "cell_type": "code",
   "execution_count": 29,
   "metadata": {},
   "outputs": [
    {
     "data": {
      "image/png": "[encoded data removed]",
      "text/plain": [
       "<Figure size 432x288 with 1 Axes>"
      ]
     },
     "metadata": {
      "needs_background": "light"
     },
     "output_type": "display_data"
    }
   ],
   "source": [
    "tmp = cross_purpose[[\"c_rate\", \"f_rate\"]]\n",
    "tmp.plot.bar(stacked=True)\n",
    "plt.xlabel(\"purpose\")\n",
    "plt.ylabel(\"percentage\")\n",
    "plt.show()"
   ]
  },
  {
   "cell_type": "code",
   "execution_count": 30,
   "metadata": {},
   "outputs": [
    {
     "data": {
      "text/html": [
       "<div>\n",
       "<style scoped>\n",
       "    .dataframe tbody tr th:only-of-type {\n",
       "        vertical-align: middle;\n",
       "    }\n",
       "\n",
       "    .dataframe tbody tr th {\n",
       "        vertical-align: top;\n",
       "    }\n",
       "\n",
       "    .dataframe thead th {\n",
       "        text-align: right;\n",
       "    }\n",
       "</style>\n",
       "<table border=\"1\" class=\"dataframe\">\n",
       "  <thead>\n",
       "    <tr style=\"text-align: right;\">\n",
       "      <th>loan_status</th>\n",
       "      <th>ChargedOff</th>\n",
       "      <th>FullyPaid</th>\n",
       "      <th>All</th>\n",
       "      <th>c_rate</th>\n",
       "      <th>f_rate</th>\n",
       "    </tr>\n",
       "    <tr>\n",
       "      <th>application_type</th>\n",
       "      <th></th>\n",
       "      <th></th>\n",
       "      <th></th>\n",
       "      <th></th>\n",
       "      <th></th>\n",
       "    </tr>\n",
       "  </thead>\n",
       "  <tbody>\n",
       "    <tr>\n",
       "      <th>Individual</th>\n",
       "      <td>43223</td>\n",
       "      <td>180567</td>\n",
       "      <td>223790</td>\n",
       "      <td>0.193141</td>\n",
       "      <td>0.806859</td>\n",
       "    </tr>\n",
       "    <tr>\n",
       "      <th>Joint App</th>\n",
       "      <td>1322</td>\n",
       "      <td>3859</td>\n",
       "      <td>5181</td>\n",
       "      <td>0.255163</td>\n",
       "      <td>0.744837</td>\n",
       "    </tr>\n",
       "  </tbody>\n",
       "</table>\n",
       "</div>"
      ],
      "text/plain": [
       "loan_status       ChargedOff  FullyPaid     All    c_rate    f_rate\n",
       "application_type                                                   \n",
       "Individual             43223     180567  223790  0.193141  0.806859\n",
       "Joint App               1322       3859    5181  0.255163  0.744837"
      ]
     },
     "metadata": {},
     "output_type": "display_data"
    }
   ],
   "source": [
    "cross_at = pd.crosstab(train[\"application_type\"], train[\"loan_status\"], margins=True)\n",
    "\n",
    "c_rate = cross_at[\"ChargedOff\"] / cross_at[\"All\"]\n",
    "f_rate = cross_at[\"FullyPaid\"] / cross_at[\"All\"]\n",
    "\n",
    "cross_at[\"c_rate\"] = c_rate\n",
    "cross_at[\"f_rate\"] = f_rate\n",
    "c_rate = cross_at[\"ChargedOff\"] / cross_at[\"All\"]\n",
    "f_rate = cross_at[\"FullyPaid\"] / cross_at[\"All\"]\n",
    "\n",
    "cross_at[\"c_rate\"] = c_rate\n",
    "cross_at[\"f_rate\"] = f_rate\n",
    "cross_at = cross_at.drop(index=[\"All\"])\n",
    "display(cross_at)"
   ]
  },
  {
   "cell_type": "code",
   "execution_count": 31,
   "metadata": {},
   "outputs": [
    {
     "data": {
      "image/png": "[encoded data removed]",
      "text/plain": [
       "<Figure size 432x288 with 1 Axes>"
      ]
     },
     "metadata": {
      "needs_background": "light"
     },
     "output_type": "display_data"
    }
   ],
   "source": [
    "tmp = cross_at[[\"c_rate\", \"f_rate\"]]\n",
    "tmp.plot.bar(stacked=True)\n",
    "plt.xlabel(\"application_type\")\n",
    "plt.ylabel(\"percentage\")\n",
    "plt.show()"
   ]
  },
  {
   "cell_type": "code",
   "execution_count": 32,
   "metadata": {},
   "outputs": [
    {
     "data": {
      "text/plain": [
       "Index(['loan_amnt', 'term', 'interest_rate', 'grade', 'employment_length',\n",
       "       'purpose', 'credit_score', 'application_type', 'loan_status'],\n",
       "      dtype='object')"
      ]
     },
     "execution_count": 32,
     "metadata": {},
     "output_type": "execute_result"
    }
   ],
   "source": [
    "train.columns"
   ]
  },
  {
   "cell_type": "code",
   "execution_count": 33,
   "metadata": {},
   "outputs": [],
   "source": [
    "X = train[[\"interest_rate\", \"loan_amnt\", \"credit_score\", \"term\", \"purpose\", \"application_type\", \"grade\"]]\n",
    "target = train[\"loan_status\"]"
   ]
  },
  {
   "cell_type": "code",
   "execution_count": 35,
   "metadata": {},
   "outputs": [],
   "source": [
    "X_dum = pd.get_dummies(X)\n",
    "target_dum = pd.get_dummies(target)"
   ]
  },
  {
   "cell_type": "code",
   "execution_count": 38,
   "metadata": {},
   "outputs": [],
   "source": [
    "target_dum = target_dum.drop([\"FullyPaid\"], axis=1)"
   ]
  },
  {
   "cell_type": "code",
   "execution_count": 40,
   "metadata": {},
   "outputs": [],
   "source": [
    "from sklearn.model_selection import train_test_split\n",
    "from sklearn.linear_model import LogisticRegression\n",
    "from sklearn.metrics import f1_score"
   ]
  },
  {
   "cell_type": "code",
   "execution_count": 44,
   "metadata": {},
   "outputs": [],
   "source": [
    "X_train, X_test, y_train, y_test = train_test_split(X_dum, target_dum, random_state=0, stratify=target_dum[\"ChargedOff\"])"
   ]
  },
  {
   "cell_type": "code",
   "execution_count": 45,
   "metadata": {},
   "outputs": [
    {
     "name": "stdout",
     "output_type": "stream",
     "text": [
      "(171728, 55) (57243, 55) (171728, 1) (57243, 1)\n"
     ]
    }
   ],
   "source": [
    "print(X_train.shape, X_test.shape, y_train.shape, y_test.shape)"
   ]
  },
  {
   "cell_type": "code",
   "execution_count": 46,
   "metadata": {},
   "outputs": [
    {
     "name": "stderr",
     "output_type": "stream",
     "text": [
      "/opt/anaconda3/lib/python3.7/site-packages/sklearn/utils/validation.py:760: DataConversionWarning: A column-vector y was passed when a 1d array was expected. Please change the shape of y to (n_samples, ), for example using ravel().\n",
      "  y = column_or_1d(y, warn=True)\n"
     ]
    }
   ],
   "source": [
    "lr = LogisticRegression()\n",
    "lr.fit(X_train, y_train)\n",
    "y_pred = lr.predict(X_test)"
   ]
  },
  {
   "cell_type": "code",
   "execution_count": 47,
   "metadata": {},
   "outputs": [
    {
     "name": "stdout",
     "output_type": "stream",
     "text": [
      "0.04574549799436716\n"
     ]
    }
   ],
   "source": [
    "f_one = f1_score(y_test, y_pred)\n",
    "print(f_one)"
   ]
  },
  {
   "cell_type": "code",
   "execution_count": 48,
   "metadata": {},
   "outputs": [],
   "source": [
    "from sklearn.metrics import confusion_matrix"
   ]
  },
  {
   "cell_type": "code",
   "execution_count": 49,
   "metadata": {},
   "outputs": [
    {
     "data": {
      "text/plain": [
       "array([[45794,   245],\n",
       "       [10936,   268]])"
      ]
     },
     "execution_count": 49,
     "metadata": {},
     "output_type": "execute_result"
    }
   ],
   "source": [
    "cm = confusion_matrix(y_test, y_pred)\n",
    "cm"
   ]
  },
  {
   "cell_type": "code",
   "execution_count": 50,
   "metadata": {},
   "outputs": [
    {
     "data": {
      "text/html": [
       "<div>\n",
       "<style scoped>\n",
       "    .dataframe tbody tr th:only-of-type {\n",
       "        vertical-align: middle;\n",
       "    }\n",
       "\n",
       "    .dataframe tbody tr th {\n",
       "        vertical-align: top;\n",
       "    }\n",
       "\n",
       "    .dataframe thead th {\n",
       "        text-align: right;\n",
       "    }\n",
       "</style>\n",
       "<table border=\"1\" class=\"dataframe\">\n",
       "  <thead>\n",
       "    <tr style=\"text-align: right;\">\n",
       "      <th></th>\n",
       "      <th>0</th>\n",
       "      <th>1</th>\n",
       "    </tr>\n",
       "  </thead>\n",
       "  <tbody>\n",
       "    <tr>\n",
       "      <th>0</th>\n",
       "      <td>0.740195</td>\n",
       "      <td>0.259805</td>\n",
       "    </tr>\n",
       "    <tr>\n",
       "      <th>1</th>\n",
       "      <td>0.761309</td>\n",
       "      <td>0.238691</td>\n",
       "    </tr>\n",
       "    <tr>\n",
       "      <th>2</th>\n",
       "      <td>0.854457</td>\n",
       "      <td>0.145543</td>\n",
       "    </tr>\n",
       "    <tr>\n",
       "      <th>3</th>\n",
       "      <td>0.903357</td>\n",
       "      <td>0.096643</td>\n",
       "    </tr>\n",
       "    <tr>\n",
       "      <th>4</th>\n",
       "      <td>0.757428</td>\n",
       "      <td>0.242572</td>\n",
       "    </tr>\n",
       "  </tbody>\n",
       "</table>\n",
       "</div>"
      ],
      "text/plain": [
       "          0         1\n",
       "0  0.740195  0.259805\n",
       "1  0.761309  0.238691\n",
       "2  0.854457  0.145543\n",
       "3  0.903357  0.096643\n",
       "4  0.757428  0.242572"
      ]
     },
     "execution_count": 50,
     "metadata": {},
     "output_type": "execute_result"
    }
   ],
   "source": [
    "pred_proba = lr.predict_proba(X_test)\n",
    "proba_df = pd.DataFrame(pred_proba)\n",
    "proba_df.head()"
   ]
  },
  {
   "cell_type": "code",
   "execution_count": 51,
   "metadata": {},
   "outputs": [
    {
     "name": "stdout",
     "output_type": "stream",
     "text": [
      "11204\n",
      "0.2699261653708517\n"
     ]
    }
   ],
   "source": [
    "chargedoff_val = y_test['ChargedOff'].sum()\n",
    "print(chargedoff_val)\n",
    "\n",
    "proba_desc = proba_df[1].sort_values(ascending = False)\n",
    "\n",
    "threshold = proba_desc.iloc[chargedoff_val]\n",
    "print(threshold)"
   ]
  },
  {
   "cell_type": "code",
   "execution_count": 52,
   "metadata": {},
   "outputs": [],
   "source": [
    "def classification(x):\n",
    "    if x >= threshold:\n",
    "        return 1\n",
    "    else:\n",
    "        return 0"
   ]
  },
  {
   "cell_type": "code",
   "execution_count": 56,
   "metadata": {},
   "outputs": [
    {
     "data": {
      "text/html": [
       "<div>\n",
       "<style scoped>\n",
       "    .dataframe tbody tr th:only-of-type {\n",
       "        vertical-align: middle;\n",
       "    }\n",
       "\n",
       "    .dataframe tbody tr th {\n",
       "        vertical-align: top;\n",
       "    }\n",
       "\n",
       "    .dataframe thead th {\n",
       "        text-align: right;\n",
       "    }\n",
       "</style>\n",
       "<table border=\"1\" class=\"dataframe\">\n",
       "  <thead>\n",
       "    <tr style=\"text-align: right;\">\n",
       "      <th></th>\n",
       "      <th>0</th>\n",
       "      <th>1</th>\n",
       "      <th>class_new</th>\n",
       "    </tr>\n",
       "  </thead>\n",
       "  <tbody>\n",
       "    <tr>\n",
       "      <th>0</th>\n",
       "      <td>0.740195</td>\n",
       "      <td>0.259805</td>\n",
       "      <td>0</td>\n",
       "    </tr>\n",
       "    <tr>\n",
       "      <th>1</th>\n",
       "      <td>0.761309</td>\n",
       "      <td>0.238691</td>\n",
       "      <td>0</td>\n",
       "    </tr>\n",
       "    <tr>\n",
       "      <th>2</th>\n",
       "      <td>0.854457</td>\n",
       "      <td>0.145543</td>\n",
       "      <td>0</td>\n",
       "    </tr>\n",
       "    <tr>\n",
       "      <th>3</th>\n",
       "      <td>0.903357</td>\n",
       "      <td>0.096643</td>\n",
       "      <td>0</td>\n",
       "    </tr>\n",
       "    <tr>\n",
       "      <th>4</th>\n",
       "      <td>0.757428</td>\n",
       "      <td>0.242572</td>\n",
       "      <td>0</td>\n",
       "    </tr>\n",
       "  </tbody>\n",
       "</table>\n",
       "</div>"
      ],
      "text/plain": [
       "          0         1  class_new\n",
       "0  0.740195  0.259805          0\n",
       "1  0.761309  0.238691          0\n",
       "2  0.854457  0.145543          0\n",
       "3  0.903357  0.096643          0\n",
       "4  0.757428  0.242572          0"
      ]
     },
     "execution_count": 56,
     "metadata": {},
     "output_type": "execute_result"
    }
   ],
   "source": [
    "proba_df[\"class_new\"] = proba_df[1].apply(classification)\n",
    "proba_df.head()"
   ]
  },
  {
   "cell_type": "code",
   "execution_count": 57,
   "metadata": {},
   "outputs": [
    {
     "data": {
      "text/plain": [
       "0    46038\n",
       "1    11205\n",
       "Name: class_new, dtype: int64"
      ]
     },
     "execution_count": 57,
     "metadata": {},
     "output_type": "execute_result"
    }
   ],
   "source": [
    "proba_df[\"class_new\"].value_counts()"
   ]
  },
  {
   "cell_type": "code",
   "execution_count": 58,
   "metadata": {},
   "outputs": [
    {
     "name": "stdout",
     "output_type": "stream",
     "text": [
      "0.3402204471417734\n"
     ]
    }
   ],
   "source": [
    "f1_one = f1_score(y_test, proba_df[\"class_new\"])\n",
    "print(f1_one)"
   ]
  },
  {
   "cell_type": "code",
   "execution_count": 61,
   "metadata": {},
   "outputs": [
    {
     "name": "stdout",
     "output_type": "stream",
     "text": [
      "[[45794   245]\n",
      " [10936   268]]\n",
      "[[38646  7393]\n",
      " [ 7392  3812]]\n"
     ]
    }
   ],
   "source": [
    "cm2 = confusion_matrix(y_test, proba_df[\"class_new\"])\n",
    "print(cm)\n",
    "print(cm2)"
   ]
  },
  {
   "cell_type": "code",
   "execution_count": 62,
   "metadata": {},
   "outputs": [
    {
     "name": "stdout",
     "output_type": "stream",
     "text": [
      "33341\n",
      "33341\n"
     ]
    }
   ],
   "source": [
    "tmp = pd.concat([X_train, y_train], axis=1)\n",
    "fp = tmp[tmp[\"ChargedOff\"] == 0]\n",
    "co = tmp[tmp[\"ChargedOff\"] == 1]\n",
    "\n",
    "print(co.shape[0])\n",
    "fp = fp.sample(n=co.shape[0], random_state=0)\n",
    "print(fp.shape[0])"
   ]
  },
  {
   "cell_type": "code",
   "execution_count": 63,
   "metadata": {},
   "outputs": [],
   "source": [
    "tmp = pd.concat([fp, co])\n",
    "X_train = tmp.drop([\"ChargedOff\"], axis=1)\n",
    "y_train = tmp[\"ChargedOff\"]\n"
   ]
  },
  {
   "cell_type": "code",
   "execution_count": 64,
   "metadata": {},
   "outputs": [
    {
     "data": {
      "text/plain": [
       "0.3878420986252995"
      ]
     },
     "execution_count": 64,
     "metadata": {},
     "output_type": "execute_result"
    }
   ],
   "source": [
    "lr.fit(X_train, y_train)\n",
    "y_pred = lr.predict(X_test)\n",
    "f1_3 = f1_score(y_test, y_pred)\n",
    "f1_3"
   ]
  },
  {
   "cell_type": "code",
   "execution_count": 66,
   "metadata": {},
   "outputs": [
    {
     "name": "stdout",
     "output_type": "stream",
     "text": [
      "[[45794   245]\n",
      " [10936   268]]\n",
      "[[38646  7393]\n",
      " [ 7392  3812]]\n",
      "[[25286 20753]\n",
      " [ 3516  7688]]\n"
     ]
    }
   ],
   "source": [
    "cm3 = confusion_matrix(y_test, y_pred)\n",
    "print(cm)\n",
    "print(cm2)\n",
    "print(cm3)"
   ]
  },
  {
   "cell_type": "code",
   "execution_count": 69,
   "metadata": {},
   "outputs": [],
   "source": [
    "tmp = test[[\"loan_amnt\", \"term\", \"interest_rate\", \"grade\", \"purpose\", \"credit_score\", \"application_type\"]]\n",
    "tmp_1 = test[\"employment_length\"]\n",
    "tmp_dummy = pd.get_dummies(tmp)"
   ]
  },
  {
   "cell_type": "code",
   "execution_count": 76,
   "metadata": {},
   "outputs": [],
   "source": [
    "test = tmp_dummy"
   ]
  },
  {
   "cell_type": "code",
   "execution_count": 77,
   "metadata": {},
   "outputs": [
    {
     "data": {
      "text/html": [
       "<div>\n",
       "<style scoped>\n",
       "    .dataframe tbody tr th:only-of-type {\n",
       "        vertical-align: middle;\n",
       "    }\n",
       "\n",
       "    .dataframe tbody tr th {\n",
       "        vertical-align: top;\n",
       "    }\n",
       "\n",
       "    .dataframe thead th {\n",
       "        text-align: right;\n",
       "    }\n",
       "</style>\n",
       "<table border=\"1\" class=\"dataframe\">\n",
       "  <thead>\n",
       "    <tr style=\"text-align: right;\">\n",
       "      <th></th>\n",
       "      <th>loan_amnt</th>\n",
       "      <th>interest_rate</th>\n",
       "      <th>credit_score</th>\n",
       "      <th>term_3 years</th>\n",
       "      <th>term_5 years</th>\n",
       "      <th>grade_A1</th>\n",
       "      <th>grade_A2</th>\n",
       "      <th>grade_A3</th>\n",
       "      <th>grade_A4</th>\n",
       "      <th>grade_A5</th>\n",
       "      <th>...</th>\n",
       "      <th>purpose_major_purchase</th>\n",
       "      <th>purpose_medical</th>\n",
       "      <th>purpose_moving</th>\n",
       "      <th>purpose_other</th>\n",
       "      <th>purpose_renewable_energy</th>\n",
       "      <th>purpose_small_business</th>\n",
       "      <th>purpose_vacation</th>\n",
       "      <th>purpose_wedding</th>\n",
       "      <th>application_type_Individual</th>\n",
       "      <th>application_type_Joint App</th>\n",
       "    </tr>\n",
       "  </thead>\n",
       "  <tbody>\n",
       "    <tr>\n",
       "      <th>0</th>\n",
       "      <td>1912.5</td>\n",
       "      <td>10.16</td>\n",
       "      <td>725.0</td>\n",
       "      <td>1</td>\n",
       "      <td>0</td>\n",
       "      <td>0</td>\n",
       "      <td>0</td>\n",
       "      <td>0</td>\n",
       "      <td>0</td>\n",
       "      <td>0</td>\n",
       "      <td>...</td>\n",
       "      <td>0</td>\n",
       "      <td>0</td>\n",
       "      <td>0</td>\n",
       "      <td>0</td>\n",
       "      <td>0</td>\n",
       "      <td>0</td>\n",
       "      <td>0</td>\n",
       "      <td>0</td>\n",
       "      <td>1</td>\n",
       "      <td>0</td>\n",
       "    </tr>\n",
       "    <tr>\n",
       "      <th>1</th>\n",
       "      <td>1800.0</td>\n",
       "      <td>8.99</td>\n",
       "      <td>695.0</td>\n",
       "      <td>1</td>\n",
       "      <td>0</td>\n",
       "      <td>0</td>\n",
       "      <td>0</td>\n",
       "      <td>0</td>\n",
       "      <td>0</td>\n",
       "      <td>0</td>\n",
       "      <td>...</td>\n",
       "      <td>0</td>\n",
       "      <td>0</td>\n",
       "      <td>0</td>\n",
       "      <td>0</td>\n",
       "      <td>0</td>\n",
       "      <td>0</td>\n",
       "      <td>0</td>\n",
       "      <td>0</td>\n",
       "      <td>1</td>\n",
       "      <td>0</td>\n",
       "    </tr>\n",
       "    <tr>\n",
       "      <th>2</th>\n",
       "      <td>550.0</td>\n",
       "      <td>14.65</td>\n",
       "      <td>660.0</td>\n",
       "      <td>1</td>\n",
       "      <td>0</td>\n",
       "      <td>0</td>\n",
       "      <td>0</td>\n",
       "      <td>0</td>\n",
       "      <td>0</td>\n",
       "      <td>0</td>\n",
       "      <td>...</td>\n",
       "      <td>0</td>\n",
       "      <td>0</td>\n",
       "      <td>0</td>\n",
       "      <td>0</td>\n",
       "      <td>0</td>\n",
       "      <td>0</td>\n",
       "      <td>0</td>\n",
       "      <td>0</td>\n",
       "      <td>1</td>\n",
       "      <td>0</td>\n",
       "    </tr>\n",
       "    <tr>\n",
       "      <th>3</th>\n",
       "      <td>2000.0</td>\n",
       "      <td>15.59</td>\n",
       "      <td>695.0</td>\n",
       "      <td>0</td>\n",
       "      <td>1</td>\n",
       "      <td>0</td>\n",
       "      <td>0</td>\n",
       "      <td>0</td>\n",
       "      <td>0</td>\n",
       "      <td>0</td>\n",
       "      <td>...</td>\n",
       "      <td>0</td>\n",
       "      <td>0</td>\n",
       "      <td>0</td>\n",
       "      <td>0</td>\n",
       "      <td>0</td>\n",
       "      <td>0</td>\n",
       "      <td>0</td>\n",
       "      <td>0</td>\n",
       "      <td>1</td>\n",
       "      <td>0</td>\n",
       "    </tr>\n",
       "    <tr>\n",
       "      <th>4</th>\n",
       "      <td>1500.0</td>\n",
       "      <td>12.79</td>\n",
       "      <td>720.0</td>\n",
       "      <td>0</td>\n",
       "      <td>1</td>\n",
       "      <td>0</td>\n",
       "      <td>0</td>\n",
       "      <td>0</td>\n",
       "      <td>0</td>\n",
       "      <td>0</td>\n",
       "      <td>...</td>\n",
       "      <td>0</td>\n",
       "      <td>1</td>\n",
       "      <td>0</td>\n",
       "      <td>0</td>\n",
       "      <td>0</td>\n",
       "      <td>0</td>\n",
       "      <td>0</td>\n",
       "      <td>0</td>\n",
       "      <td>1</td>\n",
       "      <td>0</td>\n",
       "    </tr>\n",
       "  </tbody>\n",
       "</table>\n",
       "<p>5 rows × 55 columns</p>\n",
       "</div>"
      ],
      "text/plain": [
       "   loan_amnt  interest_rate  credit_score  term_3 years  term_5 years  \\\n",
       "0     1912.5          10.16         725.0             1             0   \n",
       "1     1800.0           8.99         695.0             1             0   \n",
       "2      550.0          14.65         660.0             1             0   \n",
       "3     2000.0          15.59         695.0             0             1   \n",
       "4     1500.0          12.79         720.0             0             1   \n",
       "\n",
       "   grade_A1  grade_A2  grade_A3  grade_A4  grade_A5  ...  \\\n",
       "0         0         0         0         0         0  ...   \n",
       "1         0         0         0         0         0  ...   \n",
       "2         0         0         0         0         0  ...   \n",
       "3         0         0         0         0         0  ...   \n",
       "4         0         0         0         0         0  ...   \n",
       "\n",
       "   purpose_major_purchase  purpose_medical  purpose_moving  purpose_other  \\\n",
       "0                       0                0               0              0   \n",
       "1                       0                0               0              0   \n",
       "2                       0                0               0              0   \n",
       "3                       0                0               0              0   \n",
       "4                       0                1               0              0   \n",
       "\n",
       "   purpose_renewable_energy  purpose_small_business  purpose_vacation  \\\n",
       "0                         0                       0                 0   \n",
       "1                         0                       0                 0   \n",
       "2                         0                       0                 0   \n",
       "3                         0                       0                 0   \n",
       "4                         0                       0                 0   \n",
       "\n",
       "   purpose_wedding  application_type_Individual  application_type_Joint App  \n",
       "0                0                            1                           0  \n",
       "1                0                            1                           0  \n",
       "2                0                            1                           0  \n",
       "3                0                            1                           0  \n",
       "4                0                            1                           0  \n",
       "\n",
       "[5 rows x 55 columns]"
      ]
     },
     "execution_count": 77,
     "metadata": {},
     "output_type": "execute_result"
    }
   ],
   "source": [
    "test.head()"
   ]
  },
  {
   "cell_type": "code",
   "execution_count": 78,
   "metadata": {},
   "outputs": [],
   "source": [
    "pred = lr.predict(test)"
   ]
  },
  {
   "cell_type": "code",
   "execution_count": 85,
   "metadata": {},
   "outputs": [
    {
     "data": {
      "text/html": [
       "<div>\n",
       "<style scoped>\n",
       "    .dataframe tbody tr th:only-of-type {\n",
       "        vertical-align: middle;\n",
       "    }\n",
       "\n",
       "    .dataframe tbody tr th {\n",
       "        vertical-align: top;\n",
       "    }\n",
       "\n",
       "    .dataframe thead th {\n",
       "        text-align: right;\n",
       "    }\n",
       "</style>\n",
       "<table border=\"1\" class=\"dataframe\">\n",
       "  <thead>\n",
       "    <tr style=\"text-align: right;\">\n",
       "      <th></th>\n",
       "      <th>0</th>\n",
       "      <th>1</th>\n",
       "    </tr>\n",
       "  </thead>\n",
       "  <tbody>\n",
       "    <tr>\n",
       "      <th>0</th>\n",
       "      <td>1496754</td>\n",
       "      <td>0</td>\n",
       "    </tr>\n",
       "    <tr>\n",
       "      <th>1</th>\n",
       "      <td>84909594</td>\n",
       "      <td>0</td>\n",
       "    </tr>\n",
       "    <tr>\n",
       "      <th>2</th>\n",
       "      <td>1165403</td>\n",
       "      <td>0</td>\n",
       "    </tr>\n",
       "    <tr>\n",
       "      <th>3</th>\n",
       "      <td>91354446</td>\n",
       "      <td>0</td>\n",
       "    </tr>\n",
       "    <tr>\n",
       "      <th>4</th>\n",
       "      <td>85636932</td>\n",
       "      <td>0</td>\n",
       "    </tr>\n",
       "  </tbody>\n",
       "</table>\n",
       "</div>"
      ],
      "text/plain": [
       "          0  1\n",
       "0   1496754  0\n",
       "1  84909594  0\n",
       "2   1165403  0\n",
       "3  91354446  0\n",
       "4  85636932  0"
      ]
     },
     "execution_count": 85,
     "metadata": {},
     "output_type": "execute_result"
    }
   ],
   "source": [
    "submission = pd.read_csv(\"submit.csv\", header=None)\n",
    "submission.head()"
   ]
  },
  {
   "cell_type": "code",
   "execution_count": 86,
   "metadata": {},
   "outputs": [
    {
     "data": {
      "text/html": [
       "<div>\n",
       "<style scoped>\n",
       "    .dataframe tbody tr th:only-of-type {\n",
       "        vertical-align: middle;\n",
       "    }\n",
       "\n",
       "    .dataframe tbody tr th {\n",
       "        vertical-align: top;\n",
       "    }\n",
       "\n",
       "    .dataframe thead th {\n",
       "        text-align: right;\n",
       "    }\n",
       "</style>\n",
       "<table border=\"1\" class=\"dataframe\">\n",
       "  <thead>\n",
       "    <tr style=\"text-align: right;\">\n",
       "      <th></th>\n",
       "      <th>0</th>\n",
       "      <th>1</th>\n",
       "    </tr>\n",
       "  </thead>\n",
       "  <tbody>\n",
       "    <tr>\n",
       "      <th>0</th>\n",
       "      <td>1496754</td>\n",
       "      <td>1</td>\n",
       "    </tr>\n",
       "    <tr>\n",
       "      <th>1</th>\n",
       "      <td>84909594</td>\n",
       "      <td>1</td>\n",
       "    </tr>\n",
       "    <tr>\n",
       "      <th>2</th>\n",
       "      <td>1165403</td>\n",
       "      <td>1</td>\n",
       "    </tr>\n",
       "    <tr>\n",
       "      <th>3</th>\n",
       "      <td>91354446</td>\n",
       "      <td>1</td>\n",
       "    </tr>\n",
       "    <tr>\n",
       "      <th>4</th>\n",
       "      <td>85636932</td>\n",
       "      <td>1</td>\n",
       "    </tr>\n",
       "  </tbody>\n",
       "</table>\n",
       "</div>"
      ],
      "text/plain": [
       "          0  1\n",
       "0   1496754  1\n",
       "1  84909594  1\n",
       "2   1165403  1\n",
       "3  91354446  1\n",
       "4  85636932  1"
      ]
     },
     "execution_count": 86,
     "metadata": {},
     "output_type": "execute_result"
    }
   ],
   "source": [
    "submission[1] = pred\n",
    "submission.head()"
   ]
  },
  {
   "cell_type": "code",
   "execution_count": 87,
   "metadata": {},
   "outputs": [],
   "source": [
    "submission.to_csv(\"submission.csv\", index=False)"
   ]
  },
  {
   "cell_type": "code",
   "execution_count": null,
   "metadata": {},
   "outputs": [],
   "source": []
  }
 ],
 "metadata": {
  "kernelspec": {
   "display_name": "Python 3",
   "language": "python",
   "name": "python3"
  },
  "language_info": {
   "codemirror_mode": {
    "name": "ipython",
    "version": 3
   },
   "file_extension": ".py",
   "mimetype": "text/x-python",
   "name": "python",
   "nbconvert_exporter": "python",
   "pygments_lexer": "ipython3",
   "version": "3.7.6"
  }
 },
 "nbformat": 4,
 "nbformat_minor": 4
}
